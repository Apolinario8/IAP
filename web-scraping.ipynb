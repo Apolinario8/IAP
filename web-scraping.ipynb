{
 "cells": [
  {
   "attachments": {},
   "cell_type": "markdown",
   "metadata": {},
   "source": [
    "# BioPython"
   ]
  },
  {
   "attachments": {},
   "cell_type": "markdown",
   "metadata": {},
   "source": [
    "erro nos autores e no pubmed"
   ]
  },
  {
   "cell_type": "code",
   "execution_count": 1,
   "metadata": {},
   "outputs": [],
   "source": [
    "#MyISAM ROW_FORMAT=COMPRESSED"
   ]
  },
  {
   "cell_type": "code",
   "execution_count": 2,
   "metadata": {},
   "outputs": [],
   "source": [
    "from Bio import Entrez\n",
    "from Bio import SeqIO\n",
    "Entrez.email='goncalocardoso2016@gmail.com'"
   ]
  },
  {
   "cell_type": "code",
   "execution_count": 3,
   "metadata": {},
   "outputs": [],
   "source": [
    "#id = input(\"Insira o id do seu organismo\")"
   ]
  },
  {
   "cell_type": "code",
   "execution_count": 4,
   "metadata": {},
   "outputs": [
    {
     "name": "stdout",
     "output_type": "stream",
     "text": [
      "ID: D78608.1\n",
      "Name: MTV180KP\n",
      "Description: Tobacco mosaic virus gene for 180K protein, complete cds\n",
      "Number of features: 8\n",
      "/molecule_type=RNA\n",
      "/topology=linear\n",
      "/data_file_division=VRL\n",
      "/date=15-JUN-2010\n",
      "/accessions=['D78608']\n",
      "/sequence_version=1\n",
      "/keywords=['']\n",
      "/source=Tobacco mosaic virus\n",
      "/organism=Tobacco mosaic virus\n",
      "/taxonomy=['Viruses', 'Riboviria', 'Orthornavirae', 'Kitrinoviricota', 'Alsuviricetes', 'Martellivirales', 'Virgaviridae', 'Tobamovirus']\n",
      "/references=[Reference(title='Nucleotide sequence and its character of cistron coding for the 30 K protein of tobacco mosaic virus (OM strain)', ...), Reference(title=\"The 5'-terminal sequence of TMV RNA. Question on the polymorphism found in vulgare strain\", ...), Reference(title='Nucleotide sequence of the coding region for 180K protein of tobacco mosaic virus common strain OM', ...), Reference(title='Direct Submission', ...)]\n",
      "/comment=On May 16, 1996 this sequence version replaced gi:1122220.\n",
      "Seq('ATGGCATACACACAGACAGCTACCACATCAGCTTTGCTGGACACTGTCCGAGGA...TAA')\n"
     ]
    }
   ],
   "source": [
    "handle = Entrez.efetch(db='nucleotide', id=\"D78608.1\", rettype='gb', retmode='text')\n",
    "seq_record = SeqIO.read(handle, \"gb\")\n",
    "print(seq_record)"
   ]
  },
  {
   "attachments": {},
   "cell_type": "markdown",
   "metadata": {},
   "source": [
    "Tabela Gene_Bank"
   ]
  },
  {
   "cell_type": "code",
   "execution_count": 5,
   "metadata": {},
   "outputs": [],
   "source": [
    "id = seq_record.id     #VERSAO\n",
    "definicao = seq_record.description         #descrição\n",
    "accession = seq_record.annotations[\"accessions\"][0]       #accession\n",
    "keywords = seq_record.annotations[\"keywords\"]           #keywords\n",
    "organismo = seq_record.annotations[\"organism\"]          #organismo\n",
    "taxonomia = seq_record.annotations[\"taxonomy\"] \n",
    "taxonomia = ', '.join(taxonomia)                 #taxonomia\n",
    "data_modificacao = seq_record.annotations[\"date\"] \n",
    "tamanho = len(seq_record.seq)\n",
    "data_fyle_division = seq_record.annotations[\"data_file_division\"]\n",
    "molecule_type = seq_record.annotations[\"molecule_type\"]\n",
    "topologia = seq_record.annotations[\"topology\"] \n",
    "nome = seq_record.name  "
   ]
  },
  {
   "cell_type": "code",
   "execution_count": 41,
   "metadata": {},
   "outputs": [
    {
     "name": "stdout",
     "output_type": "stream",
     "text": [
      "Nº de refs: 4\n",
      "IDs do PubMed: ['7096297', '6628671', '', '']\n",
      "Authors: ['Meshi,T., Ohno,T. and Okada,Y.', 'Meshi,T., Ishikawa,M., Takamatsu,N., Ohno,T. and Okada,Y.', 'Watanabe,T., Hibi,T. and Ishihama,A.', 'Watanabe,T.']\n",
      "Journal: ['J. Biochem. 91 (4), 1441-1444 (1982)', 'FEBS Lett. 162 (2), 282-285 (1983)', 'Unpublished', 'Submitted (04-DEC-1995) Contact:Takato Watanabe National Institute of Genetics, Department of Molecular Genetics; Yata 1111, Mishima, Shizuoka 411, Japan']\n",
      "Consortium: ['', '', '', '']\n",
      "Comment: ['', '', '', '']\n",
      "Title: ['Nucleotide sequence and its character of cistron coding for the 30 K protein of tobacco mosaic virus (OM strain)', \"The 5'-terminal sequence of TMV RNA. Question on the polymorphism found in vulgare strain\", 'Nucleotide sequence of the coding region for 180K protein of tobacco mosaic virus common strain OM', 'Direct Submission']\n"
     ]
    }
   ],
   "source": [
    "import re\n",
    "refs = []                                                     \n",
    "ids_pubmed = []\n",
    "authors = []\n",
    "journal = []\n",
    "consortium = []\n",
    "comment = []\n",
    "title = []\n",
    "for x in range(len(seq_record.annotations[\"references\"])):\n",
    "    #print(seq_record.annotations[\"references\"][x],\"\\n\")\n",
    "    refs.append(x)\n",
    "    authors.append(seq_record.annotations[\"references\"][x].authors)\n",
    "    ids_pubmed.append(seq_record.annotations[\"references\"][x].pubmed_id)\n",
    "    journal.append(seq_record.annotations[\"references\"][x].journal)\n",
    "    consortium.append(seq_record.annotations[\"references\"][x].consrtm)\n",
    "    comment.append(seq_record.annotations[\"references\"][x].comment)\n",
    "    title.append(seq_record.annotations[\"references\"][x].title)\n",
    "print(\"Nº de refs:\", len(refs))\n",
    "print(\"IDs do PubMed:\", ids_pubmed)\n",
    "print(\"Authors:\", authors)\n",
    "print(\"Journal:\", journal)\n",
    "print(\"Consortium:\", consortium)\n",
    "print(\"Comment:\", comment)\n",
    "print(\"Title:\", title)\n",
    "\n",
    "\n"
   ]
  },
  {
   "cell_type": "code",
   "execution_count": 56,
   "metadata": {},
   "outputs": [
    {
     "name": "stdout",
     "output_type": "stream",
     "text": [
      "['Meshi,T', ' Ohno,T. and Okada,Y.', 'Meshi,T', ' Ishikawa,M', ' Takamatsu,N', ' Ohno,T. and Okada,Y.', 'Watanabe,T', ' Hibi,T. and Ishihama,A.', 'Watanabe,T.']\n",
      "['Meshi,T', ' Ohno,T.', 'Okada,Y.', 'Meshi,T', ' Ishikawa,M', ' Takamatsu,N', ' Ohno,T.', 'Okada,Y.', 'Watanabe,T', ' Hibi,T.', 'Ishihama,A.', 'Watanabe,T.']\n",
      "['Okada,Y.', ' Ohno,T.', 'Watanabe,T', ' Hibi,T.', 'Ishihama,A.', 'Watanabe,T.', 'Meshi,T', ' Ishikawa,M', ' Takamatsu,N']\n"
     ]
    }
   ],
   "source": [
    "b = []\n",
    "n = []\n",
    "autores = []\n",
    "for x in authors:\n",
    "    b += x.split(\".,\")\n",
    "print(b)\n",
    "for z in b:\n",
    "    autores += z.split(\" and \")\n",
    "print(autores)\n",
    "autores = list(set(autores))\n",
    "print(autores)\n",
    "\n",
    "\n"
   ]
  },
  {
   "cell_type": "code",
   "execution_count": 43,
   "metadata": {},
   "outputs": [
    {
     "name": "stdout",
     "output_type": "stream",
     "text": [
      "não ha artigos\n",
      "não ha artigos\n"
     ]
    }
   ],
   "source": [
    "import re\n",
    "Abstract = []   \n",
    "Afiliacao = []   \n",
    "DOI = []  \n",
    "for z in ids_pubmed:\n",
    "    if len(z) == 0:\n",
    "        print(\"não ha artigos\")\n",
    "        Abstract.append(' ')\n",
    "        Afiliacao.append(' ')\n",
    "        DOI.append(' ')\n",
    "    else:\n",
    "        handle = Entrez.efetch(db=\"pubmed\", id=z, retmode=\"xml\")\n",
    "        record = Entrez.read(handle)\n",
    "        record = str(record)\n",
    "        result = re.findall(r'AbstractText\\':\\s\\[[\\'\\\"]([.\\s\\.\\,\\[\\]\\(\\)\\'\\w\\-]+)[\\'\\\"]', record)      #abstract\n",
    "        #print(\"Abstract:\",\"\\n\", *abstract)\n",
    "        abstract = result\n",
    "        Abstract.append(abstract)\n",
    "        result = re.findall(r\"Affiliation':\\s'([\\s\\w\\,\\.\\-]+)'\", record)           #affiliation\n",
    "        #print(\"Afiliação:\", *result)\n",
    "        afiliacao = result\n",
    "        Afiliacao.append(afiliacao)\n",
    "        result = re.findall(r\"StringElement\\('([\\.\\(\\)\\-\\w\\/]+)',\\sattributes={'IdType':\\s'doi'}\", record)   #DOI\n",
    "        #print(\"DOI:\", *result)\n",
    "        doi = result\n",
    "        DOI.append(doi)\n",
    "        #print(DOI)\n"
   ]
  },
  {
   "cell_type": "code",
   "execution_count": 44,
   "metadata": {},
   "outputs": [
    {
     "name": "stdout",
     "output_type": "stream",
     "text": [
      "[[], [], ' ', ' ']\n",
      "[[\"The nucleotide sequence of cloned cDNA copies of the common strain of tobacco mosaic virus RNA corresponding to the 2,000 nucleotides at the 3'-end was determined. The 30 K protein cistron was revealed to be located at residues 687-1,493 from the 3'-end. The 30 K protein is composed of 267 amino acids and is probably a basic protein. The 5' flanking regions of both the coat protein and the 30 K protein cistrons were very U-rich, and a homology was found between the sequence around the capping site of the coat protein mRNA and the sequence upstream from the 30 K protein cistron.\"], [\"The complete nucleotide sequence of TMV RNA (common strain) reported in [Proc. Natl. Acad. Sci. USA (1982) 79, 5818] its 5'-end to be represented by two variants which differed in length. We have tested that result and sequenced the 5'-terminal regions of two strains of TMV RNA (common strain OM and tomato strain L) using cloned cDNA copies. The results showed that the 5'-terminal region of the TMV genome is not polymorphic and that one of the two variants cited above represents a tomato strain but not the common strain.\"], ' ', ' ']\n",
      "[['10.1093/oxfordjournals.jbchem.a133833'], ['10.1016/0014-5793(83)80772-8'], ' ', ' ']\n"
     ]
    }
   ],
   "source": [
    "print(Afiliacao)\n",
    "print(Abstract)\n",
    "print(DOI)"
   ]
  },
  {
   "cell_type": "code",
   "execution_count": 45,
   "metadata": {},
   "outputs": [],
   "source": [
    "source = str(seq_record.features[0].location) #source\n",
    "ole = str(seq_record.features[0].qualifiers[\"db_xref\"])     \n",
    "taxon = re.findall(r'taxon:(\\d+)\\'', ole)             #taxon\n"
   ]
  },
  {
   "cell_type": "code",
   "execution_count": 46,
   "metadata": {},
   "outputs": [],
   "source": [
    "genes = [] \n",
    "mrna = []  \n",
    "regulatory = []\n",
    "protein_bind = []\n",
    "cds = []\n",
    "miscfeature = []\n",
    "miscdifference = []\n",
    "sigpeptide = []\n",
    "for c in range(len(seq_record.features)):\n",
    "    if seq_record.features[c].type == \"gene\":\n",
    "        genes.append(c)\n",
    "    if seq_record.features[c].type == \"mRNA\":\n",
    "        mrna.append(c)\n",
    "    if seq_record.features[c].type == \"regulatory\":\n",
    "        regulatory.append(c)\n",
    "    if seq_record.features[c].type == \"protein_bind\":\n",
    "        protein_bind.append(c)\n",
    "    if seq_record.features[c].type == \"CDS\":\n",
    "        cds.append(c)\n",
    "    if seq_record.features[c].type == \"misc_feature\":\n",
    "        miscfeature.append(c)\n",
    "    if seq_record.features[c].type == \"miscdifference\":\n",
    "        miscdifference.append(c)\n",
    "    if seq_record.features[c].type == \"sig_peptide\":\n",
    "        sigpeptide.append(c)\n",
    "       \n",
    "GENES = len(genes)\n",
    "mRNA = len(mrna)\n",
    "Regulatory = len(regulatory)\n",
    "ProteinBind = len(protein_bind)\n",
    "CDS = len(cds)\n",
    "misc_feature = len(miscfeature)\n",
    "misc_difference = len(miscdifference)\n",
    "sig_peptide = len(sigpeptide)"
   ]
  },
  {
   "cell_type": "code",
   "execution_count": 50,
   "metadata": {},
   "outputs": [
    {
     "name": "stdout",
     "output_type": "stream",
     "text": [
      "['[0:4851](+)', '[0:3351](+)']\n",
      "[['BAA11429.1'], ['BAA11430.1']]\n",
      "[['MAYTQTATTSALLDTVRGNNSLVNDLAKRRLYDTAVEEFNARDRRPKVNFSKVISEEQTLIATRAYPEFQITFYNTQNAVHSLAGGLRSLELEYLMMQIPYGSLTYDIGGNFASHLFKGRAYVHCCMPNLDVRDIMRHEGQKDSIELYLSRLERGGKTVPNFQKEAFDRYAEIPEDAVCHNTFQTCEHQPMQQSGRVYAIALHSIYDIPADEFGAALLRKNVHTCYAAFHFSENLLLEDSYVNLDEINACFSRDGDKLTFSFASESTLNYCHSYSNILKYVCKTYFPASNREVYMKEFLVTRVNTWFCKFSRIDTFLLYKGVAHKSVDSEQFYTAMEDAWHYKKTLAMCNSERILLEDSSSVNYWFPKMRDMVIVPLFDISLETSKRTRKEVLVSKDFVFTVLNHIRTYQAKALTYANVLSFVESIRSRVIINGVTARSEWDVDKSLLQSLSMTFYLHTKLAVLKDDLLISKFSLGSKTVCQHVWDEISLAFGNAFPSVKERLLNRKLIRVAGDALEIRVPDLYVTFHDRLVTEYKASVDMPALDIRKKMEETEVMYNALSELSVLRESDKFDVDVFSQMCQSLEVDPMTAAKVIVAVMSNESGLTLTFERPTEANVALALQDQEKASEGALVVTSREVEEPSMKGSMARGELQLAGLAGDHPESSYSRNEEIESLEQFHMATADSLIRKQMSSIVYTGPIKVQQMKNFIDSLVASLSAAVSNLVKILKDTAAIDLETRQKFGVLDVASRKWLIKPTAKSHAWGVVETHARKYHVALLEYDEQGVVTCDDWRRVAVSSESVVYSDMAKLRTLRRLLRNGEPHVSSAKVVLVDGVPGCGKTKEILSRVNFDEDLILVPGKQAAEMIRRRANSSGIIVATKDNVKTVDSFMMNFGKSTRCQFKRLFIDEGLMLHTGCVNFLVAMSLCEIAYVYGDTQQIPYINRVSGFPYPAHFAKLEVDEVETRRTTLRCPADVTHYLNRRYEGFVMSTSSVKKSVSQEMVGGAAVINPISKPLHGKILTFTQSDKEALLSRGYSDVHTVHEVQGETYSDVSLVRLTPTPVSIIAGDSPHVLVALSRHTCSLKYYTVVMDPLVSIIRDLEKLSSYLLDMYKVDAGTQXQLQIDSVFKGSNLFVAAPKTGDISDMQFYYDKCLPGNSTMMNNFDAVTMRLTDISLNVKDCILDMSKSVAAPKDQIKPLTPMVRTAAEMPRQTGLLENLVAMIKRNFNAPELSGIIDIENTASLVVDKFFDSYLLKEKRKPNKNVSLFSRESLNRWLEKQEQVTIGQLADFDFVDLPAVDQYRHMIKAQPKQKLDTSIQTEYPALQTIVYHSKKINAIFGPLFSELTRQLLDSVDSSRFLFFTRKTPAQIEDFFGDLDSHVPMDVLELDISKYDKSQNEFHCAVEYEIWRRLGFEDFLGEVWKQGHRKTTLKDYTAGIKTCIWYQRKSGDVTTFIGNTVIIAACLASMLPMEKIIKGAFCGDDSLLYFPKGCEFPDVQHSANLMWNFEAKLFKKQYGYFCGRYVIHHDRGCIVYYDPLKLISKLGAKHIKDWEHLEEFRRSLCDVAVSLNNCAYYTQLDDAVREVHKTAPPGSFVYKSLVKFLSDKVLFRSLFIDGSSC'], ['MAYTQTATTSALLDTVRGNNSLVNDLAKRRLYDTAVEEFNARDRRPKVNFSKVISEEQTLIATRAYPEFQITFYNTQNAVHSLAGGLRSLELEYLMMQIPYGSLTYDIGGNFASHLFKGRAYVHCCMPNLDVRDIMRHEGQKDSIELYLSRLERGGKTVPNFQKEAFDRYAEIPEDAVCHNTFQTCEHQPMQQSGRVYAIALHSIYDIPADEFGAALLRKNVHTCYAAFHFSENLLLEDSYVNLDEINACFSRDGDKLTFSFASESTLNYCHSYSNILKYVCKTYFPASNREVYMKEFLVTRVNTWFCKFSRIDTFLLYKGVAHKSVDSEQFYTAMEDAWHYKKTLAMCNSERILLEDSSSVNYWFPKMRDMVIVPLFDISLETSKRTRKEVLVSKDFVFTVLNHIRTYQAKALTYANVLSFVESIRSRVIINGVTARSEWDVDKSLLQSLSMTFYLHTKLAVLKDDLLISKFSLGSKTVCQHVWDEISLAFGNAFPSVKERLLNRKLIRVAGDALEIRVPDLYVTFHDRLVTEYKASVDMPALDIRKKMEETEVMYNALSELSVLRESDKFDVDVFSQMCQSLEVDPMTAAKVIVAVMSNESGLTLTFERPTEANVALALQDQEKASEGALVVTSREVEEPSMKGSMARGELQLAGLAGDHPESSYSRNEEIESLEQFHMATADSLIRKQMSSIVYTGPIKVQQMKNFIDSLVASLSAAVSNLVKILKDTAAIDLETRQKFGVLDVASRKWLIKPTAKSHAWGVVETHARKYHVALLEYDEQGVVTCDDWRRVAVSSESVVYSDMAKLRTLRRLLRNGEPHVSSAKVVLVDGVPGCGKTKEILSRVNFDEDLILVPGKQAAEMIRRRANSSGIIVATKDNVKTVDSFMMNFGKSTRCQFKRLFIDEGLMLHTGCVNFLVAMSLCEIAYVYGDTQQIPYINRVSGFPYPAHFAKLEVDEVETRRTTLRCPADVTHYLNRRYEGFVMSTSSVKKSVSQEMVGGAAVINPISKPLHGKILTFTQSDKEALLSRGYSDVHTVHEVQGETYSDVSLVRLTPTPVSIIAGDSPHVLVALSRHTCSLKYYTVVMDPLVSIIRDLEKLSSYLLDMYKVDAGTQ']]\n",
      "[['180K protein'], ['130K protein']]\n"
     ]
    }
   ],
   "source": [
    "CDS_loc = [] \n",
    "CDS_id = []\n",
    "CDS_aa = [] \n",
    "CDS_prod = []         \n",
    "for k in cds:\n",
    "    CDS_loc.append(str(seq_record.features[k].location))           #base_span(lista)\n",
    "    CDS_id.append(seq_record.features[k].qualifiers['protein_id'])    #protein_id(lista de listas)\n",
    "    CDS_aa.append(seq_record.features[k].qualifiers['translation'])   #seq. aa (lista de listas)\n",
    "    CDS_prod.append(seq_record.features[k].qualifiers['product'])\n",
    "    \n",
    "print(CDS_loc)\n",
    "print(CDS_id)\n",
    "print(CDS_aa)\n",
    "print(CDS_prod)"
   ]
  },
  {
   "cell_type": "code",
   "execution_count": 49,
   "metadata": {},
   "outputs": [
    {
     "name": "stdout",
     "output_type": "stream",
     "text": [
      "[' ', ' ']\n"
     ]
    }
   ],
   "source": [
    "CDS_gene = []         #gene da cds (pode ou nao ter)\n",
    "for k in cds: \n",
    "    try:                \n",
    "        CDS_gene.append(seq_record.features[k].qualifiers['gene'])\n",
    "    except: \n",
    "        CDS_gene.append(\" \")\n",
    "print(CDS_gene)"
   ]
  },
  {
   "cell_type": "code",
   "execution_count": 48,
   "metadata": {},
   "outputs": [
    {
     "name": "stdout",
     "output_type": "stream",
     "text": [
      "[Seq('ATGGCATACACACAGACAGCTACCACATCAGCTTTGCTGGACACTGTCCGAGGA...TAA')]\n",
      "Seq('ATGGCATACACACAGACAGCTACCACATCAGCTTTGCTGGACACTGTCCGAGGA...TAA\n"
     ]
    }
   ],
   "source": [
    "Seq = []                         #seq. de nucleotidos\n",
    "seq = seq_record.seq\n",
    "Seq.append(seq)\n",
    "print(Seq)\n",
    "a = re.findall(r\"Seq\\('\\w+...\\w\\w\\w\", str(Seq))\n",
    "print(a[0])"
   ]
  },
  {
   "attachments": {},
   "cell_type": "markdown",
   "metadata": {},
   "source": [
    "# Inserção de dados nas tabelas"
   ]
  },
  {
   "cell_type": "code",
   "execution_count": 51,
   "metadata": {},
   "outputs": [],
   "source": [
    "import mysql.connector\n",
    "from mysql.connector import Error"
   ]
  },
  {
   "cell_type": "code",
   "execution_count": 59,
   "metadata": {},
   "outputs": [],
   "source": [
    "db = mysql.connector.connect(host=\"127.0.0.1\",   \n",
    "                     user=\"root\",         \n",
    "                     passwd=\"Cardoso10@\",  \n",
    "                     db=\"trabalho\",\n",
    "                     auth_plugin = \"mysql_native_password\"\n",
    "                     ) "
   ]
  },
  {
   "cell_type": "code",
   "execution_count": 76,
   "metadata": {},
   "outputs": [
    {
     "data": {
      "text/plain": [
       "True"
      ]
     },
     "execution_count": 76,
     "metadata": {},
     "output_type": "execute_result"
    }
   ],
   "source": [
    "cur = db.cursor()\n",
    "cur.execute(\"\"\"\n",
    "        INSERT INTO sequence (sequence)\n",
    "        VALUES (%s)\n",
    "        \"\"\",\n",
    "        (a))\n",
    "\n",
    "db.autocommit = True  \n",
    "cur.close()  "
   ]
  },
  {
   "cell_type": "code",
   "execution_count": 78,
   "metadata": {},
   "outputs": [],
   "source": [
    "cur = db.cursor()\n",
    "cur.execute(\"\"\"\n",
    "        INSERT INTO Locus (Locus_Name, Sequence_Length, Molecule_Type, Topology, GenBank_Division, Modification_Date)\n",
    "        VALUES (%s,%s,%s,%s,%s,%s)\n",
    "        \"\"\",\n",
    "        (nome, tamanho, molecule_type, topologia, data_fyle_division,data_modificacao))\n",
    "\n",
    "db.autocommit = True    "
   ]
  },
  {
   "cell_type": "code",
   "execution_count": 80,
   "metadata": {},
   "outputs": [],
   "source": [
    "cur = db.cursor()\n",
    "cur.execute(\"\"\"\n",
    "        INSERT INTO Features (Source, Taxon, CDS, gene, mRNA, regulatory, protein_bind, misc_features, misc_difference, sig_peptide)\n",
    "        VALUES (%s,%s,%s,%s,%s,%s,%s,%s,%s,%s)\n",
    "        \"\"\",\n",
    "        (source, taxon[0], CDS, GENES, mRNA, Regulatory, ProteinBind, misc_feature, misc_difference, sig_peptide))\n",
    "\n",
    "db.autocommit = True    \n"
   ]
  },
  {
   "cell_type": "code",
   "execution_count": 82,
   "metadata": {},
   "outputs": [],
   "source": [
    "cur = db.cursor()                     \n",
    "cur.execute(\"\"\"\n",
    "        INSERT INTO Gene_Bank (ACCESSION, VERSION, DEFINITION, KEYWORDS, ORGANISM, TAXONOMY, Sequence, Locus_Name, Source)\n",
    "        VALUES (%s,%s,%s,%s,%s,%s,%s,%s,%s)\n",
    "        \"\"\",\n",
    "        (accession, id, definicao, keywords[0], organismo, taxonomia, a[0], nome, source))\n",
    "db.autocommit = True    \n"
   ]
  },
  {
   "cell_type": "code",
   "execution_count": 84,
   "metadata": {},
   "outputs": [],
   "source": [
    "cur = db.cursor()                     \n",
    "y = 0\n",
    "for x in ids_pubmed:\n",
    "    if len(ids_pubmed[y]) == 0:\n",
    "        pass\n",
    "    else:      \n",
    "        cur.execute(\"\"\"\n",
    "                INSERT INTO Pubmed_information (Pubmed_id, title, journal, DOI, abstract, affiliation)\n",
    "                VALUES (%s,%s,%s,%s,%s,%s)\n",
    "                \"\"\",\n",
    "                (repr(ids_pubmed[y]), repr(title[y]), repr(journal[y]), repr(DOI[y]), repr(Abstract[y]), repr(Afiliacao[y])))\n",
    "    y += 1 \n",
    "db.autocommit = True    \n"
   ]
  },
  {
   "cell_type": "code",
   "execution_count": 57,
   "metadata": {},
   "outputs": [
    {
     "data": {
      "text/plain": [
       "['Okada,Y.',\n",
       " ' Ohno,T.',\n",
       " 'Watanabe,T',\n",
       " ' Hibi,T.',\n",
       " 'Ishihama,A.',\n",
       " 'Watanabe,T.',\n",
       " 'Meshi,T',\n",
       " ' Ishikawa,M',\n",
       " ' Takamatsu,N']"
      ]
     },
     "execution_count": 57,
     "metadata": {},
     "output_type": "execute_result"
    }
   ],
   "source": [
    "autores"
   ]
  },
  {
   "cell_type": "code",
   "execution_count": 58,
   "metadata": {},
   "outputs": [],
   "source": [
    "cur = db.cursor() \n",
    "for x in range(len(autores)):                    \n",
    "    cur.execute(\"\"\"\n",
    "            INSERT INTO authors (author_name)\n",
    "            VALUES (%s)\n",
    "            \"\"\",\n",
    "            (autores[x],))\n",
    "\n",
    "db.autocommit = True    \n"
   ]
  },
  {
   "cell_type": "code",
   "execution_count": null,
   "metadata": {},
   "outputs": [],
   "source": [
    "cur = db.cursor()                       #jpurnal é capaz de ser melhor que title para chave primaria\n",
    "y = 0\n",
    "for x in ids_pubmed:               \n",
    "        cur.execute(\"\"\"\n",
    "                INSERT INTO reference (title, pubmed_id, journal, consortium, comment)\n",
    "                VALUES (%s,%s,%s,%s,%s)\n",
    "                \"\"\",\n",
    "                (title[y], ids_pubmed[y], journal[y], consortium[y], comment[y]))\n",
    "\n",
    "        y += 1     \n",
    "db.autocommit = True    \n"
   ]
  },
  {
   "cell_type": "code",
   "execution_count": null,
   "metadata": {},
   "outputs": [],
   "source": [
    "cur = db.cursor()                     \n",
    "y = 0\n",
    "for x in CDS_id:\n",
    "        cur.execute(\"\"\"\n",
    "                INSERT INTO CDS (protein_id, Base_Span, translation, gene, produto, VERSION, Source)\n",
    "                VALUES (%s,%s,%s,%s,%s,%s,%s)\n",
    "                \"\"\",\n",
    "                (CDS_id[y][y], CDS_loc[y], CDS_aa[y][y], CDS_gene[y][y], CDS_prod[y][y], id, source))\n",
    "y += 1\n",
    "        \n",
    "db.autocommit = True    \n"
   ]
  },
  {
   "cell_type": "code",
   "execution_count": null,
   "metadata": {},
   "outputs": [],
   "source": [
    "cur = db.cursor() \n",
    "for x in range(len(autores)):\n",
    "    for y in range(len(ids_pubmed)):               \n",
    "        cur.execute(\"\"\"\n",
    "                INSERT INTO pubmed_authors(Pubmed_id, author_name)\n",
    "                VALUES (%s,%s)\n",
    "                \"\"\",\n",
    "                (ids_pubmed[y], autores[x]))\n",
    "\n",
    "db.autocommit = True    \n"
   ]
  },
  {
   "cell_type": "code",
   "execution_count": 112,
   "metadata": {},
   "outputs": [],
   "source": [
    "cur = db.cursor()  \n",
    "for x in range(len(title)):                   \n",
    "    cur.execute(\"\"\"\n",
    "            INSERT INTO genbank_reference (VERSION, title)\n",
    "            VALUES (%s,%s)\n",
    "            \"\"\",\n",
    "        (id, title[x]))\n",
    "\n",
    "db.autocommit = True    "
   ]
  }
 ],
 "metadata": {
  "kernelspec": {
   "display_name": "Python 3",
   "language": "python",
   "name": "python3"
  },
  "language_info": {
   "codemirror_mode": {
    "name": "ipython",
    "version": 3
   },
   "file_extension": ".py",
   "mimetype": "text/x-python",
   "name": "python",
   "nbconvert_exporter": "python",
   "pygments_lexer": "ipython3",
   "version": "3.10.7"
  },
  "orig_nbformat": 4,
  "vscode": {
   "interpreter": {
    "hash": "4e1fc3fa23fb62f3f701e1450a48be1e01c4f473533356521fe76f63c343b8fd"
   }
  }
 },
 "nbformat": 4,
 "nbformat_minor": 2
}
