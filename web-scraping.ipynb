{
 "cells": [
  {
   "cell_type": "code",
   "execution_count": 2,
   "metadata": {},
   "outputs": [
    {
     "name": "stdout",
     "output_type": "stream",
     "text": [
      "Collecting beautifulsoup4\n",
      "  Downloading beautifulsoup4-4.11.1-py3-none-any.whl (128 kB)\n",
      "     -------------------------------------- 128.2/128.2 kB 1.3 MB/s eta 0:00:00\n",
      "Collecting soupsieve>1.2\n",
      "  Downloading soupsieve-2.3.2.post1-py3-none-any.whl (37 kB)\n",
      "Installing collected packages: soupsieve, beautifulsoup4\n",
      "Successfully installed beautifulsoup4-4.11.1 soupsieve-2.3.2.post1\n",
      "Note: you may need to restart the kernel to use updated packages.\n"
     ]
    },
    {
     "name": "stderr",
     "output_type": "stream",
     "text": [
      "\n",
      "[notice] A new release of pip available: 22.2.2 -> 22.3.1\n",
      "[notice] To update, run: python.exe -m pip install --upgrade pip\n"
     ]
    }
   ],
   "source": [
    "pip install beautifulsoup4"
   ]
  },
  {
   "cell_type": "code",
   "execution_count": 1,
   "metadata": {},
   "outputs": [],
   "source": [
    "from bs4 import BeautifulSoup"
   ]
  },
  {
   "cell_type": "code",
   "execution_count": 9,
   "metadata": {},
   "outputs": [
    {
     "name": "stdout",
     "output_type": "stream",
     "text": [
      "Files in 'c:\\\\Users\\\\Win10\\\\Documents\\\\GitHub\\\\Projeto': ['.git', 'Human immunodeficiency virus type 1 (isolate genotype C, I5) gag gene, - Nucleotide - NCBI.html', 'Human immunodeficiency virus type 1 (isolate genotype C, I5) gag gene, - Nucleotide - NCBI_files', 'README.md', 'Web scraping-exemplo sor.ipynb']\n"
     ]
    }
   ],
   "source": [
    "import os\n",
    "\n",
    "cwd = os.getcwd()\n",
    "files = os.listdir(cwd)  \n",
    "print(\"Files in %r: %s\" % (cwd, files))"
   ]
  },
  {
   "attachments": {},
   "cell_type": "markdown",
   "metadata": {},
   "source": [
    "# Com download ficheiro HTML"
   ]
  },
  {
   "cell_type": "code",
   "execution_count": null,
   "metadata": {},
   "outputs": [],
   "source": [
    "with open(\"Human immunodeficiency virus type 1 (isolate genotype C, I5) gag gene, - Nucleotide - NCBI.html\") as html_file:\n",
    "    soup = BeautifulSoup(html_file, 'html.parser') \n",
    "#print(soup)"
   ]
  },
  {
   "cell_type": "code",
   "execution_count": 28,
   "metadata": {},
   "outputs": [
    {
     "name": "stdout",
     "output_type": "stream",
     "text": [
      "Human immunodeficiency virus type 1 (isolate genotype C, I5) gag gene, - Nucleotide - NCBI\n"
     ]
    }
   ],
   "source": [
    "match = soup.title.text\n",
    "print(match)"
   ]
  },
  {
   "cell_type": "code",
   "execution_count": 3,
   "metadata": {},
   "outputs": [
    {
     "name": "stdout",
     "output_type": "stream",
     "text": [
      "LOCUS       HIVI5C                   231 bp    DNA     linear   VRL 24-MAR-1997\n",
      "DEFINITION  Human immunodeficiency virus type 1 (isolate genotype C, I5) gag\n",
      "            gene, partial cds.\n",
      "ACCESSION   L42022\n",
      "VERSION     L42022.1\n",
      "KEYWORDS    gag gene; p24 protein.\n",
      "SOURCE      Human immunodeficiency virus 1 (HIV-1)\n",
      "  ORGANISM  Human immunodeficiency virus 1\n",
      "            Viruses; Riboviria; Pararnavirae; Artverviricota; Revtraviricetes;\n",
      "            Ortervirales; Retroviridae; Orthoretrovirinae; Lentivirus.\n",
      "REFERENCE   1  (bases 1 to 231)\n",
      "  AUTHORS   Voevodin,A., Crandall,K.A., Seth,P. and al Mufti,S.\n",
      "  TITLE     HIV type 1 subtypes B and C from new regions of India and Indian\n",
      "            and Ethiopian expatriates in Kuwait\n",
      "  JOURNAL   AIDS Res. Hum. Retroviruses 12 (7), 641-643 (1996)\n",
      "   PUBMED   8743090\n",
      "FEATURES             Location/Qualifiers\n",
      "     source          1..231\n",
      "                     /organism=\"Human immunodeficiency virus 1\"\n",
      "                     /proviral\n",
      "                     /mol_type=\"genomic DNA\"\n",
      "                     /isolate=\"genotype C, I5\"\n",
      "                     /db_xref=\"taxon:11676\"\n",
      "     gene            1..231\n",
      "                     /gene=\"gag\"\n",
      "     CDS             <1..>231\n",
      "                     /gene=\"gag\"\n",
      "                     /codon_start=1\n",
      "                     /protein_id=\"AAB50165.1\"\n",
      "                     /translation=\"HPVHAGPIAPGQMREPRGSDIAGTTSTLQEQVAWMTGNPPVPVG\n",
      "                     EIYKRWIILGLNKIVRMYSPVSILDIKQGPKEP\"\n",
      "ORIGIN      \n",
      "        1 catccagtac atgcagggcc tattgcacca ggccaaatga gagaaccaag gggaagtgac\n",
      "       61 atagcaggaa ctacaagtac ccttcaggaa caagtagcat ggatgacagg taacccacct\n",
      "      121 gttccagtgg gagaaatcta taaaagatgg ataattctgg gattaaataa aatagtaaga\n",
      "      181 atgtatagcc ctgtcagcat tttggacata aaacaagggc caaaggaacc c\n",
      "//\n"
     ]
    }
   ],
   "source": [
    "genbank = soup.find('pre', class_='genbank')\n",
    "genbank = genbank.text\n",
    "print(genbank)"
   ]
  },
  {
   "cell_type": "code",
   "execution_count": 4,
   "metadata": {},
   "outputs": [],
   "source": [
    "import re "
   ]
  },
  {
   "cell_type": "code",
   "execution_count": 101,
   "metadata": {},
   "outputs": [
    {
     "name": "stdout",
     "output_type": "stream",
     "text": [
      "HIVI5C\n",
      "231\n",
      "DNA\n",
      "linear\n",
      "VRL\n",
      "24-MAR-1997\n"
     ]
    }
   ],
   "source": [
    "pattern =  re.compile(r'LOCUS\\s+([a-zA-Z0-9]+)\\s+([0-9]+)\\s+([a-zA-Z]+)\\s+([A-Z]+)\\s+([a-z]+)\\s+([A-Z]+)\\s(.+)')\n",
    "matches = pattern.finditer(genbank)\n",
    "for x in matches:\n",
    "    print(x.group(1))\n",
    "    print(x.group(2))\n",
    "    print(x.group(4))\n",
    "    print(x.group(5))\n",
    "    print(x.group(6))\n",
    "    print(x.group(7))"
   ]
  },
  {
   "cell_type": "code",
   "execution_count": 29,
   "metadata": {},
   "outputs": [
    {
     "name": "stdout",
     "output_type": "stream",
     "text": [
      "['  Human immunodeficiency virus type 1 (isolate genotype C, I5) gag\\n            gene, partial cds.\\nACCESSION   L42022\\nVERSION     L42022.1\\nKEYWORDS    gag gene; p24 protein.\\nSOURCE      Human immunodeficiency virus 1 (HIV-1)\\n  ORGANISM  Human immunodeficiency virus 1\\n            Viruses; Riboviria; Pararnavirae; Artverviricota; Revtraviricetes;\\n            Ortervirales; Retroviridae; Orthoretrovirinae; Lentivirus.\\nREFERENCE   1  (bases 1 to 231)\\n  AUTHORS   Voevodin,A., Crandall,K.A., Seth,P. and al Mufti,S.\\n  TITLE     HIV type 1 subtypes B and C from new regions of India and Indian\\n            and Ethiopian expatriates in Kuwait\\n  JOURNAL   AIDS Res. Hum. Retroviruses 12 (7), 641-643 (1996)\\n   PUBMED   8743090\\nFEATURES             Location/Qualifiers\\n     source          1..231\\n                     /organism=\"Human immunodeficiency virus 1\"\\n                     /proviral\\n                     /mol_type=\"genomic DNA\"\\n                     /isolate=\"genotype C, I5\"\\n                     /db_xref=\"taxon:11676\"\\n     gene            1..231\\n                     /gene=\"gag\"\\n     CDS             <1..>231\\n                     /gene=\"gag\"\\n                     /codon_start=1\\n                     /protein_id=\"AAB50165.1\"\\n                     /translation=\"HPVHAGPIAPGQMREPRGSDIAGTTSTLQEQVAWMTGNPPVPVG\\n                     EIYKRWIILGLNKIVRMYSPVSILDIKQGPKEP\"\\nORIGIN      \\n        1 catccagtac atgcagggcc tattgcacca ggccaaatga gagaaccaag gggaagtgac\\n       61 atagcaggaa ctacaagtac ccttcaggaa caagtagcat ggatgacagg taacccacct\\n      121 gttccagtgg gagaaatcta taaaagatgg ataattctgg gattaaataa aatagtaaga\\n      181 atgtatagcc ctgtcagcat tttggacata aaacaagggc caaaggaacc c\\n//']\n"
     ]
    }
   ],
   "source": [
    "result = re.findall(r'DEFINITION', genbank)\n",
    "print(result)"
   ]
  },
  {
   "cell_type": "code",
   "execution_count": 17,
   "metadata": {},
   "outputs": [
    {
     "name": "stdout",
     "output_type": "stream",
     "text": [
      "Human immunodeficiency virus type 1 (isolate genotype C, I5) gag\n",
      "            gene, partial cds.\n"
     ]
    }
   ],
   "source": [
    "pattern = re.compile(r'DEFINITION\\s\\s(.+)\\s(.+)\\s')       \n",
    "matches = pattern.finditer(genbank)\n",
    "for x in matches:\n",
    "    print(x.group(1))\n",
    "    print(x.group(2))\n",
    "    "
   ]
  },
  {
   "cell_type": "code",
   "execution_count": 60,
   "metadata": {},
   "outputs": [
    {
     "name": "stdout",
     "output_type": "stream",
     "text": [
      "L42022\n"
     ]
    }
   ],
   "source": [
    "pattern = re.compile(r'ACCESSION\\s\\s\\s(\\w+)\\s')\n",
    "matches = pattern.finditer(genbank)\n",
    "for x in matches:\n",
    "    print(x.group(1))"
   ]
  },
  {
   "cell_type": "code",
   "execution_count": 62,
   "metadata": {},
   "outputs": [
    {
     "name": "stdout",
     "output_type": "stream",
     "text": [
      "  L42022.1\n"
     ]
    }
   ],
   "source": [
    "pattern = re.compile(r'VERSION\\s\\s\\s(.+)\\s')\n",
    "matches = pattern.finditer(genbank)\n",
    "for x in matches:\n",
    "    print(x.group(1))"
   ]
  },
  {
   "cell_type": "code",
   "execution_count": 68,
   "metadata": {},
   "outputs": [
    {
     "name": "stdout",
     "output_type": "stream",
     "text": [
      "gag gene; p24 protein.\n"
     ]
    }
   ],
   "source": [
    "pattern = re.compile(r'KEYWORDS\\s\\s\\s\\s(.+)\\s')\n",
    "matches = pattern.finditer(genbank)\n",
    "for x in matches:\n",
    "    print(x.group(1))"
   ]
  },
  {
   "cell_type": "code",
   "execution_count": 77,
   "metadata": {},
   "outputs": [
    {
     "name": "stdout",
     "output_type": "stream",
     "text": [
      "Human immunodeficiency virus 1 (HIV-1)\n"
     ]
    }
   ],
   "source": [
    "pattern = re.compile(r'SOURCE\\s\\s\\s\\s\\s\\s(.+)\\s')\n",
    "matches = pattern.finditer(genbank)\n",
    "for x in matches:\n",
    "    print(x.group(1))"
   ]
  },
  {
   "cell_type": "code",
   "execution_count": 78,
   "metadata": {},
   "outputs": [
    {
     "name": "stdout",
     "output_type": "stream",
     "text": [
      "Human immunodeficiency virus 1\n"
     ]
    }
   ],
   "source": [
    "pattern = re.compile(r'ORGANISM\\s\\s(.+)\\s')\n",
    "matches = pattern.finditer(genbank)\n",
    "for x in matches:\n",
    "    print(x.group(1))"
   ]
  },
  {
   "cell_type": "code",
   "execution_count": 95,
   "metadata": {},
   "outputs": [
    {
     "name": "stdout",
     "output_type": "stream",
     "text": [
      "Voevodin,A., Crandall,K.A., Seth,P. and al Mufti,S.\n"
     ]
    }
   ],
   "source": [
    "pattern = re.compile(r'AUTHORS\\s\\s\\s(.+)\\s') #ver\n",
    "matches = pattern.finditer(genbank)\n",
    "for x in matches:\n",
    "    print(x.group(1))"
   ]
  },
  {
   "cell_type": "code",
   "execution_count": 14,
   "metadata": {},
   "outputs": [
    {
     "name": "stdout",
     "output_type": "stream",
     "text": [
      "HIV type 1 subtypes B and C from new regions of India and Indian\n",
      "            and Ethiopian expatriates in Kuwait\n"
     ]
    }
   ],
   "source": [
    "pattern = re.compile(r'TITLE\\s\\s\\s\\s\\s(.+)\\s(.+)\\s') #ver\n",
    "matches = pattern.finditer(genbank)\n",
    "for x in matches:\n",
    "    print(x.group(1))\n",
    "    print(x.group(2))"
   ]
  },
  {
   "cell_type": "code",
   "execution_count": 27,
   "metadata": {},
   "outputs": [
    {
     "name": "stdout",
     "output_type": "stream",
     "text": [
      "AIDS Res. Hum. Retroviruses 12 (7), 641-643 (1996)\n",
      "8743090\n"
     ]
    }
   ],
   "source": [
    "pattern = re.compile(r'JOURNAL\\s\\s\\s(.+)\\s(.+)PUBMED\\s\\s\\s([0-9]+)') \n",
    "matches = pattern.finditer(genbank)\n",
    "for x in matches:\n",
    "    print(x.group(1))\n",
    "    print(x.group(3))"
   ]
  },
  {
   "cell_type": "code",
   "execution_count": 52,
   "metadata": {},
   "outputs": [
    {
     "name": "stdout",
     "output_type": "stream",
     "text": [
      "1..231\n"
     ]
    }
   ],
   "source": [
    "pattern = re.compile(r'source\\s\\s\\s\\s\\s\\s\\s\\s\\s\\s(.+)\\s') \n",
    "matches = pattern.finditer(genbank)\n",
    "for x in matches:\n",
    "    print(x.group(1))\n",
    "    "
   ]
  },
  {
   "cell_type": "code",
   "execution_count": 70,
   "metadata": {},
   "outputs": [
    {
     "name": "stdout",
     "output_type": "stream",
     "text": [
      "gag\n",
      "gag\n"
     ]
    }
   ],
   "source": [
    "pattern = re.compile(r'/gene=\"(\\w+)\"') \n",
    "matches = pattern.finditer(genbank)\n",
    "for x in matches:\n",
    "    print(x.group(1))\n",
    "    "
   ]
  },
  {
   "cell_type": "code",
   "execution_count": 84,
   "metadata": {},
   "outputs": [
    {
     "name": "stdout",
     "output_type": "stream",
     "text": [
      "<1..>231\n"
     ]
    }
   ],
   "source": [
    "pattern = re.compile(r'CDS\\s\\s\\s\\s\\s\\s\\s\\s\\s\\s\\s\\s\\s(.+)\\s') \n",
    "matches = pattern.finditer(genbank)\n",
    "for x in matches:\n",
    "    print(x.group(1))"
   ]
  },
  {
   "cell_type": "code",
   "execution_count": 85,
   "metadata": {},
   "outputs": [
    {
     "name": "stdout",
     "output_type": "stream",
     "text": [
      "AAB50165.1\n"
     ]
    }
   ],
   "source": [
    "pattern = re.compile(r'/protein_id=\"(.+)\"') \n",
    "matches = pattern.finditer(genbank)\n",
    "for x in matches:\n",
    "    print(x.group(1))"
   ]
  },
  {
   "cell_type": "code",
   "execution_count": 100,
   "metadata": {},
   "outputs": [
    {
     "name": "stdout",
     "output_type": "stream",
     "text": [
      "<re.Match object; span=(1338, 1397), match='/translation=\"HPVHAGPIAPGQMREPRGSDIAGTTSTLQEQVAWM>\n"
     ]
    }
   ],
   "source": [
    "pattern = re.compile(r'/translation=\"(.+)\\s') \n",
    "matches = pattern.finditer(genbank)\n",
    "for x in matches:\n",
    "    print(x)"
   ]
  },
  {
   "cell_type": "code",
   "execution_count": 130,
   "metadata": {},
   "outputs": [
    {
     "name": "stdout",
     "output_type": "stream",
     "text": [
      "<re.Match object; span=(1338, 1452), match='/translation=\"HPVHAGPIAPGQMREPRGSDIAGTTSTLQEQVAWM>\n"
     ]
    }
   ],
   "source": [
    "pattern = re.compile(r'/translation=\"(.+)\\n(.+)\"') \n",
    "matches = pattern.finditer(genbank)\n",
    "for x in matches:\n",
    "    print(x)"
   ]
  },
  {
   "cell_type": "code",
   "execution_count": 129,
   "metadata": {},
   "outputs": [
    {
     "name": "stdout",
     "output_type": "stream",
     "text": [
      "['/translation=\"HPVHAGPIAPGQMREPRGSDIAGTTSTLQEQVAWMTGNPPVPVG\\n                     EIYKRWIILGLNKIVRMYSPVSILDIKQGPKEP\"']\n"
     ]
    }
   ],
   "source": [
    "result = re.findall(r'/translation=\".+\\n.+\"', genbank)\n",
    "print(result)"
   ]
  },
  {
   "cell_type": "code",
   "execution_count": 92,
   "metadata": {},
   "outputs": [
    {
     "name": "stdout",
     "output_type": "stream",
     "text": [
      "CATCCAGTACATGCAGGGCCTATTGCACCAGGCCAAATGAGAGAACCAAGGGGAAGTGACATAGCAGGAACTACAAGTACCCTTCAGGAACAAGTAGCATGGATGACAGGTAACCCACCTGTTCCAGTGGGAGAAATCTATAAAAGATGGATAATTCTGGGATTAAATAAAATAGTAAGAATGTATAGCCCTGTCAGCATTTTGGACATAAAACAAGGGCCAAAGGAACCC\n"
     ]
    }
   ],
   "source": [
    "sequencia = soup.find_all('span', class_=\"ff_line\")\n",
    "proteina = \"\"\n",
    "for x in sequencia:\n",
    "    aa = x.text\n",
    "    aa = aa.replace(\" \",\"\")\n",
    "    proteina += aa.upper()\n",
    "print(proteina)"
   ]
  },
  {
   "cell_type": "code",
   "execution_count": null,
   "metadata": {},
   "outputs": [],
   "source": [
    "features = soup.find_all('span', class_=\"feature\")\n",
    "print(features)"
   ]
  },
  {
   "cell_type": "code",
   "execution_count": 40,
   "metadata": {},
   "outputs": [
    {
     "name": "stdout",
     "output_type": "stream",
     "text": [
      "     source          1..231\n",
      "                     /organism=\"Human immunodeficiency virus 1\"\n",
      "                     /proviral\n",
      "                     /mol_type=\"genomic DNA\"\n",
      "                     /isolate=\"genotype C, I5\"\n",
      "                     /db_xref=\"taxon:11676\"\n",
      "\n",
      "     gene            1..231\n",
      "                     /gene=\"gag\"\n",
      "\n",
      "     CDS             <1..>231\n",
      "                     /gene=\"gag\"\n",
      "                     /codon_start=1\n",
      "                     /protein_id=\"AAB50165.1\"\n",
      "                     /translation=\"HPVHAGPIAPGQMREPRGSDIAGTTSTLQEQVAWMTGNPPVPVG\n",
      "                     EIYKRWIILGLNKIVRMYSPVSILDIKQGPKEP\"\n",
      "\n"
     ]
    }
   ],
   "source": [
    "for x in features:\n",
    "    print(x.text)\n",
    "    features_ = x.text"
   ]
  },
  {
   "attachments": {},
   "cell_type": "markdown",
   "metadata": {},
   "source": [
    "# requests"
   ]
  },
  {
   "cell_type": "code",
   "execution_count": 2,
   "metadata": {},
   "outputs": [],
   "source": [
    "import requests\n",
    "from bs4 import BeautifulSoup"
   ]
  },
  {
   "cell_type": "code",
   "execution_count": 3,
   "metadata": {},
   "outputs": [],
   "source": [
    "URL = \"https://www.ncbi.nlm.nih.gov/nuccore/804715\"\n",
    "page = requests.get(URL)"
   ]
  },
  {
   "cell_type": "code",
   "execution_count": null,
   "metadata": {},
   "outputs": [],
   "source": [
    "print(page.text)"
   ]
  },
  {
   "cell_type": "code",
   "execution_count": 27,
   "metadata": {},
   "outputs": [],
   "source": [
    "soup = BeautifulSoup(page.content, \"html.parser\")"
   ]
  },
  {
   "cell_type": "code",
   "execution_count": 26,
   "metadata": {},
   "outputs": [
    {
     "name": "stdout",
     "output_type": "stream",
     "text": [
      "None\n"
     ]
    }
   ],
   "source": [
    "results = soup.find(id=\"feature_L42022.1_source_0\")\n",
    "print(results)"
   ]
  },
  {
   "cell_type": "code",
   "execution_count": null,
   "metadata": {},
   "outputs": [],
   "source": []
  },
  {
   "attachments": {},
   "cell_type": "markdown",
   "metadata": {},
   "source": [
    "# BioPython"
   ]
  },
  {
   "cell_type": "code",
   "execution_count": 30,
   "metadata": {},
   "outputs": [],
   "source": [
    "from Bio import Entrez\n",
    "from Bio import SeqIO\n",
    "Entrez.email='goncalocardoso2016@gmail.com'"
   ]
  },
  {
   "cell_type": "code",
   "execution_count": 35,
   "metadata": {},
   "outputs": [
    {
     "name": "stdout",
     "output_type": "stream",
     "text": [
      "ID: L42022.1\n",
      "Name: HIVI5C\n",
      "Description: Human immunodeficiency virus type 1 (isolate genotype C, I5) gag gene, partial cds\n",
      "Number of features: 3\n",
      "/molecule_type=DNA\n",
      "/topology=linear\n",
      "/data_file_division=VRL\n",
      "/date=24-MAR-1997\n",
      "/accessions=['L42022']\n",
      "/sequence_version=1\n",
      "/keywords=['gag gene', 'p24 protein']\n",
      "/source=Human immunodeficiency virus 1 (HIV-1)\n",
      "/organism=Human immunodeficiency virus 1\n",
      "/taxonomy=['Viruses', 'Riboviria', 'Pararnavirae', 'Artverviricota', 'Revtraviricetes', 'Ortervirales', 'Retroviridae', 'Orthoretrovirinae', 'Lentivirus']\n",
      "/references=[Reference(title='HIV type 1 subtypes B and C from new regions of India and Indian and Ethiopian expatriates in Kuwait', ...)]\n",
      "Seq('CATCCAGTACATGCAGGGCCTATTGCACCAGGCCAAATGAGAGAACCAAGGGGA...CCC')\n"
     ]
    }
   ],
   "source": [
    "handle = Entrez.efetch(db='nucleotide', id=\"L42022.1\", rettype='gb', retmode='text')\n",
    "seq_record = SeqIO.read(handle, \"gb\")\n",
    "print(seq_record)"
   ]
  },
  {
   "cell_type": "code",
   "execution_count": 36,
   "metadata": {},
   "outputs": [
    {
     "data": {
      "text/plain": [
       "1"
      ]
     },
     "execution_count": 36,
     "metadata": {},
     "output_type": "execute_result"
    }
   ],
   "source": [
    "SeqIO.write(seq_record, \"exemplo.gb\", \"genbank\")\n"
   ]
  },
  {
   "cell_type": "code",
   "execution_count": 38,
   "metadata": {},
   "outputs": [],
   "source": [
    "seq_record = SeqIO.read(\"exemplo.gb\", \"gb\")"
   ]
  },
  {
   "cell_type": "code",
   "execution_count": 39,
   "metadata": {},
   "outputs": [
    {
     "data": {
      "text/plain": [
       "'L42022.1'"
      ]
     },
     "execution_count": 39,
     "metadata": {},
     "output_type": "execute_result"
    }
   ],
   "source": [
    "seq_record.id"
   ]
  },
  {
   "cell_type": "code",
   "execution_count": 48,
   "metadata": {},
   "outputs": [
    {
     "data": {
      "text/plain": [
       "Seq('CATCCAGTACATGCAGGGCCTATTGCACCAGGCCAAATGAGAGAACCAAGGGGA...CCC')"
      ]
     },
     "execution_count": 48,
     "metadata": {},
     "output_type": "execute_result"
    }
   ],
   "source": [
    "seq_record.seq"
   ]
  },
  {
   "cell_type": "code",
   "execution_count": 49,
   "metadata": {},
   "outputs": [
    {
     "data": {
      "text/plain": [
       "'HIVI5C'"
      ]
     },
     "execution_count": 49,
     "metadata": {},
     "output_type": "execute_result"
    }
   ],
   "source": [
    "seq_record.name"
   ]
  },
  {
   "cell_type": "code",
   "execution_count": 50,
   "metadata": {},
   "outputs": [
    {
     "data": {
      "text/plain": [
       "'Human immunodeficiency virus type 1 (isolate genotype C, I5) gag gene, partial cds'"
      ]
     },
     "execution_count": 50,
     "metadata": {},
     "output_type": "execute_result"
    }
   ],
   "source": [
    "seq_record.description"
   ]
  },
  {
   "cell_type": "code",
   "execution_count": 55,
   "metadata": {},
   "outputs": [
    {
     "data": {
      "text/plain": [
       "{'molecule_type': 'DNA',\n",
       " 'topology': 'linear',\n",
       " 'data_file_division': 'VRL',\n",
       " 'date': '24-MAR-1997',\n",
       " 'accessions': ['L42022'],\n",
       " 'sequence_version': 1,\n",
       " 'keywords': ['gag gene', 'p24 protein'],\n",
       " 'source': 'Human immunodeficiency virus 1 (HIV-1)',\n",
       " 'organism': 'Human immunodeficiency virus 1',\n",
       " 'taxonomy': ['Viruses',\n",
       "  'Riboviria',\n",
       "  'Pararnavirae',\n",
       "  'Artverviricota',\n",
       "  'Revtraviricetes',\n",
       "  'Ortervirales',\n",
       "  'Retroviridae',\n",
       "  'Orthoretrovirinae',\n",
       "  'Lentivirus'],\n",
       " 'references': [Reference(title='HIV type 1 subtypes B and C from new regions of India and Indian and Ethiopian expatriates in Kuwait', ...)]}"
      ]
     },
     "execution_count": 55,
     "metadata": {},
     "output_type": "execute_result"
    }
   ],
   "source": [
    "seq_record.annotations"
   ]
  },
  {
   "cell_type": "code",
   "execution_count": 58,
   "metadata": {},
   "outputs": [
    {
     "data": {
      "text/plain": [
       "'DNA'"
      ]
     },
     "execution_count": 58,
     "metadata": {},
     "output_type": "execute_result"
    }
   ],
   "source": [
    "seq_record.annotations[\"molecule_type\"]"
   ]
  },
  {
   "cell_type": "code",
   "execution_count": 59,
   "metadata": {},
   "outputs": [
    {
     "data": {
      "text/plain": [
       "'linear'"
      ]
     },
     "execution_count": 59,
     "metadata": {},
     "output_type": "execute_result"
    }
   ],
   "source": [
    "seq_record.annotations[\"topology\"]"
   ]
  },
  {
   "cell_type": "code",
   "execution_count": 60,
   "metadata": {},
   "outputs": [
    {
     "data": {
      "text/plain": [
       "'VRL'"
      ]
     },
     "execution_count": 60,
     "metadata": {},
     "output_type": "execute_result"
    }
   ],
   "source": [
    "seq_record.annotations[\"data_file_division\"]"
   ]
  },
  {
   "cell_type": "code",
   "execution_count": 61,
   "metadata": {},
   "outputs": [
    {
     "data": {
      "text/plain": [
       "'24-MAR-1997'"
      ]
     },
     "execution_count": 61,
     "metadata": {},
     "output_type": "execute_result"
    }
   ],
   "source": [
    "seq_record.annotations[\"date\"]"
   ]
  },
  {
   "cell_type": "code",
   "execution_count": 62,
   "metadata": {},
   "outputs": [
    {
     "data": {
      "text/plain": [
       "['L42022']"
      ]
     },
     "execution_count": 62,
     "metadata": {},
     "output_type": "execute_result"
    }
   ],
   "source": [
    "seq_record.annotations[\"accessions\"]\n"
   ]
  },
  {
   "cell_type": "code",
   "execution_count": 63,
   "metadata": {},
   "outputs": [
    {
     "data": {
      "text/plain": [
       "['gag gene', 'p24 protein']"
      ]
     },
     "execution_count": 63,
     "metadata": {},
     "output_type": "execute_result"
    }
   ],
   "source": [
    "seq_record.annotations[\"keywords\"]"
   ]
  },
  {
   "cell_type": "code",
   "execution_count": 64,
   "metadata": {},
   "outputs": [
    {
     "data": {
      "text/plain": [
       "'Human immunodeficiency virus 1 (HIV-1)'"
      ]
     },
     "execution_count": 64,
     "metadata": {},
     "output_type": "execute_result"
    }
   ],
   "source": [
    "seq_record.annotations[\"source\"]"
   ]
  },
  {
   "cell_type": "code",
   "execution_count": 65,
   "metadata": {},
   "outputs": [
    {
     "data": {
      "text/plain": [
       "'Human immunodeficiency virus 1'"
      ]
     },
     "execution_count": 65,
     "metadata": {},
     "output_type": "execute_result"
    }
   ],
   "source": [
    "seq_record.annotations[\"organism\"]"
   ]
  },
  {
   "cell_type": "code",
   "execution_count": 66,
   "metadata": {},
   "outputs": [
    {
     "data": {
      "text/plain": [
       "['Viruses',\n",
       " 'Riboviria',\n",
       " 'Pararnavirae',\n",
       " 'Artverviricota',\n",
       " 'Revtraviricetes',\n",
       " 'Ortervirales',\n",
       " 'Retroviridae',\n",
       " 'Orthoretrovirinae',\n",
       " 'Lentivirus']"
      ]
     },
     "execution_count": 66,
     "metadata": {},
     "output_type": "execute_result"
    }
   ],
   "source": [
    "seq_record.annotations[\"taxonomy\"]"
   ]
  },
  {
   "cell_type": "code",
   "execution_count": 67,
   "metadata": {},
   "outputs": [
    {
     "data": {
      "text/plain": [
       "[Reference(title='HIV type 1 subtypes B and C from new regions of India and Indian and Ethiopian expatriates in Kuwait', ...)]"
      ]
     },
     "execution_count": 67,
     "metadata": {},
     "output_type": "execute_result"
    }
   ],
   "source": [
    "seq_record.annotations[\"references\"] #ver isto"
   ]
  },
  {
   "cell_type": "code",
   "execution_count": 68,
   "metadata": {},
   "outputs": [
    {
     "data": {
      "text/plain": [
       "231"
      ]
     },
     "execution_count": 68,
     "metadata": {},
     "output_type": "execute_result"
    }
   ],
   "source": [
    "len(seq_record.seq)"
   ]
  },
  {
   "cell_type": "code",
   "execution_count": 74,
   "metadata": {},
   "outputs": [
    {
     "name": "stdout",
     "output_type": "stream",
     "text": [
      "source [0:231](+)\n",
      "gene [0:231](+)\n",
      "CDS [<0:>231](+)\n"
     ]
    }
   ],
   "source": [
    "for k in seq_record.features: #como queremos sacar isto? usar try para cada tipo de feature?\n",
    "    print(k.type, k.location)"
   ]
  },
  {
   "cell_type": "code",
   "execution_count": 77,
   "metadata": {},
   "outputs": [
    {
     "name": "stdout",
     "output_type": "stream",
     "text": [
      "[<0:>231](+)\n",
      "CATCCAGTACATGCAGGGCCTATTGCACCAGGCCAAATGAGAGAACCAAGGGGAAGTGACATAGCAGGAACTACAAGTACCCTTCAGGAACAAGTAGCATGGATGACAGGTAACCCACCTGTTCCAGTGGGAGAAATCTATAAAAGATGGATAATTCTGGGATTAAATAAAATAGTAAGAATGTATAGCCCTGTCAGCATTTTGGACATAAAACAAGGGCCAAAGGAACCC\n"
     ]
    }
   ],
   "source": [
    "cds = []\n",
    "for i in range(len(seq_record.features)):\n",
    "    if seq_record.features[i].type == \"CDS\":\n",
    "        cds.append(i)\n",
    "for k in cds:\n",
    "    print (seq_record.features[k].location)\n",
    "for k in cds:\n",
    "    print (seq_record.features[k].extract(seq_record.seq))  "
   ]
  },
  {
   "cell_type": "code",
   "execution_count": 79,
   "metadata": {},
   "outputs": [
    {
     "name": "stdout",
     "output_type": "stream",
     "text": [
      "['gag']\n"
     ]
    }
   ],
   "source": [
    "for k in cds:                   \n",
    "    print(seq_record.features[k].qualifiers['gene'])"
   ]
  },
  {
   "cell_type": "code",
   "execution_count": 81,
   "metadata": {},
   "outputs": [
    {
     "name": "stdout",
     "output_type": "stream",
     "text": [
      "['AAB50165.1']\n"
     ]
    }
   ],
   "source": [
    "for k in cds:                   \n",
    "    print(seq_record.features[k].qualifiers['protein_id'])"
   ]
  },
  {
   "cell_type": "code",
   "execution_count": 82,
   "metadata": {},
   "outputs": [
    {
     "name": "stdout",
     "output_type": "stream",
     "text": [
      "['HPVHAGPIAPGQMREPRGSDIAGTTSTLQEQVAWMTGNPPVPVGEIYKRWIILGLNKIVRMYSPVSILDIKQGPKEP']\n"
     ]
    }
   ],
   "source": [
    "for k in cds:                   \n",
    "    print(seq_record.features[k].qualifiers['translation'])"
   ]
  },
  {
   "cell_type": "code",
   "execution_count": null,
   "metadata": {},
   "outputs": [],
   "source": []
  },
  {
   "attachments": {},
   "cell_type": "markdown",
   "metadata": {},
   "source": [
    "https://www.freecodecamp.org/news/connect-python-with-sql/ #popular tabelas etc"
   ]
  }
 ],
 "metadata": {
  "kernelspec": {
   "display_name": "Python 3",
   "language": "python",
   "name": "python3"
  },
  "language_info": {
   "codemirror_mode": {
    "name": "ipython",
    "version": 3
   },
   "file_extension": ".py",
   "mimetype": "text/x-python",
   "name": "python",
   "nbconvert_exporter": "python",
   "pygments_lexer": "ipython3",
   "version": "3.10.7"
  },
  "orig_nbformat": 4,
  "vscode": {
   "interpreter": {
    "hash": "4e1fc3fa23fb62f3f701e1450a48be1e01c4f473533356521fe76f63c343b8fd"
   }
  }
 },
 "nbformat": 4,
 "nbformat_minor": 2
}
