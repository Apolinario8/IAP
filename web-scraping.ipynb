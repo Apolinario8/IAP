{
 "cells": [
  {
   "attachments": {},
   "cell_type": "markdown",
   "metadata": {},
   "source": [
    "# BioPython"
   ]
  },
  {
   "cell_type": "code",
   "execution_count": 2,
   "metadata": {},
   "outputs": [],
   "source": [
    "from Bio import Entrez\n",
    "from Bio import SeqIO\n",
    "Entrez.email='goncalocardoso2016@gmail.com'"
   ]
  },
  {
   "cell_type": "code",
   "execution_count": 3,
   "metadata": {},
   "outputs": [],
   "source": [
    "insira = input(\"Insira o id do seu organismo\")"
   ]
  },
  {
   "cell_type": "code",
   "execution_count": 4,
   "metadata": {},
   "outputs": [
    {
     "name": "stdout",
     "output_type": "stream",
     "text": [
      "ID: V00654.1\n",
      "Name: V00654\n",
      "Description: Bos taurus complete mitochondrial genome\n",
      "Number of features: 40\n",
      "/molecule_type=DNA\n",
      "/topology=circular\n",
      "/data_file_division=MAM\n",
      "/date=14-JUL-2016\n",
      "/accessions=['V00654', 'J01394']\n",
      "/sequence_version=1\n",
      "/keywords=['12S ribosomal RNA', '16S ribosomal RNA', 'ATPase', 'cytochrome', 'cytochrome oxidase', 'genome', 'origin of replication', 'ribosomal RNA', 'transfer RNA', 'transfer RNA-Ala', 'transfer RNA-Arg', 'transfer RNA-Asn', 'transfer RNA-Asp', 'transfer RNA-Cys', 'transfer RNA-Gln', 'transfer RNA-Glu', 'transfer RNA-Gly', 'transfer RNA-His', 'transfer RNA-Ile', 'transfer RNA-Leu', 'transfer RNA-Lys', 'transfer RNA-Met', 'transfer RNA-Phe', 'transfer RNA-Pro', 'transfer RNA-Ser', 'transfer RNA-Thr', 'transfer RNA-Trp', 'transfer RNA-Tyr', 'transfer RNA-Val', 'unidentified reading frame']\n",
      "/source=mitochondrion Bos taurus (cattle)\n",
      "/organism=Bos taurus\n",
      "/taxonomy=['Eukaryota', 'Metazoa', 'Chordata', 'Craniata', 'Vertebrata', 'Euteleostomi', 'Mammalia', 'Eutheria', 'Laurasiatheria', 'Artiodactyla', 'Ruminantia', 'Pecora', 'Bovidae', 'Bovinae', 'Bos']\n",
      "/references=[Reference(title='Complete sequence of bovine mitochondrial DNA. Conserved features of the mammalian mitochondrial genome', ...)]\n",
      "/comment=On Oct 22, 2003 this sequence version replaced J01394.1.\n",
      "Seq('ACTAATGGCTAATCAGCCCATGCTCACACATAACTGTGCTGTCATACATTTGGT...TGG')\n"
     ]
    }
   ],
   "source": [
    "handle = Entrez.efetch(db='nucleotide', id=insira, rettype='gb', retmode='text')\n",
    "seq_record = SeqIO.read(handle, \"gb\")\n",
    "print(seq_record)"
   ]
  },
  {
   "attachments": {},
   "cell_type": "markdown",
   "metadata": {},
   "source": [
    "Tabela Gene_Bank"
   ]
  },
  {
   "cell_type": "code",
   "execution_count": 5,
   "metadata": {},
   "outputs": [],
   "source": [
    "id = seq_record.id     #VERSAO\n",
    "definicao = seq_record.description         #descrição\n",
    "accession = seq_record.annotations[\"accessions\"][0]       #accession\n",
    "keywords = seq_record.annotations[\"keywords\"]           #keywords\n",
    "organismo = seq_record.annotations[\"organism\"]          #organismo\n",
    "taxonomia = seq_record.annotations[\"taxonomy\"] \n",
    "taxonomia = ', '.join(taxonomia)                 #taxonomia\n",
    "data_modificacao = seq_record.annotations[\"date\"] \n",
    "tamanho = len(seq_record.seq)\n",
    "data_fyle_division = seq_record.annotations[\"data_file_division\"]\n",
    "molecule_type = seq_record.annotations[\"molecule_type\"]\n",
    "topologia = seq_record.annotations[\"topology\"] \n",
    "nome = seq_record.name  "
   ]
  },
  {
   "cell_type": "code",
   "execution_count": 6,
   "metadata": {},
   "outputs": [
    {
     "name": "stdout",
     "output_type": "stream",
     "text": [
      "Nº de refs: 1\n",
      "IDs do PubMed: ['7120390']\n",
      "Authors: ['Anderson,S., de Bruijn,M.H., Coulson,A.R., Eperon,I.C., Sanger,F. and Young,I.G.']\n",
      "Journal: ['J. Mol. Biol. 156 (4), 683-717 (1982)']\n",
      "Consortium: ['']\n",
      "Comment: ['']\n",
      "Title: ['Complete sequence of bovine mitochondrial DNA. Conserved features of the mammalian mitochondrial genome']\n"
     ]
    }
   ],
   "source": [
    "import re\n",
    "refs = []                                                     \n",
    "ids_pubmed = []\n",
    "authors = []\n",
    "journal = []\n",
    "consortium = []\n",
    "comment = []\n",
    "title = []\n",
    "for x in range(len(seq_record.annotations[\"references\"])):\n",
    "    #print(seq_record.annotations[\"references\"][x],\"\\n\")\n",
    "    refs.append(x)\n",
    "    authors.append(seq_record.annotations[\"references\"][x].authors)\n",
    "    ids_pubmed.append(seq_record.annotations[\"references\"][x].pubmed_id)\n",
    "    journal.append(seq_record.annotations[\"references\"][x].journal)\n",
    "    consortium.append(seq_record.annotations[\"references\"][x].consrtm)\n",
    "    comment.append(seq_record.annotations[\"references\"][x].comment)\n",
    "    title.append(seq_record.annotations[\"references\"][x].title)\n",
    "print(\"Nº de refs:\", len(refs))\n",
    "print(\"IDs do PubMed:\", ids_pubmed)\n",
    "print(\"Authors:\", authors)\n",
    "print(\"Journal:\", journal)\n",
    "print(\"Consortium:\", consortium)\n",
    "print(\"Comment:\", comment)\n",
    "print(\"Title:\", title)\n",
    "\n",
    "\n"
   ]
  },
  {
   "cell_type": "code",
   "execution_count": 7,
   "metadata": {},
   "outputs": [
    {
     "name": "stdout",
     "output_type": "stream",
     "text": [
      "[['Anderson,S., de Bruijn,M.H., Coulson,A.R., Eperon,I.C., Sanger,F. ., Young,I.G.']]\n"
     ]
    }
   ],
   "source": [
    "lista = []\n",
    "for x in authors:\n",
    "    pli = x.replace(\"and\",\".,\")\n",
    "    lista.append([pli])\n",
    "print(lista)\n"
   ]
  },
  {
   "cell_type": "code",
   "execution_count": 8,
   "metadata": {},
   "outputs": [
    {
     "name": "stdout",
     "output_type": "stream",
     "text": [
      "[['Anderson,S', ' de Bruijn,M.H', ' Coulson,A.R', ' Eperon,I.C', ' Sanger,F. ', ' Young,I.G.']]\n",
      "[['Anderson,S', ' de Bruijn,M.H', ' Coulson,A.R', ' Eperon,I.C', ' Sanger,F. ', ' Young,I.G.']]\n"
     ]
    }
   ],
   "source": [
    "lista_final=[]\n",
    "lista_temp = []\n",
    "for i, c in enumerate(lista):\n",
    "    a = c[0].split(\".,\")\n",
    "    lista_temp.append(a)\n",
    "print(lista_temp)\n",
    "for x in lista_temp:\n",
    "    lista_final_1 = []\n",
    "    for z in x:\n",
    "        if z.replace(\"and\", \",\"):\n",
    "            lista_final_1.append(z.replace(\"and\", \",\"))\n",
    "        else:\n",
    "            lista_final_1.append(z)\n",
    "    lista_final.append(lista_final_1)\n",
    "print(lista_final)\n"
   ]
  },
  {
   "cell_type": "code",
   "execution_count": 9,
   "metadata": {},
   "outputs": [],
   "source": [
    "import re\n",
    "Abstract = []   \n",
    "Afiliacao = []   \n",
    "DOI = []  \n",
    "for z in ids_pubmed:\n",
    "    if len(z) == 0:\n",
    "        print(\"não ha artigos\")\n",
    "        Abstract.append(' ')\n",
    "        Afiliacao.append(' ')\n",
    "        DOI.append(' ')\n",
    "    else:\n",
    "        handle = Entrez.efetch(db=\"pubmed\", id=z, retmode=\"xml\")\n",
    "        record = Entrez.read(handle)\n",
    "        record = str(record)\n",
    "        result = re.findall(r'AbstractText\\':\\s\\[[\\'\\\"]([.\\s\\.\\,\\[\\]\\(\\)\\'\\w\\-]+)[\\'\\\"]', record)      #abstract\n",
    "        #print(\"Abstract:\",\"\\n\", *abstract)\n",
    "        abstract = result\n",
    "        Abstract.append(abstract)\n",
    "        result = re.findall(r\"Affiliation':\\s'([\\s\\w\\,\\.\\-]+)'\", record)           #affiliation\n",
    "        #print(\"Afiliação:\", *result)\n",
    "        afiliacao = result\n",
    "        Afiliacao.append(afiliacao)\n",
    "        result = re.findall(r\"StringElement\\('([\\.\\(\\)\\-\\w\\/]+)',\\sattributes={'IdType':\\s'doi'}\", record)   #DOI\n",
    "        #print(\"DOI:\", *result)\n",
    "        doi = result\n",
    "        DOI.append(doi)\n",
    "        #print(DOI)\n"
   ]
  },
  {
   "cell_type": "code",
   "execution_count": 10,
   "metadata": {},
   "outputs": [
    {
     "name": "stdout",
     "output_type": "stream",
     "text": [
      "[[]]\n",
      "[[]]\n",
      "[['10.1016/0022-2836(82)90137-1']]\n"
     ]
    }
   ],
   "source": [
    "print(Afiliacao)\n",
    "print(Abstract)\n",
    "print(DOI)"
   ]
  },
  {
   "cell_type": "code",
   "execution_count": 11,
   "metadata": {},
   "outputs": [],
   "source": [
    "source = str(seq_record.features[0].location) #source\n",
    "ole = str(seq_record.features[0].qualifiers[\"db_xref\"])     \n",
    "taxon = re.findall(r'taxon:(\\d+)\\'', ole)             #taxon\n"
   ]
  },
  {
   "cell_type": "code",
   "execution_count": 12,
   "metadata": {},
   "outputs": [],
   "source": [
    "genes = [] \n",
    "mrna = []  \n",
    "regulatory = []\n",
    "protein_bind = []\n",
    "cds = []\n",
    "miscfeature = []\n",
    "miscdifference = []\n",
    "sigpeptide = []\n",
    "for c in range(len(seq_record.features)):\n",
    "    if seq_record.features[c].type == \"gene\":\n",
    "        genes.append(c)\n",
    "    if seq_record.features[c].type == \"mRNA\":\n",
    "        mrna.append(c)\n",
    "    if seq_record.features[c].type == \"regulatory\":\n",
    "        regulatory.append(c)\n",
    "    if seq_record.features[c].type == \"protein_bind\":\n",
    "        protein_bind.append(c)\n",
    "    if seq_record.features[c].type == \"CDS\":\n",
    "        cds.append(c)\n",
    "    if seq_record.features[c].type == \"misc_feature\":\n",
    "        miscfeature.append(c)\n",
    "    if seq_record.features[c].type == \"miscdifference\":\n",
    "        miscdifference.append(c)\n",
    "    if seq_record.features[c].type == \"sig_peptide\":\n",
    "        sigpeptide.append(c)\n",
    "       \n",
    "GENES = len(genes)\n",
    "mRNA = len(mrna)\n",
    "Regulatory = len(regulatory)\n",
    "ProteinBind = len(protein_bind)\n",
    "CDS = len(cds)\n",
    "misc_feature = len(miscfeature)\n",
    "misc_difference = len(miscdifference)\n",
    "sig_peptide = len(sigpeptide)"
   ]
  },
  {
   "cell_type": "code",
   "execution_count": 13,
   "metadata": {},
   "outputs": [
    {
     "name": "stdout",
     "output_type": "stream",
     "text": [
      "['[3100:4057](+)', '[4265:5309](+)', '[5686:7231](+)', '[7373:8057](+)', '[8128:8329](+)', '[8289:8970](+)', '[8969:9773](+)', '[9822:10179](+)', '[10238:10535](+)', '[10528:11953](+)', '[12108:13929](+)', '[13912:14440](-)', '[14513:15653](+)']\n",
      "[['CAA23997.1'], ['CAA23998.1'], ['CAA23999.1'], ['CAA24000.1'], ['CAA24001.1'], ['CAA24002.1'], ['CAA24003.1'], ['CAA24008.1'], ['CAA24004.1'], ['CAA24009.1'], ['CAA24005.1'], ['CAA24006.1'], ['CAA24007.1']]\n",
      "[['MFMINILMLIIPILLAVAFLTLVERKVLGYMQLRKGPNVVGPYGLLQPIADAIKLFIKEPLRPATSSASMFILAPIMALGLALTMWIPLPMPYPLINMNLGVLFMLAMSSLAVYSILWSGWASNSKYALIGALRAVAQTISYEVTLAIILLSVLLMSGSFTLSTLITTQEQMWLILPAWPLAMMWFISTLAETNRAPFDLTEGESELVSGFNVEYAAGPFALFFMAEYANIIMMNIFTAILFLGTSHNPHMPELYTINFTIKSLLLTMSFLWIRASYPRFRYDQLMHLLWKNFLPLTLALCMWHVSLPILTSGIPPQT'], ['MNPIIFIIILLTIMLGTIIVMISSHWLLVWIGFEMNMLAIIPIMMKNHNPRATEASTKYFLTQSTASMLLMMAVIINLMFSGQWTVMKLFNPMASMLMTMALAMKLGMAPFHFWVPEVTQGIPLSSGLILLTWQKLAPMSVLYQIFPSINLNLILTLSVLSILIGGWGGLNQTQLRKIMAYSSIAHMGWMTAVLPYNPTMTLLNLIIYIIMTSTMFTMFMANSTTTTLSLSHTWNKTPIMTVLILATLLSMGGLPPLSGFMPKWMIIQEMTKNNSIILPTFMAITALLNLYFYMRLTYSTTLTMFPSTNNMKMKWQFPLMKKMTFLPTMVVLSTMMLPLTPMLSVLE'], ['MFINRWLFSTNHKDIGTLYLLFGAWAGMVGTALSLLIRAELGQPGTLLGDDQIYNVVVTAHAFVMIFFMVMPIMIGGFGNWLVPLMIGAPDMAFPRMNNMSFWLLPPSFLLLLASSMVEAGAGTGWTVYPPLAGNLAHAGASVDLTIFSLHLAGVSSILGAINFITTIINMKPPAMSQYQTPLFVWSVMITAVLLLLSLPVLAAGITMLLTDRNLNTTFFDPAGGGDPILYQHLFWFFGHPEVYILILPGFGMISHIVTYYSGKKEPFGYMGMVWAMMSIGFLGFIVWAHHMFTVGMDVDTRAYFTSATMIIAIPTGVKVFSWLATLHGGNIKWSPAMMWALGFIFLFTVGGLTGIVLANSSLDIVLHDTYYVVAHFHYVLSMGAVFAIMGGFVHWFPLFSGYTLNDTWAKIHFAIMFVGVNMTFFPQHFLGLSGMPRRYSDYPDAYTMWNTISSMGSFISLTAVMLMVFIIWEAFASKREVLTVDLTTTNLEWLNGCPPPYHTFEEPTYVNLK'], ['MAYPMQLGFQDATSPIMEELLHFHDHTLMIVFLISSLVLYIISLMLTTKLTHTSTMDAQEVETIWTILPAIILILIALPSLRILYMMDEINNPSLTVKTMGHQWYWSYEYTDYEDLSFDSYMIPTSELKPGELRLLEVDNRVVLPMEMTIRMLVSSEDVLHSWAVPSLGLKTDAIPGRLNQTTLMSSRPGLYYGQCSEICGSNHSFMPIVLELVPLKYFEKWSASML'], ['MPQLDTSTWLTMILSMFLTLFIIFQLKVSKHNFYHNPELTPTKMLKQNTPWETKWTKIYLPLLLPL'], ['MNENLFTSFITPVILGLPLVTLIVLFPSLLFPTSNRLVSNRFVTLQQWMLQLVSKQMMSIHNSKGQTWTLMLMSLILFIGSTNLLGLLPHSFTPTTQLSMNLGMAIPLWAGAVITGFRNKTKASLAHFLPQGTPTPLIPMLVIIETISLFIQPMALAVRLTANITAGHLLIHLIGGATLALMSISTTTALITFTILILLTILEFAVAMIQAYVFTLLVSLYLHDNT'], ['MTHQTHAYHMVNPSPWPLTGALSALLMTSGLTMWFHFNSMTLLMIGLTTNMLTMYQWWRDVIRESTFQGHHTPAVQKGLRYGMILFIISEVLFFTGFFWAFYHSSLAPTPELGGCWPPTGIHPLNPLEVPLLNTSVLLASGVSITWAHHSLMEGDRKHMLQALFITITLGVYFTLLQASEYYEAPFTISDGVYGSTFFVATGFHGLHVIIGSTFLIVCFFRQLKFHFTSNHHFGFEAGAWYWHFVDVVWLFLYVSIYWWGSYSFSIN'], ['MNLMLALLTNFTLATLLVIIAFWLPQLNVYSEKTSPYECGFDPMGSARLPFSMKFFLVAITFLLFDLEIALLLPLPWASQTANLNTMLTMALFLIILLAVSLAYEWTQKGLEWTEYGT'], ['MSMVYMNIMMAFTVSLVGLLMYRSHLMSSLLCLEGMMLSLFVMAALTILNSHFTLASMMPIILLVFAACEAALGLSLLVMVSNTYGTDYVQNLNLLQC'], ['MLKYIIPTIMLMPLTWLSKNNMIWVNSTAHSLLISFTSLLLMNQFGDNSLNFSLLFFSDSLSTPLLILTMWLLPLMLMASQHHLSKENLTRKKLFITMLISLQLFLIMTFTAMELILFYILFEATLVPTLIIITRWGNQTERLNAGLYFLFYTLAGSLPLLVALIYIQNTVGSLNFLMLQYWVQPVHNSWSNVFMWLACMMAFMVKMPLYGLHLWLPKAHVEAPIAGSMVLAAVLLKLGGYGMLRITLILNPMTDFMAYPFIMLSLWGMIMTSSICLRQTDLKSLIAYSSVSHMALVIVAILIQTPWSYMGATALMIAHGLTSSMLFCLANSNYERIHSRTMILARGLQTLLPLMATWWLLASLTNLALPPTINLIGELFVVMSTFSWSNITIILMGVNMVITALYSLYMLIMTQRGKYTYHINNISPSFTRENALMSLHILPLLLLTLNPKIILGPLYCKYSLTKTLDCESNN'], ['MNMFSSLSLVTLLLLTMPIMMMSFNTYKPSNYPLYVKTAISYAFITSMIPTMMFIHSGQELIISNWHWLTIQTLKLSLSFKMDYFSMMFIPVALFVTWSIMEFSMWYMYSDPNINKFFKYLLLFLITMLILVTANNLFQLFIGWEGVGIMSFLLIGWWYGRADANTAALQAILYNRIGDIGFILAMAWFLTNLNTWDLQQIFMLNPSDSNMPLIGLALAATGKSAQFGLHPWLPSAMEGPTPVSALLHSSTMVVAGIFLLIRFYPLTENNKYIQSITLCLGAITTLFTAMCALTQNDIKKIIAFSTSSQLGLMMVTIGINQPYLAFLHICTHAFFKAMLFMCSGSIIHSLNDEQDIRKMGGLFKAMPFTTTALIVGSLALTGMPFLTGFYSKDLIIEAANKSYTNAWALLMTLIATSFTAIYSTRIIFFALLGQPRFPTLVNINENNPLLINSIKRLLIGSLFAGYIISNNIPPTTIPQMTMPYYLKTTALIVTILGFILALEISNMTKNLKYHYPSNAFKFSTLLGYFPTIMHRLAPYMNLSMSQKSASSLLDLIWLEAILPKTISLAQMKASTLVTNQKGLIKLYFLSFLITILISMILFNFHE'], ['MMLYIVFILSVIFVMGFVGFSSKPSPIYGGLGLIVSGGVGCGIVLNFGGSFLGLMVFLIYLGGMMVVFGYTTAMATEQYPEIWLSNKAVLGAFVTGLLMEFFMVYYVLKDKEVEVVFEFNGLGDWVIYDTGDSGFFSEEAMGIAALYSYGTWLVIVTGWSLLIGVVVIMEITRGN'], ['MTNIRKSHPLMKIVNNAFIDLPAPSNISSWWNFGSLLGICLILQILTGLFLAMHYTSDTTTAFSSVTHICRDVNYGWIIRYMHANGASMFFICLYMHVGRGLYYGSYTFLETWNIGVILLLTVMATAFMGYVLPWGQMSFWGATVITNLLSAIPYIGTNLVEWIWGGFSVDKATLTRFFAFHFILPFIIMAIAMVHLLFLHETGSNNPTGISSDVDKIPFHPYYTIKDILGALLLILALMLLVLFAPDLLGDPDNYTPANPLNTPPHIKPEWYFLFAYAILRSIPNKLGGVLALAFSILILALIPLLHTSKQRSMMFRPLSQCLFWALVADLLTLTWIGGQPVEHPYITIGQLASVLYFLLILVLMPTAGTIENKLLKW']]\n",
      "[['cytochrome oxidase I'], ['cytochrome oxidase II'], ['ATPase 6'], ['cytochrome oxidase III'], ['cytochrome b']]\n"
     ]
    }
   ],
   "source": [
    "CDS_loc = [] \n",
    "CDS_id = []\n",
    "CDS_aa = [] \n",
    "CDS_prod = []        \n",
    "for k in cds:\n",
    "    try:\n",
    "        CDS_loc.append(str(seq_record.features[k].location))           #base_span(lista)\n",
    "        CDS_id.append(seq_record.features[k].qualifiers['protein_id'])    #protein_id(lista de listas)\n",
    "        CDS_aa.append(seq_record.features[k].qualifiers['translation'])   #seq. aa (lista de listas)\n",
    "        CDS_prod.append(seq_record.features[k].qualifiers['product'])\n",
    "    except:\n",
    "        continue\n",
    "\n",
    "    \n",
    "print(CDS_loc)\n",
    "print(CDS_id)\n",
    "print(CDS_aa)\n",
    "print(CDS_prod)"
   ]
  },
  {
   "cell_type": "code",
   "execution_count": 14,
   "metadata": {},
   "outputs": [
    {
     "name": "stdout",
     "output_type": "stream",
     "text": [
      "[' ', ' ', ' ', ' ', ' ', ' ', ' ', ' ', ' ', ' ', ' ', ' ', ' ']\n"
     ]
    }
   ],
   "source": [
    "CDS_gene = []         #gene da cds (pode ou nao ter)\n",
    "for k in cds: \n",
    "    try:                \n",
    "        CDS_gene.append(seq_record.features[k].qualifiers['gene'])\n",
    "    except: \n",
    "        CDS_gene.append(\" \")\n",
    "print(CDS_gene)"
   ]
  },
  {
   "cell_type": "code",
   "execution_count": 15,
   "metadata": {},
   "outputs": [
    {
     "name": "stdout",
     "output_type": "stream",
     "text": [
      "[Seq('ACTAATGGCTAATCAGCCCATGCTCACACATAACTGTGCTGTCATACATTTGGT...TGG')]\n",
      "Seq('ACTAATGGCTAATCAGCCCATGCTCACACATAACTGTGCTGTCATACATTTGGT...TGG\n"
     ]
    }
   ],
   "source": [
    "Seq = []                         #seq. de nucleotidos\n",
    "seq = seq_record.seq\n",
    "Seq.append(seq)\n",
    "print(Seq)\n",
    "a = re.findall(r\"Seq\\('\\w+...\\w\\w\\w\", str(Seq))\n",
    "print(a[0])"
   ]
  },
  {
   "attachments": {},
   "cell_type": "markdown",
   "metadata": {},
   "source": [
    "# Inserção de dados nas tabelas"
   ]
  },
  {
   "attachments": {},
   "cell_type": "markdown",
   "metadata": {},
   "source": [
    "IDS utilizados na povoação:\n",
    "-D78608.1\n",
    "-U40454.1\n",
    "-MZ028624.1\n",
    "-NC_002014.1\n",
    "-V00654.1"
   ]
  },
  {
   "cell_type": "code",
   "execution_count": 16,
   "metadata": {},
   "outputs": [],
   "source": [
    "import mysql.connector\n",
    "from mysql.connector import Error"
   ]
  },
  {
   "cell_type": "code",
   "execution_count": 17,
   "metadata": {},
   "outputs": [],
   "source": [
    "db = mysql.connector.connect(host=\"127.0.0.1\",   \n",
    "                     user=\"root\",         \n",
    "                     passwd=\"Cardoso10@\",  \n",
    "                     db=\"trabalho\",\n",
    "                     auth_plugin = \"mysql_native_password\"\n",
    "                     ) "
   ]
  },
  {
   "cell_type": "code",
   "execution_count": 18,
   "metadata": {},
   "outputs": [],
   "source": [
    "cur = db.cursor()\n",
    "cur.execute(\"\"\"\n",
    "        INSERT INTO sequence (sequence)\n",
    "        VALUES (%s)\n",
    "        \"\"\",\n",
    "        (a))\n",
    "\n",
    "db.autocommit = True  \n",
    "  "
   ]
  },
  {
   "cell_type": "code",
   "execution_count": 19,
   "metadata": {},
   "outputs": [],
   "source": [
    "cur = db.cursor()\n",
    "cur.execute(\"\"\"\n",
    "        INSERT INTO Locus (Locus_Name, Sequence_Length, Molecule_Type, Topology, GenBank_Division, Modification_Date)\n",
    "        VALUES (%s,%s,%s,%s,%s,%s)\n",
    "        \"\"\",\n",
    "        (nome, tamanho, molecule_type, topologia, data_fyle_division,data_modificacao))\n",
    "\n",
    "db.autocommit = True    "
   ]
  },
  {
   "cell_type": "code",
   "execution_count": 20,
   "metadata": {},
   "outputs": [],
   "source": [
    "cur = db.cursor()\n",
    "cur.execute(\"\"\"\n",
    "        INSERT INTO Features (Source, Taxon, CDS, gene, mRNA, regulatory, protein_bind, misc_features, misc_difference, sig_peptide)\n",
    "        VALUES (%s,%s,%s,%s,%s,%s,%s,%s,%s,%s)\n",
    "        \"\"\",\n",
    "        (source, taxon[0], CDS, GENES, mRNA, Regulatory, ProteinBind, misc_feature, misc_difference, sig_peptide))\n",
    "\n",
    "db.autocommit = True    \n"
   ]
  },
  {
   "cell_type": "code",
   "execution_count": 21,
   "metadata": {},
   "outputs": [],
   "source": [
    "cur = db.cursor()                     \n",
    "cur.execute(\"\"\"\n",
    "        INSERT INTO Gene_Bank (ACCESSION, VERSION, DEFINITION, KEYWORDS, ORGANISM, TAXONOMY, Sequence, Locus_Name, Source)\n",
    "        VALUES (%s,%s,%s,%s,%s,%s,%s,%s,%s)\n",
    "        \"\"\",\n",
    "        (accession, id, definicao, keywords[0], organismo, taxonomia, a[0], nome, source))\n",
    "db.autocommit = True    \n"
   ]
  },
  {
   "cell_type": "code",
   "execution_count": 22,
   "metadata": {},
   "outputs": [],
   "source": [
    "cur = db.cursor()                     \n",
    "y = 0\n",
    "for x in ids_pubmed:\n",
    "    if len(ids_pubmed[y]) == 0:\n",
    "        pass\n",
    "    else:      \n",
    "        cur.execute(\"\"\"\n",
    "                INSERT INTO Pubmed_information (Pubmed_id, title, journal, DOI, abstract, affiliation)\n",
    "                VALUES (%s,%s,%s,%s,%s,%s)\n",
    "                \"\"\",\n",
    "                (repr(ids_pubmed[y]), repr(title[y]), repr(journal[y]), repr(DOI[y]), repr(Abstract[y]), repr(Afiliacao[y])))\n",
    "    y += 1 \n",
    "db.autocommit = True    \n"
   ]
  },
  {
   "cell_type": "code",
   "execution_count": 23,
   "metadata": {},
   "outputs": [
    {
     "name": "stdout",
     "output_type": "stream",
     "text": [
      "Anderson,S\n",
      " de Bruijn,M.H\n",
      " Coulson,A.R\n",
      " Eperon,I.C\n",
      " Sanger,F. \n",
      " Young,I.G.\n",
      "['Anderson,S', ' Coulson,A.R', ' Eperon,I.C', ' de Bruijn,M.H', ' Young,I.G.', ' Sanger,F. ']\n"
     ]
    }
   ],
   "source": [
    "autores = []\n",
    "for x in lista_final:\n",
    "    for y in x:\n",
    "        print(y)\n",
    "        autores.append(y)\n",
    "        #autores.append(lista_final[x][y])\n",
    "auu = list((set(autores)))\n",
    "print(auu)\n"
   ]
  },
  {
   "cell_type": "code",
   "execution_count": 24,
   "metadata": {},
   "outputs": [],
   "source": [
    "cur = db.cursor()  \n",
    "for x in auu:                    \n",
    "    cur.execute(\"\"\"\n",
    "            INSERT INTO authors (author_name)\n",
    "            VALUES (%s)\n",
    "            \"\"\",\n",
    "            (x,))\n",
    "\n",
    "db.autocommit = True    \n"
   ]
  },
  {
   "cell_type": "code",
   "execution_count": 25,
   "metadata": {},
   "outputs": [],
   "source": [
    "cur = db.cursor()                       \n",
    "y = 0\n",
    "for x in ids_pubmed:               \n",
    "        cur.execute(\"\"\"\n",
    "                INSERT INTO reference (journal, title, pubmed_id, consortium, comment)\n",
    "                VALUES (%s,%s,%s,%s,%s)\n",
    "                \"\"\",\n",
    "                (journal[y], title[y], ids_pubmed[y], consortium[y], comment[y]))\n",
    "\n",
    "        y += 1     \n",
    "db.autocommit = True    \n"
   ]
  },
  {
   "cell_type": "code",
   "execution_count": 26,
   "metadata": {},
   "outputs": [],
   "source": [
    "cur = db.cursor()                     \n",
    "y = 0\n",
    "for x in CDS_id:\n",
    "        cur.execute(\"\"\"\n",
    "                INSERT INTO CDS (protein_id, Base_Span, translation, gene, produto, VERSION, Source)\n",
    "                VALUES (%s,%s,%s,%s,%s,%s,%s)\n",
    "                \"\"\",\n",
    "                (x[0], CDS_loc[y], CDS_aa[y][y], CDS_gene[y][y], CDS_prod[y][y], id, source))\n",
    "y += 1\n",
    "        \n",
    "db.autocommit = True    \n"
   ]
  },
  {
   "cell_type": "code",
   "execution_count": 27,
   "metadata": {},
   "outputs": [],
   "source": [
    "cur = db.cursor()  \n",
    "for i, c in enumerate(journal):\n",
    "    for p in lista_final[i]:               \n",
    "        cur.execute(\"\"\"\n",
    "                INSERT INTO reference_authors(journal, author_name)\n",
    "                VALUES (%s,%s)\n",
    "                \"\"\",\n",
    "                (journal[i], p))\n",
    "\n",
    "db.autocommit = True    \n"
   ]
  },
  {
   "cell_type": "code",
   "execution_count": 28,
   "metadata": {},
   "outputs": [],
   "source": [
    "cur = db.cursor()  \n",
    "for x in range(len(journal)):                   \n",
    "    cur.execute(\"\"\"\n",
    "            INSERT INTO genbank_reference (VERSION, journal)\n",
    "            VALUES (%s,%s)\n",
    "            \"\"\",\n",
    "        (id, journal[x]))\n",
    "\n",
    "db.autocommit = True    "
   ]
  }
 ],
 "metadata": {
  "kernelspec": {
   "display_name": "Python 3",
   "language": "python",
   "name": "python3"
  },
  "language_info": {
   "codemirror_mode": {
    "name": "ipython",
    "version": 3
   },
   "file_extension": ".py",
   "mimetype": "text/x-python",
   "name": "python",
   "nbconvert_exporter": "python",
   "pygments_lexer": "ipython3",
   "version": "3.10.7"
  },
  "orig_nbformat": 4,
  "vscode": {
   "interpreter": {
    "hash": "4e1fc3fa23fb62f3f701e1450a48be1e01c4f473533356521fe76f63c343b8fd"
   }
  }
 },
 "nbformat": 4,
 "nbformat_minor": 2
}
