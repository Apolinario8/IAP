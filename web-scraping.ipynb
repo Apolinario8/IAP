{
 "cells": [
  {
   "attachments": {},
   "cell_type": "markdown",
   "metadata": {},
   "source": [
    "# BioPython"
   ]
  },
  {
   "cell_type": "code",
   "execution_count": 27,
   "metadata": {},
   "outputs": [],
   "source": [
    "#MyISAM ROW_FORMAT=COMPRESSED"
   ]
  },
  {
   "cell_type": "code",
   "execution_count": 28,
   "metadata": {},
   "outputs": [],
   "source": [
    "from Bio import Entrez\n",
    "from Bio import SeqIO\n",
    "Entrez.email='goncalocardoso2016@gmail.com'"
   ]
  },
  {
   "cell_type": "code",
   "execution_count": 29,
   "metadata": {},
   "outputs": [],
   "source": [
    "#input=()"
   ]
  },
  {
   "cell_type": "code",
   "execution_count": 30,
   "metadata": {},
   "outputs": [],
   "source": [
    "#id = input(\"Insira o id do seu organismo\")"
   ]
  },
  {
   "cell_type": "code",
   "execution_count": 31,
   "metadata": {},
   "outputs": [
    {
     "name": "stdout",
     "output_type": "stream",
     "text": [
      "ID: U40454.1\n",
      "Name: CAU40454\n",
      "Description: Candida albicans topoisomerase type I (CATOP1) gene, complete cds\n",
      "Number of features: 5\n",
      "/molecule_type=DNA\n",
      "/topology=linear\n",
      "/data_file_division=PLN\n",
      "/date=27-JUL-1996\n",
      "/accessions=['U40454']\n",
      "/sequence_version=1\n",
      "/keywords=['']\n",
      "/source=Candida albicans\n",
      "/organism=Candida albicans\n",
      "/taxonomy=['Eukaryota', 'Fungi', 'Dikarya', 'Ascomycota', 'Saccharomycotina', 'Saccharomycetes', 'Saccharomycetales', 'Debaryomycetaceae', 'Candida/Lodderomyces clade', 'Candida']\n",
      "/references=[Reference(title='Identification of the gene encoding DNA topoisomerase I from Candida albicans', ...), Reference(title='Direct Submission', ...)]\n",
      "Seq('TTTTTGGTGATGGTTTTAGGCGCGACGTTAATCATTTTTACTATTGAGAATGTA...TCA')\n"
     ]
    }
   ],
   "source": [
    "handle = Entrez.efetch(db='nucleotide', id=\"U40454.1\", rettype='gb', retmode='text')\n",
    "seq_record = SeqIO.read(handle, \"gb\")\n",
    "print(seq_record)"
   ]
  },
  {
   "cell_type": "code",
   "execution_count": 32,
   "metadata": {},
   "outputs": [],
   "source": [
    "#SeqIO.write(seq_record, \"{id}.gb\", \"genbank\")\n"
   ]
  },
  {
   "cell_type": "code",
   "execution_count": 33,
   "metadata": {},
   "outputs": [],
   "source": [
    "#seq_record = SeqIO.read(\"{id}.gb\", \"gb\")"
   ]
  },
  {
   "attachments": {},
   "cell_type": "markdown",
   "metadata": {},
   "source": [
    "Tabela Gene_Bank"
   ]
  },
  {
   "cell_type": "code",
   "execution_count": 34,
   "metadata": {},
   "outputs": [],
   "source": [
    "id = seq_record.id     #VERSAO\n",
    "definicao = seq_record.description         #descrição\n",
    "accession = seq_record.annotations[\"accessions\"][0]       #accession\n",
    "keywords = seq_record.annotations[\"keywords\"]           #keywords\n",
    "organismo = seq_record.annotations[\"organism\"]          #organismo\n",
    "taxonomia = seq_record.annotations[\"taxonomy\"] \n",
    "taxonomia = ', '.join(taxonomia)                 #taxonomia\n",
    "data_modificacao = seq_record.annotations[\"date\"] \n",
    "tamanho = len(seq_record.seq)\n",
    "data_fyle_division = seq_record.annotations[\"data_file_division\"]\n",
    "molecule_type = seq_record.annotations[\"molecule_type\"]\n",
    "topologia = seq_record.annotations[\"topology\"] \n",
    "nome = seq_record.name  "
   ]
  },
  {
   "cell_type": "code",
   "execution_count": 35,
   "metadata": {},
   "outputs": [
    {
     "name": "stdout",
     "output_type": "stream",
     "text": [
      "location: [0:3224]\n",
      "authors: Taylor,A., Giles,K., Sarthy,A.V., McGonigal,T. and Fostel,J.\n",
      "title: Identification of the gene encoding DNA topoisomerase I from Candida albicans\n",
      "journal: FEMS Microbiol. Lett. 138 (2-3), 113-121 (1996)\n",
      "medline id: \n",
      "pubmed id: 9026437\n",
      "comment: \n",
      " \n",
      "\n",
      "location: [0:3224]\n",
      "authors: Taylor,A., Giles,K., Sarthy,A.V., McGonigal,T. and Fostel,J.\n",
      "title: Direct Submission\n",
      "journal: Submitted (09-NOV-1995) Alison Taylor, Anit-Infectiv Division, Abbott Labs, 100 Abbott Park Rd., Abbott Park, IL 60064, USA\n",
      "medline id: \n",
      "pubmed id: \n",
      "comment: \n",
      " \n",
      "\n",
      "Nº de refs: 2\n",
      "IDs do PubMed: ['9026437', '']\n",
      "Authors: ['Taylor,A., Giles,K., Sarthy,A.V., McGonigal,T. and Fostel,J.', 'Taylor,A., Giles,K., Sarthy,A.V., McGonigal,T. and Fostel,J.']\n",
      "Journal: ['FEMS Microbiol. Lett. 138 (2-3), 113-121 (1996)', 'Submitted (09-NOV-1995) Alison Taylor, Anit-Infectiv Division, Abbott Labs, 100 Abbott Park Rd., Abbott Park, IL 60064, USA']\n",
      "Consortium: ['', '']\n",
      "Comment: ['', '']\n",
      "Title: ['Identification of the gene encoding DNA topoisomerase I from Candida albicans', 'Direct Submission']\n"
     ]
    }
   ],
   "source": [
    "import re\n",
    "refs = []                                                     \n",
    "ids_pubmed = []\n",
    "authors = []\n",
    "journal = []\n",
    "consortium = []\n",
    "comment = []\n",
    "title = []\n",
    "for x in range(len(seq_record.annotations[\"references\"])):\n",
    "    print(seq_record.annotations[\"references\"][x],\"\\n\")\n",
    "    refs.append(x)\n",
    "    authors.append(seq_record.annotations[\"references\"][x].authors)\n",
    "    ids_pubmed.append(seq_record.annotations[\"references\"][x].pubmed_id)\n",
    "    journal.append(seq_record.annotations[\"references\"][x].journal)\n",
    "    consortium.append(seq_record.annotations[\"references\"][x].consrtm)\n",
    "    comment.append(seq_record.annotations[\"references\"][x].comment)\n",
    "    title.append(seq_record.annotations[\"references\"][x].title)\n",
    "print(\"Nº de refs:\", len(refs))\n",
    "print(\"IDs do PubMed:\", ids_pubmed)\n",
    "print(\"Authors:\", authors)\n",
    "print(\"Journal:\", journal)\n",
    "print(\"Consortium:\", consortium)\n",
    "print(\"Comment:\", comment)\n",
    "print(\"Title:\", title)\n",
    "\n",
    "\n"
   ]
  },
  {
   "cell_type": "code",
   "execution_count": 36,
   "metadata": {},
   "outputs": [
    {
     "name": "stdout",
     "output_type": "stream",
     "text": [
      "['Taylor,A', ' Giles,K', ' Sarthy,A.V', ' McGonigal,T.', 'Fostel,J.']\n"
     ]
    }
   ],
   "source": [
    "for c in authors:\n",
    "    autor = c.split(\".,\")\n",
    "    for x in autor:\n",
    "        Autor = x.split(\" and \")\n",
    "autor = autor[0:-1]\n",
    "for z in Autor:\n",
    "    autor.append(z)\n",
    "print(autor)"
   ]
  },
  {
   "cell_type": "code",
   "execution_count": 37,
   "metadata": {},
   "outputs": [],
   "source": [
    "import re                                                                    \n",
    "for y in ids_pubmed:\n",
    "    try:\n",
    "        handle = Entrez.efetch(db=\"pubmed\", id=y, retmode=\"xml\")\n",
    "        record = Entrez.read(handle)\n",
    "        record = str(record)\n",
    "        Abstract = []\n",
    "        result = re.findall(r'AbstractText\\':\\s\\[[\\'\\\"]([.\\s\\.\\,\\[\\]\\(\\)\\'\\w\\-]+)[\\'\\\"]', record)      #abstract\n",
    "        #print(\"Abstract:\",\"\\n\", *abstract)\n",
    "        abstract = result\n",
    "        Abstract.append(abstract)\n",
    "        result = re.findall(r\"Affiliation':\\s'([\\s\\w\\,\\.\\-]+)'\", record)           #affiliation\n",
    "        #print(\"Afiliação:\", *result)\n",
    "        afiliacao = result\n",
    "        Afiliacao = []\n",
    "        Afiliacao.append(afiliacao)\n",
    "        result = re.findall(r\"StringElement\\('([\\.\\(\\)\\-\\w\\/]+)',\\sattributes={'IdType':\\s'doi'}\", record)   #DOI\n",
    "        #print(\"DOI:\", *result)\n",
    "        doi = result\n",
    "        DOI = []\n",
    "        DOI.append(doi)\n",
    "        #print(DOI)\n",
    "    except: \n",
    "        Abstract.append(' ')\n",
    "        Afiliacao.append(' ')\n",
    "        DOI.append(' ')"
   ]
  },
  {
   "cell_type": "code",
   "execution_count": 38,
   "metadata": {},
   "outputs": [
    {
     "name": "stdout",
     "output_type": "stream",
     "text": [
      "[['Antifungal Biology, Anti-infective Division, Abbott Laboratories, Abbott Park, IL 60064, USA.'], ' ']\n",
      "[['A gene encoding a type I topoisomerase (TOP1) was isolated from Candida albicans, sequenced, and expressed in Saccharomyces cerevisiae. The TOP1 gene was identified from a C. albicans genomic library by hybridization with the product of a polymerase chain reaction with degenerate primer sets encoding regions conserved in other TOP1 genes. A clone containing an open reading frame of 2463 bp and predicted to encode a protein of 778 amino acids with sequence similarity to eukaryotic type I topoisomerases was identified. The C. albicans TOP1 gene restored camptothecin sensitivity and increased the topoisomerase activity in S. cerevisiae, indicating that the DNA fragment encodes a functional C. albicans topoisomerase I.'], ' ']\n",
      "[['10.1111/j.1574-6968.1996.tb08143.x'], ' ']\n"
     ]
    }
   ],
   "source": [
    "print(Afiliacao)\n",
    "print(Abstract)\n",
    "print(DOI)"
   ]
  },
  {
   "cell_type": "code",
   "execution_count": 39,
   "metadata": {},
   "outputs": [],
   "source": [
    "source = str(seq_record.features[0].location) #source\n",
    "ole = str(seq_record.features[0].qualifiers[\"db_xref\"])     \n",
    "taxon = re.findall(r'taxon:(\\d+)\\'', ole)             #taxon\n"
   ]
  },
  {
   "cell_type": "code",
   "execution_count": 40,
   "metadata": {},
   "outputs": [],
   "source": [
    "genes = [] \n",
    "mrna = []  \n",
    "regulatory = []\n",
    "protein_bind = []\n",
    "cds = []\n",
    "miscfeature = []\n",
    "miscdifference = []\n",
    "sigpeptide = []\n",
    "for c in range(len(seq_record.features)):\n",
    "    if seq_record.features[c].type == \"gene\":\n",
    "        genes.append(c)\n",
    "    if seq_record.features[c].type == \"mRNA\":\n",
    "        mrna.append(c)\n",
    "    if seq_record.features[c].type == \"regulatory\":\n",
    "        regulatory.append(c)\n",
    "    if seq_record.features[c].type == \"protein_bind\":\n",
    "        protein_bind.append(c)\n",
    "    if seq_record.features[c].type == \"CDS\":\n",
    "        cds.append(c)\n",
    "    if seq_record.features[c].type == \"misc_feature\":\n",
    "        miscfeature.append(c)\n",
    "    if seq_record.features[c].type == \"miscdifference\":\n",
    "        miscdifference.append(c)\n",
    "    if seq_record.features[c].type == \"sig_peptide\":\n",
    "        sigpeptide.append(c)\n",
    "       \n",
    "GENES = len(genes)\n",
    "mRNA = len(mrna)\n",
    "Regulatory = len(regulatory)\n",
    "ProteinBind = len(protein_bind)\n",
    "CDS = len(cds)\n",
    "misc_feature = len(miscfeature)\n",
    "misc_difference = len(miscdifference)\n",
    "sig_peptide = len(sigpeptide)"
   ]
  },
  {
   "cell_type": "code",
   "execution_count": 77,
   "metadata": {},
   "outputs": [
    {
     "name": "stdout",
     "output_type": "stream",
     "text": [
      "['[473:2810](+)']\n",
      "[['AAC49381.1']]\n",
      "[['MNSSDEEDIALSRLAKKSSSITSASTYEDDEDDDIPLAKKSRKKRVESDYEEDEDEVPLKKLSNGRAKKQVKTETKVKKEPKSANKSKSTSKKDTKVKKEKTTVKKESKATSTKVKEESKTQSDSQASVKSETPEEDQGYKWWEVNQEEEGDGYIKWQTLEHNGVMFPPPYEPLPSHVKLYYNNKPVNLPPEAEEVAGFYGAMLETDHAKNPVFQKNFFNDFLEVLKECGGCGVEIKKFEKLDFSKMYAHFEKLREEKKAMSREEKKRIKEEKEKEEEPYRTCYLNGRKELVGNFRIEPPGLFRGRGAHPKTGKLKRRVVSEQVTLNLGKDAKIPEPPAGHQWGEIRHDNEVTWLAMWKENISDSLKYVRFANNSSVKGQSDFKKFETARKLRDHVDSIRKDYTKMLKSEKMQDRQMATAMYLIDVFALRAGGEKGEDEADTVGCCSLRYEHVTLKPPNKVIFDLLGKDSIRFYQEVEVDKQVFKNLRIFKKSPKQPGDDLFDRINPSLVNRQLQNYMKGLTAKVFRTYNASKTMQDQIDIIENEGTVAEKVAKFNAANRTVAILCNHQRTVSKTHGDSVQRINDKLKKFMWQKIRLKKMILQLEPKLKKKDSKYFEEIDDLIKEDIEHIHHTIIKRQREQAKKKLERDNEKLKLEGKPLLTESDIKDKLDKIDELEKEYQKELKTGKPIVTKNATVEKLKQQIETLENRILNVSIQLKDKEDNSEVSLGTSKMNYIDPRLIVMFSKKFDVPIEKLFTKTLREKFIWAIESADENWRF']]\n",
      "[['topoisomerase type I']]\n"
     ]
    }
   ],
   "source": [
    "CDS_loc = [] \n",
    "CDS_id = []\n",
    "CDS_aa = [] \n",
    "CDS_prod = []         \n",
    "for k in cds:\n",
    "    CDS_loc.append(str(seq_record.features[k].location))           #base_span(lista)\n",
    "    CDS_id.append(seq_record.features[k].qualifiers['protein_id'])    #protein_id(lista de listas)\n",
    "    CDS_aa.append(seq_record.features[k].qualifiers['translation'])   #seq. aa (lista de listas)\n",
    "    CDS_prod.append(seq_record.features[k].qualifiers['product'])\n",
    "    \n",
    "print(CDS_loc)\n",
    "print(CDS_id)\n",
    "print(CDS_aa)\n",
    "print(CDS_prod)"
   ]
  },
  {
   "cell_type": "code",
   "execution_count": 42,
   "metadata": {},
   "outputs": [
    {
     "name": "stdout",
     "output_type": "stream",
     "text": [
      "[' ']\n"
     ]
    }
   ],
   "source": [
    "CDS_gene = []         #gene da cds (pode ou nao ter)\n",
    "for k in cds: \n",
    "    try:                \n",
    "        CDS_gene.append(seq_record.features[k].qualifiers['gene'])\n",
    "    except: \n",
    "        CDS_gene.append(\" \")\n",
    "print(CDS_gene)"
   ]
  },
  {
   "cell_type": "code",
   "execution_count": 43,
   "metadata": {},
   "outputs": [
    {
     "name": "stdout",
     "output_type": "stream",
     "text": [
      "[Seq('TTTTTGGTGATGGTTTTAGGCGCGACGTTAATCATTTTTACTATTGAGAATGTA...TCA')]\n",
      "Seq('TTTTTGGTGATGGTTTTAGGCGCGACGTTAATCATTTTTACTATTGAGAATGTA...TCA\n"
     ]
    }
   ],
   "source": [
    "Seq = []                         #seq. de nucleotidos\n",
    "seq = seq_record.seq\n",
    "Seq.append(seq)\n",
    "print(Seq)\n",
    "a = re.findall(r\"Seq\\('\\w+...\\w\\w\\w\", str(Seq))\n",
    "print(a[0])"
   ]
  },
  {
   "attachments": {},
   "cell_type": "markdown",
   "metadata": {},
   "source": [
    "# Inserção de dados nas tabelas"
   ]
  },
  {
   "cell_type": "code",
   "execution_count": 44,
   "metadata": {},
   "outputs": [],
   "source": [
    "import mysql.connector\n",
    "from mysql.connector import Error"
   ]
  },
  {
   "cell_type": "code",
   "execution_count": 115,
   "metadata": {},
   "outputs": [],
   "source": [
    "db = mysql.connector.connect(host=\"127.0.0.1\",   \n",
    "                     user=\"root\",         \n",
    "                     passwd=\"Cardoso10@\",  \n",
    "                     db=\"trabalho\",\n",
    "                     auth_plugin = \"mysql_native_password\"\n",
    "                     ) "
   ]
  },
  {
   "cell_type": "code",
   "execution_count": 46,
   "metadata": {},
   "outputs": [
    {
     "data": {
      "text/plain": [
       "True"
      ]
     },
     "execution_count": 46,
     "metadata": {},
     "output_type": "execute_result"
    }
   ],
   "source": [
    "cur = db.cursor()\n",
    "cur.execute(\"\"\"\n",
    "        INSERT INTO sequence (sequence)\n",
    "        VALUES (%s)\n",
    "        \"\"\",\n",
    "        (a))\n",
    "\n",
    "db.autocommit = True  \n",
    "cur.close()  "
   ]
  },
  {
   "cell_type": "code",
   "execution_count": 47,
   "metadata": {},
   "outputs": [],
   "source": [
    "cur = db.cursor()\n",
    "cur.execute(\"\"\"\n",
    "        INSERT INTO Locus (Locus_Name, Sequence_Length, Molecule_Type, Topology, GenBank_Division, Modification_Date)\n",
    "        VALUES (%s,%s,%s,%s,%s,%s)\n",
    "        \"\"\",\n",
    "        (nome, tamanho, molecule_type, topologia, data_fyle_division,data_modificacao))\n",
    "\n",
    "db.autocommit = True    "
   ]
  },
  {
   "cell_type": "code",
   "execution_count": 22,
   "metadata": {},
   "outputs": [],
   "source": [
    "cur = db.cursor()\n",
    "cur.execute(\"\"\"\n",
    "        INSERT INTO Features (Source, Taxon, CDS, gene, mRNA, regulatory, protein_bind, misc_features, misc_difference, sig_peptide)\n",
    "        VALUES (%s,%s,%s,%s,%s,%s,%s,%s,%s,%s)\n",
    "        \"\"\",\n",
    "        (source, taxon[0], CDS, GENES, mRNA, Regulatory, ProteinBind, misc_feature, misc_difference, sig_peptide))\n",
    "\n",
    "db.autocommit = True    \n"
   ]
  },
  {
   "cell_type": "code",
   "execution_count": 48,
   "metadata": {},
   "outputs": [],
   "source": [
    "cur = db.cursor()                     \n",
    "cur.execute(\"\"\"\n",
    "        INSERT INTO Gene_Bank (ACCESSION, VERSION, DEFINITION, KEYWORDS, ORGANISM, TAXONOMY, Sequence, Locus_Name, Source)\n",
    "        VALUES (%s,%s,%s,%s,%s,%s,%s,%s,%s)\n",
    "        \"\"\",\n",
    "        (accession, id, definicao, keywords[0], organismo, taxonomia, a[0], nome, source))\n",
    "db.autocommit = True    \n"
   ]
  },
  {
   "cell_type": "code",
   "execution_count": null,
   "metadata": {},
   "outputs": [
    {
     "name": "stdout",
     "output_type": "stream",
     "text": [
      "['10.1111/j.1574-6968.1996.tb08143.x']\n",
      "['A gene encoding a type I topoisomerase (TOP1) was isolated from Candida albicans, sequenced, and expressed in Saccharomyces cerevisiae. The TOP1 gene was identified from a C. albicans genomic library by hybridization with the product of a polymerase chain reaction with degenerate primer sets encoding regions conserved in other TOP1 genes. A clone containing an open reading frame of 2463 bp and predicted to encode a protein of 778 amino acids with sequence similarity to eukaryotic type I topoisomerases was identified. The C. albicans TOP1 gene restored camptothecin sensitivity and increased the topoisomerase activity in S. cerevisiae, indicating that the DNA fragment encodes a functional C. albicans topoisomerase I.']\n",
      "['Antifungal Biology, Anti-infective Division, Abbott Laboratories, Abbott Park, IL 60064, USA.']\n",
      "'Identification of the gene encoding DNA topoisomerase I from Candida albicans'\n",
      "'FEMS Microbiol. Lett. 138 (2-3), 113-121 (1996)'\n",
      "'9026437'\n",
      "' '\n",
      "' '\n",
      "' '\n",
      "'Direct Submission'\n",
      "'Submitted (09-NOV-1995) Alison Taylor, Anit-Infectiv Division, Abbott Labs, 100 Abbott Park Rd., Abbott Park, IL 60064, USA'\n",
      "''\n"
     ]
    }
   ],
   "source": [
    "y = 0\n",
    "for x in ids_pubmed:\n",
    "    print(repr(DOI[y]))\n",
    "    print(repr(Abstract[y]))\n",
    "    print(repr(Afiliacao[y]))\n",
    "    print(repr(title[y]))\n",
    "    print(repr(journal[y]))\n",
    "    print(repr(ids_pubmed[y]))\n",
    "    y += 1"
   ]
  },
  {
   "cell_type": "code",
   "execution_count": 51,
   "metadata": {},
   "outputs": [],
   "source": [
    "cur = db.cursor()                     \n",
    "y = 0\n",
    "for x in ids_pubmed:       \n",
    "    cur.execute(\"\"\"\n",
    "                INSERT INTO Pubmed_information (Pubmed_id, title, journal, DOI, abstract, affiliation)\n",
    "                VALUES (%s,%s,%s,%s,%s,%s)\n",
    "                \"\"\",\n",
    "                (repr(ids_pubmed[y]), repr(title[y]), repr(journal[y]), repr(DOI[y]), repr(Abstract[y]), repr(Afiliacao[y])))\n",
    "    y += 1 \n",
    "db.autocommit = True    \n"
   ]
  },
  {
   "cell_type": "code",
   "execution_count": 66,
   "metadata": {},
   "outputs": [
    {
     "name": "stdout",
     "output_type": "stream",
     "text": [
      "['Taylor,A', ' Giles,K', ' Sarthy,A.V', ' McGonigal,T.', 'Fostel,J.']\n",
      "Taylor,A\n",
      " Giles,K\n",
      " Sarthy,A.V\n",
      " McGonigal,T.\n",
      "Fostel,J.\n"
     ]
    }
   ],
   "source": [
    "print(autor)\n",
    "for x in range(len(autor)):\n",
    "    print(autor[x])\n"
   ]
  },
  {
   "cell_type": "code",
   "execution_count": 70,
   "metadata": {},
   "outputs": [],
   "source": [
    "cur = db.cursor() \n",
    "for x in range(len(autor)):                    \n",
    "    cur.execute(\"\"\"\n",
    "            INSERT INTO authors (author_name)\n",
    "            VALUES (%s)\n",
    "            \"\"\",\n",
    "            (autor[x],))\n",
    "\n",
    "db.autocommit = True    \n"
   ]
  },
  {
   "cell_type": "code",
   "execution_count": 71,
   "metadata": {},
   "outputs": [
    {
     "name": "stdout",
     "output_type": "stream",
     "text": [
      "['Identification of the gene encoding DNA topoisomerase I from Candida albicans', 'Direct Submission']\n",
      "['9026437', '']\n",
      "['FEMS Microbiol. Lett. 138 (2-3), 113-121 (1996)', 'Submitted (09-NOV-1995) Alison Taylor, Anit-Infectiv Division, Abbott Labs, 100 Abbott Park Rd., Abbott Park, IL 60064, USA']\n",
      "['', '']\n",
      "['', '']\n"
     ]
    }
   ],
   "source": [
    "print(title)\n",
    "print(ids_pubmed)\n",
    "print(journal)\n",
    "print(consortium)\n",
    "print(comment)"
   ]
  },
  {
   "cell_type": "code",
   "execution_count": 73,
   "metadata": {},
   "outputs": [],
   "source": [
    "cur = db.cursor()    \n",
    "y = 0\n",
    "for x in ids_pubmed:               \n",
    "        cur.execute(\"\"\"\n",
    "                INSERT INTO reference (title, pubmed_id, journal, consortium, comment)\n",
    "                VALUES (%s,%s,%s,%s,%s)\n",
    "                \"\"\",\n",
    "                (title[y], ids_pubmed[y], journal[y], consortium[y], comment[y]))\n",
    "\n",
    "        y += 1     \n",
    "db.autocommit = True    \n"
   ]
  },
  {
   "cell_type": "code",
   "execution_count": 92,
   "metadata": {},
   "outputs": [],
   "source": [
    "cur = db.cursor()                     \n",
    "y = 0\n",
    "for x in CDS_id:\n",
    "        cur.execute(\"\"\"\n",
    "                INSERT INTO CDS (protein_id, Base_Span, translation, gene, produto, VERSION, Source)\n",
    "                VALUES (%s,%s,%s,%s,%s,%s,%s)\n",
    "                \"\"\",\n",
    "                (CDS_id[y][y], CDS_loc[y], CDS_aa[y][y], CDS_gene[y][y], CDS_prod[y][y], id, source))\n",
    "y += 1\n",
    "        \n",
    "db.autocommit = True    \n"
   ]
  },
  {
   "cell_type": "code",
   "execution_count": 88,
   "metadata": {},
   "outputs": [
    {
     "name": "stdout",
     "output_type": "stream",
     "text": [
      "[473:2810](+)\n",
      "AAC49381.1\n",
      "MNSSDEEDIALSRLAKKSSSITSASTYEDDEDDDIPLAKKSRKKRVESDYEEDEDEVPLKKLSNGRAKKQVKTETKVKKEPKSANKSKSTSKKDTKVKKEKTTVKKESKATSTKVKEESKTQSDSQASVKSETPEEDQGYKWWEVNQEEEGDGYIKWQTLEHNGVMFPPPYEPLPSHVKLYYNNKPVNLPPEAEEVAGFYGAMLETDHAKNPVFQKNFFNDFLEVLKECGGCGVEIKKFEKLDFSKMYAHFEKLREEKKAMSREEKKRIKEEKEKEEEPYRTCYLNGRKELVGNFRIEPPGLFRGRGAHPKTGKLKRRVVSEQVTLNLGKDAKIPEPPAGHQWGEIRHDNEVTWLAMWKENISDSLKYVRFANNSSVKGQSDFKKFETARKLRDHVDSIRKDYTKMLKSEKMQDRQMATAMYLIDVFALRAGGEKGEDEADTVGCCSLRYEHVTLKPPNKVIFDLLGKDSIRFYQEVEVDKQVFKNLRIFKKSPKQPGDDLFDRINPSLVNRQLQNYMKGLTAKVFRTYNASKTMQDQIDIIENEGTVAEKVAKFNAANRTVAILCNHQRTVSKTHGDSVQRINDKLKKFMWQKIRLKKMILQLEPKLKKKDSKYFEEIDDLIKEDIEHIHHTIIKRQREQAKKKLERDNEKLKLEGKPLLTESDIKDKLDKIDELEKEYQKELKTGKPIVTKNATVEKLKQQIETLENRILNVSIQLKDKEDNSEVSLGTSKMNYIDPRLIVMFSKKFDVPIEKLFTKTLREKFIWAIESADENWRF\n",
      "topoisomerase type I\n",
      " \n"
     ]
    }
   ],
   "source": [
    "y = 0\n",
    "for x in CDS_id:\n",
    "    print(CDS_loc[y])\n",
    "    print(CDS_id[y][y])\n",
    "    print(CDS_aa[y][y])\n",
    "    print(CDS_prod[y][y])\n",
    "    print(CDS_gene[y][y])\n",
    "    y += 1"
   ]
  },
  {
   "cell_type": "code",
   "execution_count": 111,
   "metadata": {},
   "outputs": [],
   "source": [
    "cur = db.cursor() \n",
    "for x in range(len(autor)):\n",
    "    for y in range(len(ids_pubmed)):               \n",
    "        cur.execute(\"\"\"\n",
    "                INSERT INTO pubmed_authors(Pubmed_id, author_name)\n",
    "                VALUES (%s,%s)\n",
    "                \"\"\",\n",
    "                (ids_pubmed[y], autor[x]))\n",
    "\n",
    "db.autocommit = True    \n"
   ]
  },
  {
   "cell_type": "code",
   "execution_count": 116,
   "metadata": {},
   "outputs": [],
   "source": [
    "cur = db.cursor()  \n",
    "for x in range(len(title)):                   \n",
    "    cur.execute(\"\"\"\n",
    "            INSERT INTO genbank_reference (VERSION, title)\n",
    "            VALUES (%s,%s)\n",
    "            \"\"\",\n",
    "        (id, title[x]))\n",
    "\n",
    "db.autocommit = True    "
   ]
  }
 ],
 "metadata": {
  "kernelspec": {
   "display_name": "Python 3",
   "language": "python",
   "name": "python3"
  },
  "language_info": {
   "codemirror_mode": {
    "name": "ipython",
    "version": 3
   },
   "file_extension": ".py",
   "mimetype": "text/x-python",
   "name": "python",
   "nbconvert_exporter": "python",
   "pygments_lexer": "ipython3",
   "version": "3.10.7"
  },
  "orig_nbformat": 4,
  "vscode": {
   "interpreter": {
    "hash": "4e1fc3fa23fb62f3f701e1450a48be1e01c4f473533356521fe76f63c343b8fd"
   }
  }
 },
 "nbformat": 4,
 "nbformat_minor": 2
}
