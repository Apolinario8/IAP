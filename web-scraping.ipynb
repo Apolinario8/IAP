{
 "cells": [
  {
   "cell_type": "code",
   "execution_count": 2,
   "metadata": {},
   "outputs": [
    {
     "name": "stdout",
     "output_type": "stream",
     "text": [
      "Collecting beautifulsoup4\n",
      "  Downloading beautifulsoup4-4.11.1-py3-none-any.whl (128 kB)\n",
      "     -------------------------------------- 128.2/128.2 kB 1.3 MB/s eta 0:00:00\n",
      "Collecting soupsieve>1.2\n",
      "  Downloading soupsieve-2.3.2.post1-py3-none-any.whl (37 kB)\n",
      "Installing collected packages: soupsieve, beautifulsoup4\n",
      "Successfully installed beautifulsoup4-4.11.1 soupsieve-2.3.2.post1\n",
      "Note: you may need to restart the kernel to use updated packages.\n"
     ]
    },
    {
     "name": "stderr",
     "output_type": "stream",
     "text": [
      "\n",
      "[notice] A new release of pip available: 22.2.2 -> 22.3.1\n",
      "[notice] To update, run: python.exe -m pip install --upgrade pip\n"
     ]
    }
   ],
   "source": [
    "pip install beautifulsoup4"
   ]
  },
  {
   "cell_type": "code",
   "execution_count": 24,
   "metadata": {},
   "outputs": [],
   "source": [
    "from bs4 import BeautifulSoup"
   ]
  },
  {
   "cell_type": "code",
   "execution_count": 9,
   "metadata": {},
   "outputs": [
    {
     "name": "stdout",
     "output_type": "stream",
     "text": [
      "Files in 'c:\\\\Users\\\\Win10\\\\Documents\\\\GitHub\\\\Projeto': ['.git', 'Human immunodeficiency virus type 1 (isolate genotype C, I5) gag gene, - Nucleotide - NCBI.html', 'Human immunodeficiency virus type 1 (isolate genotype C, I5) gag gene, - Nucleotide - NCBI_files', 'README.md', 'Web scraping-exemplo sor.ipynb']\n"
     ]
    }
   ],
   "source": [
    "import os\n",
    "\n",
    "cwd = os.getcwd()\n",
    "files = os.listdir(cwd)  \n",
    "print(\"Files in %r: %s\" % (cwd, files))"
   ]
  },
  {
   "attachments": {},
   "cell_type": "markdown",
   "metadata": {},
   "source": [
    "# Com download ficheiro HTML"
   ]
  },
  {
   "cell_type": "code",
   "execution_count": 25,
   "metadata": {},
   "outputs": [],
   "source": [
    "with open(\"Human immunodeficiency virus type 1 (isolate genotype C, I5) gag gene, - Nucleotide - NCBI.html\") as html_file:\n",
    "    soup = BeautifulSoup(html_file, 'html.parser') \n",
    "#print(soup)"
   ]
  },
  {
   "cell_type": "code",
   "execution_count": 28,
   "metadata": {},
   "outputs": [
    {
     "name": "stdout",
     "output_type": "stream",
     "text": [
      "Human immunodeficiency virus type 1 (isolate genotype C, I5) gag gene, - Nucleotide - NCBI\n"
     ]
    }
   ],
   "source": [
    "match = soup.title.text\n",
    "print(match)"
   ]
  },
  {
   "cell_type": "code",
   "execution_count": 26,
   "metadata": {},
   "outputs": [
    {
     "data": {
      "text/plain": [
       "'LOCUS       HIVI5C                   231 bp    DNA     linear   VRL 24-MAR-1997\\nDEFINITION  Human immunodeficiency virus type 1 (isolate genotype C, I5) gag\\n            gene, partial cds.\\nACCESSION   L42022\\nVERSION     L42022.1\\nKEYWORDS    gag gene; p24 protein.\\nSOURCE      Human immunodeficiency virus 1 (HIV-1)\\n  ORGANISM  Human immunodeficiency virus 1\\n            Viruses; Riboviria; Pararnavirae; Artverviricota; Revtraviricetes;\\n            Ortervirales; Retroviridae; Orthoretrovirinae; Lentivirus.\\nREFERENCE   1  (bases 1 to 231)\\n  AUTHORS   Voevodin,A., Crandall,K.A., Seth,P. and al Mufti,S.\\n  TITLE     HIV type 1 subtypes B and C from new regions of India and Indian\\n            and Ethiopian expatriates in Kuwait\\n  JOURNAL   AIDS Res. Hum. Retroviruses 12 (7), 641-643 (1996)\\n   PUBMED   8743090\\nFEATURES             Location/Qualifiers\\n     source          1..231\\n                     /organism=\"Human immunodeficiency virus 1\"\\n                     /proviral\\n                     /mol_type=\"genomic DNA\"\\n                     /isolate=\"genotype C, I5\"\\n                     /db_xref=\"taxon:11676\"\\n     gene            1..231\\n                     /gene=\"gag\"\\n     CDS             <1..>231\\n                     /gene=\"gag\"\\n                     /codon_start=1\\n                     /protein_id=\"AAB50165.1\"\\n                     /translation=\"HPVHAGPIAPGQMREPRGSDIAGTTSTLQEQVAWMTGNPPVPVG\\n                     EIYKRWIILGLNKIVRMYSPVSILDIKQGPKEP\"\\nORIGIN      \\n        1 catccagtac atgcagggcc tattgcacca ggccaaatga gagaaccaag gggaagtgac\\n       61 atagcaggaa ctacaagtac ccttcaggaa caagtagcat ggatgacagg taacccacct\\n      121 gttccagtgg gagaaatcta taaaagatgg ataattctgg gattaaataa aatagtaaga\\n      181 atgtatagcc ctgtcagcat tttggacata aaacaagggc caaaggaacc c\\n//'"
      ]
     },
     "execution_count": 26,
     "metadata": {},
     "output_type": "execute_result"
    }
   ],
   "source": [
    "genbank = soup.find('pre', class_='genbank')\n",
    "genbank = genbank.text\n",
    "genbank"
   ]
  },
  {
   "cell_type": "code",
   "execution_count": 29,
   "metadata": {},
   "outputs": [],
   "source": [
    "import re "
   ]
  },
  {
   "cell_type": "code",
   "execution_count": 101,
   "metadata": {},
   "outputs": [
    {
     "name": "stdout",
     "output_type": "stream",
     "text": [
      "HIVI5C\n",
      "231\n",
      "DNA\n",
      "linear\n",
      "VRL\n",
      "24-MAR-1997\n"
     ]
    }
   ],
   "source": [
    "pattern =  re.compile(r'LOCUS\\s+([a-zA-Z0-9]+)\\s+([0-9]+)\\s+([a-zA-Z]+)\\s+([A-Z]+)\\s+([a-z]+)\\s+([A-Z]+)\\s(.+)')\n",
    "matches = pattern.finditer(genbank)\n",
    "for x in matches:\n",
    "    print(x.group(1))\n",
    "    print(x.group(2))\n",
    "    print(x.group(4))\n",
    "    print(x.group(5))\n",
    "    print(x.group(6))\n",
    "    print(x.group(7))"
   ]
  },
  {
   "cell_type": "code",
   "execution_count": 29,
   "metadata": {},
   "outputs": [
    {
     "name": "stdout",
     "output_type": "stream",
     "text": [
      "['  Human immunodeficiency virus type 1 (isolate genotype C, I5) gag\\n            gene, partial cds.\\nACCESSION   L42022\\nVERSION     L42022.1\\nKEYWORDS    gag gene; p24 protein.\\nSOURCE      Human immunodeficiency virus 1 (HIV-1)\\n  ORGANISM  Human immunodeficiency virus 1\\n            Viruses; Riboviria; Pararnavirae; Artverviricota; Revtraviricetes;\\n            Ortervirales; Retroviridae; Orthoretrovirinae; Lentivirus.\\nREFERENCE   1  (bases 1 to 231)\\n  AUTHORS   Voevodin,A., Crandall,K.A., Seth,P. and al Mufti,S.\\n  TITLE     HIV type 1 subtypes B and C from new regions of India and Indian\\n            and Ethiopian expatriates in Kuwait\\n  JOURNAL   AIDS Res. Hum. Retroviruses 12 (7), 641-643 (1996)\\n   PUBMED   8743090\\nFEATURES             Location/Qualifiers\\n     source          1..231\\n                     /organism=\"Human immunodeficiency virus 1\"\\n                     /proviral\\n                     /mol_type=\"genomic DNA\"\\n                     /isolate=\"genotype C, I5\"\\n                     /db_xref=\"taxon:11676\"\\n     gene            1..231\\n                     /gene=\"gag\"\\n     CDS             <1..>231\\n                     /gene=\"gag\"\\n                     /codon_start=1\\n                     /protein_id=\"AAB50165.1\"\\n                     /translation=\"HPVHAGPIAPGQMREPRGSDIAGTTSTLQEQVAWMTGNPPVPVG\\n                     EIYKRWIILGLNKIVRMYSPVSILDIKQGPKEP\"\\nORIGIN      \\n        1 catccagtac atgcagggcc tattgcacca ggccaaatga gagaaccaag gggaagtgac\\n       61 atagcaggaa ctacaagtac ccttcaggaa caagtagcat ggatgacagg taacccacct\\n      121 gttccagtgg gagaaatcta taaaagatgg ataattctgg gattaaataa aatagtaaga\\n      181 atgtatagcc ctgtcagcat tttggacata aaacaagggc caaaggaacc c\\n//']\n"
     ]
    }
   ],
   "source": [
    "result = re.findall(r'DEFINITION', genbank)\n",
    "print(result)"
   ]
  },
  {
   "cell_type": "code",
   "execution_count": 17,
   "metadata": {},
   "outputs": [
    {
     "name": "stdout",
     "output_type": "stream",
     "text": [
      "Human immunodeficiency virus type 1 (isolate genotype C, I5) gag\n",
      "            gene, partial cds.\n"
     ]
    }
   ],
   "source": [
    "pattern = re.compile(r'DEFINITION\\s\\s(.+)\\s(.+)\\s')       \n",
    "matches = pattern.finditer(genbank)\n",
    "for x in matches:\n",
    "    print(x.group(1))\n",
    "    print(x.group(2))\n",
    "    "
   ]
  },
  {
   "cell_type": "code",
   "execution_count": 60,
   "metadata": {},
   "outputs": [
    {
     "name": "stdout",
     "output_type": "stream",
     "text": [
      "L42022\n"
     ]
    }
   ],
   "source": [
    "pattern = re.compile(r'ACCESSION\\s\\s\\s(\\w+)\\s')\n",
    "matches = pattern.finditer(genbank)\n",
    "for x in matches:\n",
    "    print(x.group(1))"
   ]
  },
  {
   "cell_type": "code",
   "execution_count": 62,
   "metadata": {},
   "outputs": [
    {
     "name": "stdout",
     "output_type": "stream",
     "text": [
      "  L42022.1\n"
     ]
    }
   ],
   "source": [
    "pattern = re.compile(r'VERSION\\s\\s\\s(.+)\\s')\n",
    "matches = pattern.finditer(genbank)\n",
    "for x in matches:\n",
    "    print(x.group(1))"
   ]
  },
  {
   "cell_type": "code",
   "execution_count": 68,
   "metadata": {},
   "outputs": [
    {
     "name": "stdout",
     "output_type": "stream",
     "text": [
      "gag gene; p24 protein.\n"
     ]
    }
   ],
   "source": [
    "pattern = re.compile(r'KEYWORDS\\s\\s\\s\\s(.+)\\s')\n",
    "matches = pattern.finditer(genbank)\n",
    "for x in matches:\n",
    "    print(x.group(1))"
   ]
  },
  {
   "cell_type": "code",
   "execution_count": 77,
   "metadata": {},
   "outputs": [
    {
     "name": "stdout",
     "output_type": "stream",
     "text": [
      "Human immunodeficiency virus 1 (HIV-1)\n"
     ]
    }
   ],
   "source": [
    "pattern = re.compile(r'SOURCE\\s\\s\\s\\s\\s\\s(.+)\\s')\n",
    "matches = pattern.finditer(genbank)\n",
    "for x in matches:\n",
    "    print(x.group(1))"
   ]
  },
  {
   "cell_type": "code",
   "execution_count": 78,
   "metadata": {},
   "outputs": [
    {
     "name": "stdout",
     "output_type": "stream",
     "text": [
      "Human immunodeficiency virus 1\n"
     ]
    }
   ],
   "source": [
    "pattern = re.compile(r'ORGANISM\\s\\s(.+)\\s')\n",
    "matches = pattern.finditer(genbank)\n",
    "for x in matches:\n",
    "    print(x.group(1))"
   ]
  },
  {
   "cell_type": "code",
   "execution_count": 95,
   "metadata": {},
   "outputs": [
    {
     "name": "stdout",
     "output_type": "stream",
     "text": [
      "Voevodin,A., Crandall,K.A., Seth,P. and al Mufti,S.\n"
     ]
    }
   ],
   "source": [
    "pattern = re.compile(r'AUTHORS\\s\\s\\s(.+)\\s') #ver\n",
    "matches = pattern.finditer(genbank)\n",
    "for x in matches:\n",
    "    print(x.group(1))"
   ]
  },
  {
   "cell_type": "code",
   "execution_count": null,
   "metadata": {},
   "outputs": [],
   "source": [
    "\n",
    "TITLE     HIV type 1 subtypes B and C from new regions of India and Indian\\n            and Ethiopian expatriates in Kuwait\\n  JOURNAL"
   ]
  },
  {
   "cell_type": "code",
   "execution_count": 31,
   "metadata": {},
   "outputs": [
    {
     "name": "stdout",
     "output_type": "stream",
     "text": [
      "<re.Match object; span=(605, 679), match='TITLE     HIV type 1 subtypes B and C from new re>\n"
     ]
    }
   ],
   "source": [
    "pattern = re.compile(r'TITLE\\s+(.+)') #ver\n",
    "matches = pattern.finditer(genbank)\n",
    "for x in matches:\n",
    "    print(x)\n",
    "    "
   ]
  },
  {
   "cell_type": "code",
   "execution_count": 14,
   "metadata": {},
   "outputs": [
    {
     "name": "stdout",
     "output_type": "stream",
     "text": [
      "HIV type 1 subtypes B and C from new regions of India and Indian\n",
      "            and Ethiopian expatriates in Kuwait\n"
     ]
    }
   ],
   "source": [
    "pattern = re.compile(r'TITLE\\s+(.+)\\s(.+)\\s') #ver\n",
    "matches = pattern.finditer(genbank)\n",
    "for x in matches:\n",
    "    print(x.group(1))\n",
    "    print(x.group(2))"
   ]
  },
  {
   "cell_type": "code",
   "execution_count": 27,
   "metadata": {},
   "outputs": [
    {
     "name": "stdout",
     "output_type": "stream",
     "text": [
      "AIDS Res. Hum. Retroviruses 12 (7), 641-643 (1996)\n",
      "8743090\n"
     ]
    }
   ],
   "source": [
    "pattern = re.compile(r'JOURNAL\\s\\s\\s(.+)\\s(.+)PUBMED\\s\\s\\s([0-9]+)') \n",
    "matches = pattern.finditer(genbank)\n",
    "for x in matches:\n",
    "    print(x.group(1))\n",
    "    print(x.group(3))"
   ]
  },
  {
   "cell_type": "code",
   "execution_count": 52,
   "metadata": {},
   "outputs": [
    {
     "name": "stdout",
     "output_type": "stream",
     "text": [
      "1..231\n"
     ]
    }
   ],
   "source": [
    "pattern = re.compile(r'source\\s\\s\\s\\s\\s\\s\\s\\s\\s\\s(.+)\\s') \n",
    "matches = pattern.finditer(genbank)\n",
    "for x in matches:\n",
    "    print(x.group(1))\n",
    "    "
   ]
  },
  {
   "cell_type": "code",
   "execution_count": 70,
   "metadata": {},
   "outputs": [
    {
     "name": "stdout",
     "output_type": "stream",
     "text": [
      "gag\n",
      "gag\n"
     ]
    }
   ],
   "source": [
    "pattern = re.compile(r'/gene=\"(\\w+)\"') \n",
    "matches = pattern.finditer(genbank)\n",
    "for x in matches:\n",
    "    print(x.group(1))\n",
    "    "
   ]
  },
  {
   "cell_type": "code",
   "execution_count": 84,
   "metadata": {},
   "outputs": [
    {
     "name": "stdout",
     "output_type": "stream",
     "text": [
      "<1..>231\n"
     ]
    }
   ],
   "source": [
    "pattern = re.compile(r'CDS\\s\\s\\s\\s\\s\\s\\s\\s\\s\\s\\s\\s\\s(.+)\\s') \n",
    "matches = pattern.finditer(genbank)\n",
    "for x in matches:\n",
    "    print(x.group(1))"
   ]
  },
  {
   "cell_type": "code",
   "execution_count": 85,
   "metadata": {},
   "outputs": [
    {
     "name": "stdout",
     "output_type": "stream",
     "text": [
      "AAB50165.1\n"
     ]
    }
   ],
   "source": [
    "pattern = re.compile(r'/protein_id=\"(.+)\"') \n",
    "matches = pattern.finditer(genbank)\n",
    "for x in matches:\n",
    "    print(x.group(1))"
   ]
  },
  {
   "cell_type": "code",
   "execution_count": 100,
   "metadata": {},
   "outputs": [
    {
     "name": "stdout",
     "output_type": "stream",
     "text": [
      "<re.Match object; span=(1338, 1397), match='/translation=\"HPVHAGPIAPGQMREPRGSDIAGTTSTLQEQVAWM>\n"
     ]
    }
   ],
   "source": [
    "pattern = re.compile(r'/translation=\"(.+)\\s') \n",
    "matches = pattern.finditer(genbank)\n",
    "for x in matches:\n",
    "    print(x)"
   ]
  },
  {
   "cell_type": "code",
   "execution_count": 130,
   "metadata": {},
   "outputs": [
    {
     "name": "stdout",
     "output_type": "stream",
     "text": [
      "<re.Match object; span=(1338, 1452), match='/translation=\"HPVHAGPIAPGQMREPRGSDIAGTTSTLQEQVAWM>\n"
     ]
    }
   ],
   "source": [
    "pattern = re.compile(r'/translation=\"(.+)\\n(.+)\"') \n",
    "matches = pattern.finditer(genbank)\n",
    "for x in matches:\n",
    "    print(x)"
   ]
  },
  {
   "cell_type": "code",
   "execution_count": 129,
   "metadata": {},
   "outputs": [
    {
     "name": "stdout",
     "output_type": "stream",
     "text": [
      "['/translation=\"HPVHAGPIAPGQMREPRGSDIAGTTSTLQEQVAWMTGNPPVPVG\\n                     EIYKRWIILGLNKIVRMYSPVSILDIKQGPKEP\"']\n"
     ]
    }
   ],
   "source": [
    "result = re.findall(r'/translation=\".+\\n.+\"', genbank)\n",
    "print(result)"
   ]
  },
  {
   "cell_type": "code",
   "execution_count": 92,
   "metadata": {},
   "outputs": [
    {
     "name": "stdout",
     "output_type": "stream",
     "text": [
      "CATCCAGTACATGCAGGGCCTATTGCACCAGGCCAAATGAGAGAACCAAGGGGAAGTGACATAGCAGGAACTACAAGTACCCTTCAGGAACAAGTAGCATGGATGACAGGTAACCCACCTGTTCCAGTGGGAGAAATCTATAAAAGATGGATAATTCTGGGATTAAATAAAATAGTAAGAATGTATAGCCCTGTCAGCATTTTGGACATAAAACAAGGGCCAAAGGAACCC\n"
     ]
    }
   ],
   "source": [
    "sequencia = soup.find_all('span', class_=\"ff_line\")\n",
    "proteina = \"\"\n",
    "for x in sequencia:\n",
    "    aa = x.text\n",
    "    aa = aa.replace(\" \",\"\")\n",
    "    proteina += aa.upper()\n",
    "print(proteina)"
   ]
  },
  {
   "cell_type": "code",
   "execution_count": null,
   "metadata": {},
   "outputs": [],
   "source": [
    "features = soup.find_all('span', class_=\"feature\")\n",
    "print(features)"
   ]
  },
  {
   "cell_type": "code",
   "execution_count": 40,
   "metadata": {},
   "outputs": [
    {
     "name": "stdout",
     "output_type": "stream",
     "text": [
      "     source          1..231\n",
      "                     /organism=\"Human immunodeficiency virus 1\"\n",
      "                     /proviral\n",
      "                     /mol_type=\"genomic DNA\"\n",
      "                     /isolate=\"genotype C, I5\"\n",
      "                     /db_xref=\"taxon:11676\"\n",
      "\n",
      "     gene            1..231\n",
      "                     /gene=\"gag\"\n",
      "\n",
      "     CDS             <1..>231\n",
      "                     /gene=\"gag\"\n",
      "                     /codon_start=1\n",
      "                     /protein_id=\"AAB50165.1\"\n",
      "                     /translation=\"HPVHAGPIAPGQMREPRGSDIAGTTSTLQEQVAWMTGNPPVPVG\n",
      "                     EIYKRWIILGLNKIVRMYSPVSILDIKQGPKEP\"\n",
      "\n"
     ]
    }
   ],
   "source": [
    "for x in features:\n",
    "    print(x.text)\n",
    "    features_ = x.text"
   ]
  },
  {
   "attachments": {},
   "cell_type": "markdown",
   "metadata": {},
   "source": [
    "# requests"
   ]
  },
  {
   "cell_type": "code",
   "execution_count": 2,
   "metadata": {},
   "outputs": [],
   "source": [
    "import requests\n",
    "from bs4 import BeautifulSoup"
   ]
  },
  {
   "cell_type": "code",
   "execution_count": 3,
   "metadata": {},
   "outputs": [],
   "source": [
    "URL = \"https://www.ncbi.nlm.nih.gov/nuccore/804715\"\n",
    "page = requests.get(URL)"
   ]
  },
  {
   "cell_type": "code",
   "execution_count": null,
   "metadata": {},
   "outputs": [],
   "source": [
    "print(page.text)"
   ]
  },
  {
   "cell_type": "code",
   "execution_count": 27,
   "metadata": {},
   "outputs": [],
   "source": [
    "soup = BeautifulSoup(page.content, \"html.parser\")"
   ]
  },
  {
   "cell_type": "code",
   "execution_count": 26,
   "metadata": {},
   "outputs": [
    {
     "name": "stdout",
     "output_type": "stream",
     "text": [
      "None\n"
     ]
    }
   ],
   "source": [
    "results = soup.find(id=\"feature_L42022.1_source_0\")\n",
    "print(results)"
   ]
  },
  {
   "cell_type": "code",
   "execution_count": null,
   "metadata": {},
   "outputs": [],
   "source": []
  },
  {
   "attachments": {},
   "cell_type": "markdown",
   "metadata": {},
   "source": [
    "# BioPython"
   ]
  },
  {
   "cell_type": "code",
   "execution_count": 44,
   "metadata": {},
   "outputs": [],
   "source": [
    "from Bio import Entrez\n",
    "from Bio import SeqIO\n",
    "from Bio import Medline\n",
    "Entrez.email='goncalocardoso2016@gmail.com'"
   ]
  },
  {
   "cell_type": "code",
   "execution_count": null,
   "metadata": {},
   "outputs": [],
   "source": [
    "#id = input(\"Insira id do seu organismo\")"
   ]
  },
  {
   "cell_type": "code",
   "execution_count": 55,
   "metadata": {},
   "outputs": [
    {
     "name": "stdout",
     "output_type": "stream",
     "text": [
      "ID: L42022.1\n",
      "Name: HIVI5C\n",
      "Description: Human immunodeficiency virus type 1 (isolate genotype C, I5) gag gene, partial cds\n",
      "Number of features: 3\n",
      "/molecule_type=DNA\n",
      "/topology=linear\n",
      "/data_file_division=VRL\n",
      "/date=24-MAR-1997\n",
      "/accessions=['L42022']\n",
      "/sequence_version=1\n",
      "/keywords=['gag gene', 'p24 protein']\n",
      "/source=Human immunodeficiency virus 1 (HIV-1)\n",
      "/organism=Human immunodeficiency virus 1\n",
      "/taxonomy=['Viruses', 'Riboviria', 'Pararnavirae', 'Artverviricota', 'Revtraviricetes', 'Ortervirales', 'Retroviridae', 'Orthoretrovirinae', 'Lentivirus']\n",
      "/references=[Reference(title='HIV type 1 subtypes B and C from new regions of India and Indian and Ethiopian expatriates in Kuwait', ...)]\n",
      "Seq('CATCCAGTACATGCAGGGCCTATTGCACCAGGCCAAATGAGAGAACCAAGGGGA...CCC')\n"
     ]
    }
   ],
   "source": [
    "handle = Entrez.efetch(db='nucleotide', id=\"L42022.1\", rettype='gb', retmode='text')\n",
    "seq_record = SeqIO.read(handle, \"gb\")\n",
    "print(seq_record)"
   ]
  },
  {
   "cell_type": "code",
   "execution_count": 36,
   "metadata": {},
   "outputs": [
    {
     "data": {
      "text/plain": [
       "1"
      ]
     },
     "execution_count": 36,
     "metadata": {},
     "output_type": "execute_result"
    }
   ],
   "source": [
    "SeqIO.write(seq_record, \"{id}.gb\", \"genbank\")\n"
   ]
  },
  {
   "cell_type": "code",
   "execution_count": 2,
   "metadata": {},
   "outputs": [],
   "source": [
    "seq_record = SeqIO.read(\"{id}.gb\", \"gb\")"
   ]
  },
  {
   "cell_type": "code",
   "execution_count": 4,
   "metadata": {},
   "outputs": [
    {
     "name": "stdout",
     "output_type": "stream",
     "text": [
      "L42022.1\n"
     ]
    }
   ],
   "source": [
    "id = seq_record.id\n",
    "print(id)"
   ]
  },
  {
   "cell_type": "code",
   "execution_count": 6,
   "metadata": {},
   "outputs": [
    {
     "name": "stdout",
     "output_type": "stream",
     "text": [
      "CATCCAGTACATGCAGGGCCTATTGCACCAGGCCAAATGAGAGAACCAAGGGGAAGTGACATAGCAGGAACTACAAGTACCCTTCAGGAACAAGTAGCATGGATGACAGGTAACCCACCTGTTCCAGTGGGAGAAATCTATAAAAGATGGATAATTCTGGGATTAAATAAAATAGTAAGAATGTATAGCCCTGTCAGCATTTTGGACATAAAACAAGGGCCAAAGGAACCC\n"
     ]
    }
   ],
   "source": [
    "seq = str(seq_record.seq)\n",
    "print(seq)"
   ]
  },
  {
   "cell_type": "code",
   "execution_count": 8,
   "metadata": {},
   "outputs": [
    {
     "name": "stdout",
     "output_type": "stream",
     "text": [
      "HIVI5C\n"
     ]
    }
   ],
   "source": [
    "nome = seq_record.name\n",
    "print(nome)"
   ]
  },
  {
   "cell_type": "code",
   "execution_count": 9,
   "metadata": {},
   "outputs": [
    {
     "name": "stdout",
     "output_type": "stream",
     "text": [
      "Human immunodeficiency virus type 1 (isolate genotype C, I5) gag gene, partial cds\n"
     ]
    }
   ],
   "source": [
    "definicao = seq_record.description\n",
    "print(definicao)"
   ]
  },
  {
   "cell_type": "code",
   "execution_count": 55,
   "metadata": {},
   "outputs": [
    {
     "data": {
      "text/plain": [
       "{'molecule_type': 'DNA',\n",
       " 'topology': 'linear',\n",
       " 'data_file_division': 'VRL',\n",
       " 'date': '24-MAR-1997',\n",
       " 'accessions': ['L42022'],\n",
       " 'sequence_version': 1,\n",
       " 'keywords': ['gag gene', 'p24 protein'],\n",
       " 'source': 'Human immunodeficiency virus 1 (HIV-1)',\n",
       " 'organism': 'Human immunodeficiency virus 1',\n",
       " 'taxonomy': ['Viruses',\n",
       "  'Riboviria',\n",
       "  'Pararnavirae',\n",
       "  'Artverviricota',\n",
       "  'Revtraviricetes',\n",
       "  'Ortervirales',\n",
       "  'Retroviridae',\n",
       "  'Orthoretrovirinae',\n",
       "  'Lentivirus'],\n",
       " 'references': [Reference(title='HIV type 1 subtypes B and C from new regions of India and Indian and Ethiopian expatriates in Kuwait', ...)]}"
      ]
     },
     "execution_count": 55,
     "metadata": {},
     "output_type": "execute_result"
    }
   ],
   "source": [
    "seq_record.annotations"
   ]
  },
  {
   "cell_type": "code",
   "execution_count": 10,
   "metadata": {},
   "outputs": [
    {
     "name": "stdout",
     "output_type": "stream",
     "text": [
      "DNA\n"
     ]
    }
   ],
   "source": [
    "molecule_type = seq_record.annotations[\"molecule_type\"]\n",
    "print(molecule_type)"
   ]
  },
  {
   "cell_type": "code",
   "execution_count": 11,
   "metadata": {},
   "outputs": [
    {
     "name": "stdout",
     "output_type": "stream",
     "text": [
      "linear\n"
     ]
    }
   ],
   "source": [
    "topologia = seq_record.annotations[\"topology\"]\n",
    "print(topologia)"
   ]
  },
  {
   "cell_type": "code",
   "execution_count": 12,
   "metadata": {},
   "outputs": [
    {
     "name": "stdout",
     "output_type": "stream",
     "text": [
      "VRL\n"
     ]
    }
   ],
   "source": [
    "data_fyle_division = seq_record.annotations[\"data_file_division\"]\n",
    "print(data_fyle_division)"
   ]
  },
  {
   "cell_type": "code",
   "execution_count": 13,
   "metadata": {},
   "outputs": [
    {
     "name": "stdout",
     "output_type": "stream",
     "text": [
      "24-MAR-1997\n"
     ]
    }
   ],
   "source": [
    "data_modificacao = seq_record.annotations[\"date\"]\n",
    "print(data_modificacao)"
   ]
  },
  {
   "cell_type": "code",
   "execution_count": 14,
   "metadata": {},
   "outputs": [
    {
     "name": "stdout",
     "output_type": "stream",
     "text": [
      "['L42022']\n"
     ]
    }
   ],
   "source": [
    "accession = seq_record.annotations[\"accessions\"]\n",
    "print(accession)\n"
   ]
  },
  {
   "cell_type": "code",
   "execution_count": 15,
   "metadata": {},
   "outputs": [
    {
     "name": "stdout",
     "output_type": "stream",
     "text": [
      "['gag gene', 'p24 protein']\n"
     ]
    }
   ],
   "source": [
    "keywords = seq_record.annotations[\"keywords\"]\n",
    "print(keywords)"
   ]
  },
  {
   "cell_type": "code",
   "execution_count": 16,
   "metadata": {},
   "outputs": [
    {
     "name": "stdout",
     "output_type": "stream",
     "text": [
      "Human immunodeficiency virus 1 (HIV-1)\n"
     ]
    }
   ],
   "source": [
    "source = seq_record.annotations[\"source\"]\n",
    "print(source)"
   ]
  },
  {
   "cell_type": "code",
   "execution_count": 17,
   "metadata": {},
   "outputs": [
    {
     "name": "stdout",
     "output_type": "stream",
     "text": [
      "Human immunodeficiency virus 1\n"
     ]
    }
   ],
   "source": [
    "organismo = seq_record.annotations[\"organism\"]\n",
    "print(organismo)"
   ]
  },
  {
   "cell_type": "code",
   "execution_count": 19,
   "metadata": {},
   "outputs": [
    {
     "name": "stdout",
     "output_type": "stream",
     "text": [
      "['Viruses', 'Riboviria', 'Pararnavirae', 'Artverviricota', 'Revtraviricetes', 'Ortervirales', 'Retroviridae', 'Orthoretrovirinae', 'Lentivirus']\n"
     ]
    }
   ],
   "source": [
    "taxonomia = seq_record.annotations[\"taxonomy\"]\n",
    "print(taxonomia)"
   ]
  },
  {
   "cell_type": "code",
   "execution_count": 67,
   "metadata": {},
   "outputs": [
    {
     "name": "stdout",
     "output_type": "stream",
     "text": [
      "location: [0:231]\n",
      "authors: Voevodin,A., Crandall,K.A., Seth,P. and al Mufti,S.\n",
      "title: HIV type 1 subtypes B and C from new regions of India and Indian and Ethiopian expatriates in Kuwait\n",
      "journal: AIDS Res. Hum. Retroviruses 12 (7), 641-643 (1996)\n",
      "medline id: \n",
      "pubmed id: 8743090\n",
      "comment: \n",
      " \n",
      "\n",
      "Nº de refs: 1\n",
      "IDs do PubMed: ['8743090']\n"
     ]
    }
   ],
   "source": [
    "refs = []\n",
    "ids_pubmed = []\n",
    "for x in range(len(seq_record.annotations[\"references\"])):\n",
    "    print(seq_record.annotations[\"references\"][x],\"\\n\")\n",
    "    refs.append(x)\n",
    "    ids_pubmed.append(seq_record.annotations[\"references\"][x].pubmed_id)\n",
    "    print(\"Nº de refs:\", len(refs))\n",
    "    print(\"IDs do PubMed:\", ids_pubmed)\n",
    "    \n",
    "    \n"
   ]
  },
  {
   "cell_type": "code",
   "execution_count": 112,
   "metadata": {},
   "outputs": [],
   "source": [
    "for y in ids_pubmed:\n",
    "    handle = Entrez.efetch(db=\"pubmed\", id=y, retmode=\"xml\")\n",
    "    record = Entrez.read(handle)"
   ]
  },
  {
   "cell_type": "code",
   "execution_count": 120,
   "metadata": {},
   "outputs": [
    {
     "name": "stdout",
     "output_type": "stream",
     "text": [
      "Abstract: \n",
      " HIV-1 subtype B isolates have previously been described in India only in the state of Andhra Pradesh, while subtype C isolates have been reported as widespread in the Bombay and Goa regions of India. Gag subtype was determined in HIV-1 isolates from six Indians and one Ethiopian. One Indian was a native of Goa residing in Kuwait, and the others were natives of Bihar, Haryana, West Bengal, and New Delhi states. Five subjects were males aged 20-26 years. The remaining two subjects were females aged 34 and 40. Four of the men acquired HIV through sexual transmission; the other man was presumably infected through contaminated blood. Six isolates were identified as subtype C and one as subtype B. These preliminary findings obtained by arranging the HIV-1 gag sequences according to their similarity score were confirmed by cladogram and nested analysis. HIV-1 subtype C isolates are therefore present in Bombay and Goa as well as in other regions of northern and eastern India. The subtype has also infected Indian and Ethiopian expatriates living in Kuwait.\n"
     ]
    }
   ],
   "source": [
    "abstract = record[\"PubmedArticle\"][0]['MedlineCitation'][\"OtherAbstract\"][0]['AbstractText']\n",
    "print(\"Abstract:\",\"\\n\", *abstract)"
   ]
  },
  {
   "cell_type": "code",
   "execution_count": 156,
   "metadata": {},
   "outputs": [
    {
     "name": "stdout",
     "output_type": "stream",
     "text": [
      "DOI: 10.1089/aid.1996.12.641\n"
     ]
    }
   ],
   "source": [
    "record = str(record)\n",
    "result = re.findall(r\"StringElement\\('([\\.\\w\\/]+)',\\sattributes={'IdType':\\s'doi'}\", record)\n",
    "print(\"DOI:\", *result)\n",
    "DOI = result"
   ]
  },
  {
   "cell_type": "code",
   "execution_count": 170,
   "metadata": {},
   "outputs": [
    {
     "name": "stdout",
     "output_type": "stream",
     "text": [
      "Afiliação: Department of Microbiology, Faculty of Medicine, Kuwait University, Kuwait.\n"
     ]
    }
   ],
   "source": [
    "result = re.findall(r\"Affiliation':\\s'([\\s\\w,\\.]+)'\", record)\n",
    "print(\"Afiliação:\", *result)\n",
    "afiliacao = result"
   ]
  },
  {
   "cell_type": "code",
   "execution_count": 9,
   "metadata": {},
   "outputs": [
    {
     "name": "stdout",
     "output_type": "stream",
     "text": [
      "231\n"
     ]
    }
   ],
   "source": [
    "seq_length = len(seq_record.seq)\n",
    "print(seq_length)"
   ]
  },
  {
   "cell_type": "code",
   "execution_count": 186,
   "metadata": {},
   "outputs": [
    {
     "name": "stdout",
     "output_type": "stream",
     "text": [
      "[0:231](+)\n"
     ]
    }
   ],
   "source": [
    "source = seq_record.features[0].location\n",
    "print(source)"
   ]
  },
  {
   "cell_type": "code",
   "execution_count": 176,
   "metadata": {},
   "outputs": [
    {
     "name": "stdout",
     "output_type": "stream",
     "text": [
      "1\n"
     ]
    }
   ],
   "source": [
    "genes = []\n",
    "for c in range(len(seq_record.features)):\n",
    "    if seq_record.features[c].type == \"gene\":\n",
    "        genes.append(c)\n",
    "GENES = len(genes)\n",
    "print(GENES)"
   ]
  },
  {
   "cell_type": "code",
   "execution_count": 179,
   "metadata": {},
   "outputs": [
    {
     "name": "stdout",
     "output_type": "stream",
     "text": [
      "0\n"
     ]
    }
   ],
   "source": [
    "mrna = []\n",
    "for z in range(len(seq_record.features)):\n",
    "    if seq_record.features[z].type == \"mRNA\":\n",
    "        mrna.append(z)\n",
    "mRNA = len(mrna)\n",
    "print(mRNA)"
   ]
  },
  {
   "cell_type": "code",
   "execution_count": 181,
   "metadata": {},
   "outputs": [
    {
     "name": "stdout",
     "output_type": "stream",
     "text": [
      "0\n"
     ]
    }
   ],
   "source": [
    "regulation = []\n",
    "for z in range(len(seq_record.features)):\n",
    "    if seq_record.features[z].type == \"regulation\":\n",
    "        regulation.append(z)\n",
    "Regulation = len(regulation)\n",
    "print(Regulation)"
   ]
  },
  {
   "cell_type": "code",
   "execution_count": 180,
   "metadata": {},
   "outputs": [
    {
     "name": "stdout",
     "output_type": "stream",
     "text": [
      "0\n"
     ]
    }
   ],
   "source": [
    "protein_bind = []\n",
    "for b in range(len(seq_record.features)):\n",
    "    if seq_record.features[b].type == \"protein_bind\":\n",
    "        protein_bind.append(b)\n",
    "ProteinBind = len(protein_bind)\n",
    "print(ProteinBind)"
   ]
  },
  {
   "cell_type": "code",
   "execution_count": 188,
   "metadata": {},
   "outputs": [
    {
     "name": "stdout",
     "output_type": "stream",
     "text": [
      "1\n"
     ]
    }
   ],
   "source": [
    "cds = []\n",
    "for i in range(len(seq_record.features)):\n",
    "    if seq_record.features[i].type == \"CDS\":\n",
    "        cds.append(i)\n",
    "CDS = len(cds)\n",
    "print(CDS)"
   ]
  },
  {
   "cell_type": "code",
   "execution_count": 195,
   "metadata": {},
   "outputs": [
    {
     "name": "stdout",
     "output_type": "stream",
     "text": [
      "[SimpleLocation(BeforePosition(0), AfterPosition(231), strand=1)]\n"
     ]
    }
   ],
   "source": [
    "CDS_loc = []\n",
    "for k in cds:\n",
    "    #print(seq_record.features[k].location)\n",
    "    CDS_loc.append(seq_record.features[k].location)\n",
    "print(CDS_loc)"
   ]
  },
  {
   "cell_type": "code",
   "execution_count": 200,
   "metadata": {},
   "outputs": [
    {
     "name": "stdout",
     "output_type": "stream",
     "text": [
      "[['gag']]\n"
     ]
    }
   ],
   "source": [
    "CDS_gene = []\n",
    "for k in cds:                   \n",
    "    CDS_gene.append(seq_record.features[k].qualifiers['gene'])\n",
    "print(CDS_gene)"
   ]
  },
  {
   "cell_type": "code",
   "execution_count": 198,
   "metadata": {},
   "outputs": [
    {
     "name": "stdout",
     "output_type": "stream",
     "text": [
      "[['AAB50165.1']]\n"
     ]
    }
   ],
   "source": [
    "CDS_id = []\n",
    "for k in cds:                   \n",
    "    CDS_id.append(seq_record.features[k].qualifiers['protein_id'])\n",
    "print(CDS_id)"
   ]
  },
  {
   "cell_type": "code",
   "execution_count": 201,
   "metadata": {},
   "outputs": [
    {
     "name": "stdout",
     "output_type": "stream",
     "text": [
      "[['HPVHAGPIAPGQMREPRGSDIAGTTSTLQEQVAWMTGNPPVPVGEIYKRWIILGLNKIVRMYSPVSILDIKQGPKEP']]\n"
     ]
    }
   ],
   "source": [
    "CDS_aa = []\n",
    "for k in cds:                   \n",
    "    CDS_aa.append(seq_record.features[k].qualifiers['translation'])\n",
    "print(CDS_aa)"
   ]
  },
  {
   "cell_type": "code",
   "execution_count": null,
   "metadata": {},
   "outputs": [],
   "source": []
  },
  {
   "cell_type": "code",
   "execution_count": null,
   "metadata": {},
   "outputs": [],
   "source": []
  },
  {
   "cell_type": "code",
   "execution_count": null,
   "metadata": {},
   "outputs": [],
   "source": [
    "import mysql.connector\n",
    "from mysql.connector import Error\n",
    "import pandas as pd"
   ]
  },
  {
   "cell_type": "code",
   "execution_count": null,
   "metadata": {},
   "outputs": [],
   "source": [
    "-- MySQL Workbench Forward Engineering\n",
    "\n",
    "SET @OLD_UNIQUE_CHECKS=@@UNIQUE_CHECKS, UNIQUE_CHECKS=0;\n",
    "SET @OLD_FOREIGN_KEY_CHECKS=@@FOREIGN_KEY_CHECKS, FOREIGN_KEY_CHECKS=0;\n",
    "SET @OLD_SQL_MODE=@@SQL_MODE, SQL_MODE='ONLY_FULL_GROUP_BY,STRICT_TRANS_TABLES,NO_ZERO_IN_DATE,NO_ZERO_DATE,ERROR_FOR_DIVISION_BY_ZERO,NO_ENGINE_SUBSTITUTION';\n",
    "\n",
    "-- -----------------------------------------------------\n",
    "-- Schema trabalho\n",
    "-- -----------------------------------------------------\n",
    "\n",
    "-- -----------------------------------------------------\n",
    "-- Schema trabalho\n",
    "-- -----------------------------------------------------\n",
    "CREATE SCHEMA IF NOT EXISTS `trabalho` ;\n",
    "USE `trabalho` ;\n",
    "\n",
    "-- -----------------------------------------------------\n",
    "-- Table `trabalho`.`Pubmed_information`\n",
    "-- -----------------------------------------------------\n",
    "CREATE TABLE IF NOT EXISTS `trabalho`.`Pubmed_information` (\n",
    "  `ID` INT NOT NULL,\n",
    "  `abstract` VARCHAR(3000) NOT NULL,\n",
    "  `title` VARCHAR(45) NOT NULL,\n",
    "  `id_authornames` VARCHAR(45) NOT NULL,\n",
    "  `Id_refs` VARCHAR(45) NOT NULL,\n",
    "  `DOI` VARCHAR(45) NOT NULL,\n",
    "  PRIMARY KEY (`ID`, `id_authornames`, `Id_refs`))\n",
    "ENGINE = InnoDB;\n",
    "\n",
    "\n",
    "-- -----------------------------------------------------\n",
    "-- Table `trabalho`.`sequence`\n",
    "-- -----------------------------------------------------\n",
    "CREATE TABLE IF NOT EXISTS `trabalho`.`sequence` (\n",
    "  `idsequence` INT NOT NULL,\n",
    "  PRIMARY KEY (`idsequence`))\n",
    "ENGINE = InnoDB;\n",
    "\n",
    "\n",
    "-- -----------------------------------------------------\n",
    "-- Table `trabalho`.`Features`\n",
    "-- -----------------------------------------------------\n",
    "CREATE TABLE IF NOT EXISTS `trabalho`.`Features` (\n",
    "  `id_feat` INT NOT NULL,\n",
    "  `ID` INT NOT NULL,\n",
    "  `gene` INT NULL,\n",
    "  `mRNA` INT NULL,\n",
    "  `regulation` INT NULL,\n",
    "  ` protein_bind` INT NULL,\n",
    "  `source` VARCHAR(500) NOT NULL,\n",
    "  PRIMARY KEY (`id_feat`, `ID`))\n",
    "ENGINE = InnoDB;\n",
    "\n",
    "\n",
    "-- -----------------------------------------------------\n",
    "-- Table `trabalho`.`Gene_Bank`\n",
    "-- -----------------------------------------------------\n",
    "CREATE TABLE IF NOT EXISTS `trabalho`.`Gene_Bank` (\n",
    "  `ID` INT NOT NULL,\n",
    "  `source_organism` VARCHAR(1000) NOT NULL,\n",
    "  `version` VARCHAR(45) NOT NULL,\n",
    "  `definition` VARCHAR(100) NOT NULL,\n",
    "  `acession` VARCHAR(45) NOT NULL,\n",
    "  PRIMARY KEY (`ID`),\n",
    "  CONSTRAINT `fk_gene_bank_2`\n",
    "    FOREIGN KEY (`ID`)\n",
    "    REFERENCES `trabalho`.`Pubmed_information` (`ID`)\n",
    "    ON DELETE NO ACTION\n",
    "    ON UPDATE NO ACTION,\n",
    "  CONSTRAINT `fk_gene_bank_3`\n",
    "    FOREIGN KEY (`ID`)\n",
    "    REFERENCES `trabalho`.`sequence` (`idsequence`)\n",
    "    ON DELETE NO ACTION\n",
    "    ON UPDATE NO ACTION,\n",
    "  CONSTRAINT `fk_gene_bank_4`\n",
    "    FOREIGN KEY (`ID`)\n",
    "    REFERENCES `trabalho`.`Features` (`ID`)\n",
    "    ON DELETE NO ACTION\n",
    "    ON UPDATE NO ACTION)\n",
    "ENGINE = InnoDB;\n",
    "\n",
    "\n",
    "-- -----------------------------------------------------\n",
    "-- Table `trabalho`.`References`\n",
    "-- -----------------------------------------------------\n",
    "CREATE TABLE IF NOT EXISTS `trabalho`.`References` (\n",
    "  `ID` INT NOT NULL,\n",
    "  `title` VARCHAR(45) NOT NULL,\n",
    "  `jornal` VARCHAR(45) NULL,\n",
    "  `consortium` VARCHAR(300) NULL,\n",
    "  `remark` VARCHAR(100) NULL,\n",
    "  `Id_pub` VARCHAR(45) NOT NULL,\n",
    "  PRIMARY KEY (`ID`, `Id_pub`),\n",
    "  INDEX `fk_References_1_idx` (`Id_pub` ASC) VISIBLE,\n",
    "  CONSTRAINT `fk_References_1`\n",
    "    FOREIGN KEY (`Id_pub`)\n",
    "    REFERENCES `trabalho`.`Pubmed_information` (`Id_refs`)\n",
    "    ON DELETE NO ACTION\n",
    "    ON UPDATE NO ACTION)\n",
    "ENGINE = InnoDB;\n",
    "\n",
    "\n",
    "-- -----------------------------------------------------\n",
    "-- Table `trabalho`.`Authors`\n",
    "-- -----------------------------------------------------\n",
    "CREATE TABLE IF NOT EXISTS `trabalho`.`Authors` (\n",
    "  `affiliations` VARCHAR(200) NOT NULL,\n",
    "  `id_author` VARCHAR(45) NOT NULL,\n",
    "  PRIMARY KEY (`id_author`),\n",
    "  CONSTRAINT `fk_Authors_1`\n",
    "    FOREIGN KEY (`id_author`)\n",
    "    REFERENCES `trabalho`.`Pubmed_information` (`id_authornames`)\n",
    "    ON DELETE NO ACTION\n",
    "    ON UPDATE NO ACTION)\n",
    "ENGINE = InnoDB;\n",
    "\n",
    "\n",
    "-- -----------------------------------------------------\n",
    "-- Table `trabalho`.`Locus`\n",
    "-- -----------------------------------------------------\n",
    "CREATE TABLE IF NOT EXISTS `trabalho`.`Locus` (\n",
    "  `ID` INT NOT NULL,\n",
    "  `modification_date` DATE NOT NULL,\n",
    "  `sequence_length` INT NOT NULL,\n",
    "  `genbank_division` VARCHAR(45) NOT NULL,\n",
    "  `molecule_type` VARCHAR(45) NOT NULL,\n",
    "  PRIMARY KEY (`ID`),\n",
    "  CONSTRAINT `fk_locus_1`\n",
    "    FOREIGN KEY (`ID`)\n",
    "    REFERENCES `trabalho`.`Gene_Bank` (`ID`)\n",
    "    ON DELETE NO ACTION\n",
    "    ON UPDATE NO ACTION)\n",
    "ENGINE = InnoDB;\n",
    "\n",
    "\n",
    "-- -----------------------------------------------------\n",
    "-- Table `trabalho`.`CDS`\n",
    "-- -----------------------------------------------------\n",
    "CREATE TABLE IF NOT EXISTS `trabalho`.`CDS` (\n",
    "  `id_cds` INT NOT NULL,\n",
    "  `location` INT NOT NULL,\n",
    "  `protein_id` VARCHAR(45) NOT NULL,\n",
    "  `gene` VARCHAR(45) NOT NULL,\n",
    "  `translation` VARCHAR(2000) NOT NULL,\n",
    "  PRIMARY KEY (`id_cds`),\n",
    "  CONSTRAINT `fk_CDS_1`\n",
    "    FOREIGN KEY (`id_cds`)\n",
    "    REFERENCES `trabalho`.`Features` (`id_feat`)\n",
    "    ON DELETE NO ACTION\n",
    "    ON UPDATE NO ACTION)\n",
    "ENGINE = InnoDB;\n",
    "\n",
    "\n",
    "SET SQL_MODE=@OLD_SQL_MODE;\n",
    "SET FOREIGN_KEY_CHECKS=@OLD_FOREIGN_KEY_CHECKS;\n",
    "SET UNIQUE_CHECKS=@OLD_UNIQUE_CHECKS;\n"
   ]
  },
  {
   "cell_type": "code",
   "execution_count": 1,
   "metadata": {},
   "outputs": [],
   "source": [
    "import mysql.connector\n",
    "db = mysql.connector.connect(host=\"127.0.0.1\",   \n",
    "                     user=\"root\",         \n",
    "                     passwd=\"Cardoso10@\",  \n",
    "                     db=\"trabalho\",\n",
    "                     auth_plugin = \"mysql_native_password\"\n",
    "                     ) "
   ]
  },
  {
   "cell_type": "code",
   "execution_count": 3,
   "metadata": {},
   "outputs": [
    {
     "ename": "IntegrityError",
     "evalue": "1062 (23000): Duplicate entry '5-4' for key 'features.PRIMARY'",
     "output_type": "error",
     "traceback": [
      "\u001b[1;31m---------------------------------------------------------------------------\u001b[0m",
      "\u001b[1;31mMySQLInterfaceError\u001b[0m                       Traceback (most recent call last)",
      "File \u001b[1;32mc:\\Users\\Win10\\AppData\\Local\\Programs\\Python\\Python310\\lib\\site-packages\\mysql\\connector\\connection_cext.py:565\u001b[0m, in \u001b[0;36mCMySQLConnection.cmd_query\u001b[1;34m(self, query, raw, buffered, raw_as_string)\u001b[0m\n\u001b[0;32m    564\u001b[0m         query \u001b[39m=\u001b[39m query\u001b[39m.\u001b[39mencode(\u001b[39m\"\u001b[39m\u001b[39mutf-8\u001b[39m\u001b[39m\"\u001b[39m)\n\u001b[1;32m--> 565\u001b[0m     \u001b[39mself\u001b[39;49m\u001b[39m.\u001b[39;49m_cmysql\u001b[39m.\u001b[39;49mquery(\n\u001b[0;32m    566\u001b[0m         query,\n\u001b[0;32m    567\u001b[0m         raw\u001b[39m=\u001b[39;49mraw,\n\u001b[0;32m    568\u001b[0m         buffered\u001b[39m=\u001b[39;49mbuffered,\n\u001b[0;32m    569\u001b[0m         raw_as_string\u001b[39m=\u001b[39;49mraw_as_string,\n\u001b[0;32m    570\u001b[0m         query_attrs\u001b[39m=\u001b[39;49m\u001b[39mself\u001b[39;49m\u001b[39m.\u001b[39;49m_query_attrs,\n\u001b[0;32m    571\u001b[0m     )\n\u001b[0;32m    572\u001b[0m \u001b[39mexcept\u001b[39;00m MySQLInterfaceError \u001b[39mas\u001b[39;00m err:\n",
      "\u001b[1;31mMySQLInterfaceError\u001b[0m: Duplicate entry '5-4' for key 'features.PRIMARY'",
      "\nThe above exception was the direct cause of the following exception:\n",
      "\u001b[1;31mIntegrityError\u001b[0m                            Traceback (most recent call last)",
      "Cell \u001b[1;32mIn [3], line 2\u001b[0m\n\u001b[0;32m      1\u001b[0m cur \u001b[39m=\u001b[39m db\u001b[39m.\u001b[39mcursor()\n\u001b[1;32m----> 2\u001b[0m cur\u001b[39m.\u001b[39;49mexecute(\u001b[39m\"\"\"\u001b[39;49m\n\u001b[0;32m      3\u001b[0m \u001b[39m        INSERT INTO features (id_feat, ID, gene, mRNA, regulation, source)\u001b[39;49m\n\u001b[0;32m      4\u001b[0m \u001b[39m        VALUES (5, 4, 2, 3, 5, 5)\u001b[39;49m\n\u001b[0;32m      5\u001b[0m \u001b[39m        \u001b[39;49m\u001b[39m\"\"\"\u001b[39;49m)\n\u001b[0;32m      6\u001b[0m cur\u001b[39m.\u001b[39mautocommit \u001b[39m=\u001b[39m \u001b[39mTrue\u001b[39;00m    \n\u001b[0;32m      7\u001b[0m cur\u001b[39m.\u001b[39mclose()\n",
      "File \u001b[1;32mc:\\Users\\Win10\\AppData\\Local\\Programs\\Python\\Python310\\lib\\site-packages\\mysql\\connector\\cursor_cext.py:279\u001b[0m, in \u001b[0;36mCMySQLCursor.execute\u001b[1;34m(self, operation, params, multi)\u001b[0m\n\u001b[0;32m    274\u001b[0m             \u001b[39mraise\u001b[39;00m ProgrammingError(\n\u001b[0;32m    275\u001b[0m                 \u001b[39m\"\u001b[39m\u001b[39mNot all parameters were used in the SQL statement\u001b[39m\u001b[39m\"\u001b[39m\n\u001b[0;32m    276\u001b[0m             )\n\u001b[0;32m    278\u001b[0m \u001b[39mtry\u001b[39;00m:\n\u001b[1;32m--> 279\u001b[0m     result \u001b[39m=\u001b[39m \u001b[39mself\u001b[39;49m\u001b[39m.\u001b[39;49m_cnx\u001b[39m.\u001b[39;49mcmd_query(\n\u001b[0;32m    280\u001b[0m         stmt,\n\u001b[0;32m    281\u001b[0m         raw\u001b[39m=\u001b[39;49m\u001b[39mself\u001b[39;49m\u001b[39m.\u001b[39;49m_raw,\n\u001b[0;32m    282\u001b[0m         buffered\u001b[39m=\u001b[39;49m\u001b[39mself\u001b[39;49m\u001b[39m.\u001b[39;49m_buffered,\n\u001b[0;32m    283\u001b[0m         raw_as_string\u001b[39m=\u001b[39;49m\u001b[39mself\u001b[39;49m\u001b[39m.\u001b[39;49m_raw_as_string,\n\u001b[0;32m    284\u001b[0m     )\n\u001b[0;32m    285\u001b[0m \u001b[39mexcept\u001b[39;00m MySQLInterfaceError \u001b[39mas\u001b[39;00m err:\n\u001b[0;32m    286\u001b[0m     \u001b[39mraise\u001b[39;00m get_mysql_exception(\n\u001b[0;32m    287\u001b[0m         msg\u001b[39m=\u001b[39merr\u001b[39m.\u001b[39mmsg, errno\u001b[39m=\u001b[39merr\u001b[39m.\u001b[39merrno, sqlstate\u001b[39m=\u001b[39merr\u001b[39m.\u001b[39msqlstate\n\u001b[0;32m    288\u001b[0m     ) \u001b[39mfrom\u001b[39;00m \u001b[39merr\u001b[39;00m\n",
      "File \u001b[1;32mc:\\Users\\Win10\\AppData\\Local\\Programs\\Python\\Python310\\lib\\site-packages\\mysql\\connector\\connection_cext.py:573\u001b[0m, in \u001b[0;36mCMySQLConnection.cmd_query\u001b[1;34m(self, query, raw, buffered, raw_as_string)\u001b[0m\n\u001b[0;32m    565\u001b[0m     \u001b[39mself\u001b[39m\u001b[39m.\u001b[39m_cmysql\u001b[39m.\u001b[39mquery(\n\u001b[0;32m    566\u001b[0m         query,\n\u001b[0;32m    567\u001b[0m         raw\u001b[39m=\u001b[39mraw,\n\u001b[1;32m   (...)\u001b[0m\n\u001b[0;32m    570\u001b[0m         query_attrs\u001b[39m=\u001b[39m\u001b[39mself\u001b[39m\u001b[39m.\u001b[39m_query_attrs,\n\u001b[0;32m    571\u001b[0m     )\n\u001b[0;32m    572\u001b[0m \u001b[39mexcept\u001b[39;00m MySQLInterfaceError \u001b[39mas\u001b[39;00m err:\n\u001b[1;32m--> 573\u001b[0m     \u001b[39mraise\u001b[39;00m get_mysql_exception(\n\u001b[0;32m    574\u001b[0m         err\u001b[39m.\u001b[39merrno, msg\u001b[39m=\u001b[39merr\u001b[39m.\u001b[39mmsg, sqlstate\u001b[39m=\u001b[39merr\u001b[39m.\u001b[39msqlstate\n\u001b[0;32m    575\u001b[0m     ) \u001b[39mfrom\u001b[39;00m \u001b[39merr\u001b[39;00m\n\u001b[0;32m    576\u001b[0m \u001b[39mexcept\u001b[39;00m \u001b[39mAttributeError\u001b[39;00m \u001b[39mas\u001b[39;00m err:\n\u001b[0;32m    577\u001b[0m     addr \u001b[39m=\u001b[39m (\n\u001b[0;32m    578\u001b[0m         \u001b[39mself\u001b[39m\u001b[39m.\u001b[39m_unix_socket \u001b[39mif\u001b[39;00m \u001b[39mself\u001b[39m\u001b[39m.\u001b[39m_unix_socket \u001b[39melse\u001b[39;00m \u001b[39mf\u001b[39m\u001b[39m\"\u001b[39m\u001b[39m{\u001b[39;00m\u001b[39mself\u001b[39m\u001b[39m.\u001b[39m_host\u001b[39m}\u001b[39;00m\u001b[39m:\u001b[39m\u001b[39m{\u001b[39;00m\u001b[39mself\u001b[39m\u001b[39m.\u001b[39m_port\u001b[39m}\u001b[39;00m\u001b[39m\"\u001b[39m\n\u001b[0;32m    579\u001b[0m     )\n",
      "\u001b[1;31mIntegrityError\u001b[0m: 1062 (23000): Duplicate entry '5-4' for key 'features.PRIMARY'"
     ]
    }
   ],
   "source": [
    "cur = db.cursor()\n",
    "cur.execute(\"\"\"\n",
    "        INSERT INTO features (id_feat, ID, gene, mRNA, regulation, source)\n",
    "        VALUES (5, 4, 2, 3, 5, 5)\n",
    "        \"\"\")\n",
    "cur.autocommit = True    \n",
    "cur.close()"
   ]
  },
  {
   "cell_type": "code",
   "execution_count": null,
   "metadata": {},
   "outputs": [],
   "source": []
  }
 ],
 "metadata": {
  "kernelspec": {
   "display_name": "Python 3",
   "language": "python",
   "name": "python3"
  },
  "language_info": {
   "codemirror_mode": {
    "name": "ipython",
    "version": 3
   },
   "file_extension": ".py",
   "mimetype": "text/x-python",
   "name": "python",
   "nbconvert_exporter": "python",
   "pygments_lexer": "ipython3",
   "version": "3.10.7"
  },
  "orig_nbformat": 4,
  "vscode": {
   "interpreter": {
    "hash": "4e1fc3fa23fb62f3f701e1450a48be1e01c4f473533356521fe76f63c343b8fd"
   }
  }
 },
 "nbformat": 4,
 "nbformat_minor": 2
}
