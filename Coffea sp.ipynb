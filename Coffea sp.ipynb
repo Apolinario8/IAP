{
 "cells": [
  {
   "attachments": {},
   "cell_type": "markdown",
   "metadata": {},
   "source": [
    "# BioPython"
   ]
  },
  {
   "cell_type": "code",
   "execution_count": 1,
   "metadata": {},
   "outputs": [],
   "source": [
    "from Bio import Entrez\n",
    "from Bio import SeqIO\n",
    "Entrez.email='goncalocardoso2016@gmail.com'"
   ]
  },
  {
   "cell_type": "code",
   "execution_count": 28,
   "metadata": {},
   "outputs": [],
   "source": [
    "#input=()"
   ]
  },
  {
   "cell_type": "code",
   "execution_count": 29,
   "metadata": {},
   "outputs": [],
   "source": [
    "#id = input(\"Insira id do seu organismo\")"
   ]
  },
  {
   "cell_type": "code",
   "execution_count": 2,
   "metadata": {},
   "outputs": [
    {
     "name": "stdout",
     "output_type": "stream",
     "text": [
      "ID: MZ028624.1\n",
      "Name: MZ028624\n",
      "Description: Coffea sp. SJ-2022a voucher 20110301-67 (BR) acetyl-CoA carboxylase beta subunit (accD) gene, partial cds; and accD-psaI intergenic spacer, partial sequence; plastid\n",
      "Number of features: 4\n",
      "/molecule_type=DNA\n",
      "/topology=linear\n",
      "/data_file_division=PLN\n",
      "/date=23-JAN-2022\n",
      "/accessions=['MZ028624']\n",
      "/sequence_version=1\n",
      "/keywords=['']\n",
      "/source=plastid Coffea rizetiana\n",
      "/organism=Coffea rizetiana\n",
      "/taxonomy=['Eukaryota', 'Viridiplantae', 'Streptophyta', 'Embryophyta', 'Tracheophyta', 'Spermatophyta', 'Magnoliopsida', 'eudicotyledons', 'Gunneridae', 'Pentapetalae', 'asterids', 'lamiids', 'Gentianales', 'Rubiaceae', 'Ixoroideae', 'Gardenieae complex', 'Bertiereae - Coffeeae clade', 'Coffeeae', 'Coffea']\n",
      "/references=[Reference(title='A new coffee species from South-West Cameroon, the principal hotspot of diversity for Coffea L. (Coffeeae, Ixoroideae, Rubiaceae) in Africa', ...), Reference(title='Direct Submission', ...)]\n",
      "/structured_comment=defaultdict(<class 'dict'>, {'Assembly-Data': {'Sequencing Technology': 'Sanger dideoxy sequencing'}})\n",
      "Seq('TCTCCTACTACTGGCGGAGTAACAGCCAGTTTTGGTATGTTGGGTGATATCATT...TGA')\n"
     ]
    }
   ],
   "source": [
    "handle = Entrez.efetch(db='nucleotide', id=\"MZ028624.1\", rettype='gb', retmode='text')\n",
    "seq_record = SeqIO.read(handle, \"gb\")\n",
    "print(seq_record)"
   ]
  },
  {
   "cell_type": "code",
   "execution_count": 31,
   "metadata": {},
   "outputs": [],
   "source": [
    "#SeqIO.write(seq_record, \"{id}.gb\", \"genbank\")\n"
   ]
  },
  {
   "cell_type": "code",
   "execution_count": 32,
   "metadata": {},
   "outputs": [],
   "source": [
    "#seq_record = SeqIO.read(\"{id}.gb\", \"gb\")"
   ]
  },
  {
   "attachments": {},
   "cell_type": "markdown",
   "metadata": {},
   "source": [
    "Tabela Gene_Bank"
   ]
  },
  {
   "cell_type": "code",
   "execution_count": 33,
   "metadata": {},
   "outputs": [
    {
     "name": "stdout",
     "output_type": "stream",
     "text": [
      "MZ028624.1\n"
     ]
    }
   ],
   "source": [
    "id = seq_record.id     #VERSAO\n",
    "print(id)"
   ]
  },
  {
   "cell_type": "code",
   "execution_count": 34,
   "metadata": {},
   "outputs": [
    {
     "name": "stdout",
     "output_type": "stream",
     "text": [
      "Coffea sp. SJ-2022a voucher 20110301-67 (BR) acetyl-CoA carboxylase beta subunit (accD) gene, partial cds; and accD-psaI intergenic spacer, partial sequence; plastid\n"
     ]
    }
   ],
   "source": [
    "definicao = seq_record.description         #descrição\n",
    "print(definicao)"
   ]
  },
  {
   "cell_type": "code",
   "execution_count": 35,
   "metadata": {},
   "outputs": [
    {
     "name": "stdout",
     "output_type": "stream",
     "text": [
      "MZ028624\n"
     ]
    }
   ],
   "source": [
    "accession = seq_record.annotations[\"accessions\"][0]       #accession\n",
    "print(accession)\n"
   ]
  },
  {
   "cell_type": "code",
   "execution_count": 4,
   "metadata": {},
   "outputs": [
    {
     "name": "stdout",
     "output_type": "stream",
     "text": [
      "['']\n"
     ]
    }
   ],
   "source": [
    "keywords = seq_record.annotations[\"keywords\"]\n",
    "#keywords = ', '.join(keywords)                              #keywords\n",
    "print(keywords)"
   ]
  },
  {
   "cell_type": "code",
   "execution_count": 37,
   "metadata": {},
   "outputs": [
    {
     "name": "stdout",
     "output_type": "stream",
     "text": [
      "Coffea rizetiana\n"
     ]
    }
   ],
   "source": [
    "organismo = seq_record.annotations[\"organism\"]      #organismo\n",
    "print(organismo)"
   ]
  },
  {
   "cell_type": "code",
   "execution_count": 38,
   "metadata": {},
   "outputs": [
    {
     "name": "stdout",
     "output_type": "stream",
     "text": [
      "Eukaryota, Viridiplantae, Streptophyta, Embryophyta, Tracheophyta, Spermatophyta, Magnoliopsida, eudicotyledons, Gunneridae, Pentapetalae, asterids, lamiids, Gentianales, Rubiaceae, Ixoroideae, Gardenieae complex, Bertiereae - Coffeeae clade, Coffeeae, Coffea\n"
     ]
    }
   ],
   "source": [
    "taxonomia = seq_record.annotations[\"taxonomy\"]  \n",
    "taxonomia = ', '.join(taxonomia)     #taxonomia\n",
    "print(taxonomia)"
   ]
  },
  {
   "attachments": {},
   "cell_type": "markdown",
   "metadata": {},
   "source": [
    "# Locus"
   ]
  },
  {
   "cell_type": "code",
   "execution_count": 39,
   "metadata": {},
   "outputs": [
    {
     "name": "stdout",
     "output_type": "stream",
     "text": [
      "23-JAN-2022\n"
     ]
    }
   ],
   "source": [
    "data_modificacao = seq_record.annotations[\"date\"]      #data\n",
    "print(data_modificacao)"
   ]
  },
  {
   "cell_type": "code",
   "execution_count": 40,
   "metadata": {},
   "outputs": [
    {
     "name": "stdout",
     "output_type": "stream",
     "text": [
      "896\n"
     ]
    }
   ],
   "source": [
    "tamanho = len(seq_record.seq)       #sequence_length\n",
    "print(tamanho)"
   ]
  },
  {
   "cell_type": "code",
   "execution_count": 41,
   "metadata": {},
   "outputs": [
    {
     "name": "stdout",
     "output_type": "stream",
     "text": [
      "PLN\n"
     ]
    }
   ],
   "source": [
    "data_fyle_division = seq_record.annotations[\"data_file_division\"]        #gene_bank_division\n",
    "print(data_fyle_division)"
   ]
  },
  {
   "cell_type": "code",
   "execution_count": 42,
   "metadata": {},
   "outputs": [
    {
     "name": "stdout",
     "output_type": "stream",
     "text": [
      "DNA\n"
     ]
    }
   ],
   "source": [
    "molecule_type = seq_record.annotations[\"molecule_type\"]      #molecule_type\n",
    "print(molecule_type)"
   ]
  },
  {
   "cell_type": "code",
   "execution_count": 43,
   "metadata": {},
   "outputs": [
    {
     "name": "stdout",
     "output_type": "stream",
     "text": [
      "linear\n"
     ]
    }
   ],
   "source": [
    "topologia = seq_record.annotations[\"topology\"]            #topology\n",
    "print(topologia)"
   ]
  },
  {
   "cell_type": "code",
   "execution_count": 44,
   "metadata": {},
   "outputs": [
    {
     "name": "stdout",
     "output_type": "stream",
     "text": [
      "MZ028624\n"
     ]
    }
   ],
   "source": [
    "nome = seq_record.name         #nome\n",
    "print(nome)"
   ]
  },
  {
   "attachments": {},
   "cell_type": "markdown",
   "metadata": {},
   "source": [
    "# References"
   ]
  },
  {
   "cell_type": "code",
   "execution_count": 64,
   "metadata": {},
   "outputs": [
    {
     "name": "stdout",
     "output_type": "stream",
     "text": [
      "Nº de refs: 2\n",
      "IDs do PubMed: ['', '']\n",
      "Authors: ['Stoffelen,P., Anthony,F., Janssens,S. and Noirot,M.', 'Stoffelen,P., Anthony,F., Janssens,S. and Noirot,M.']\n",
      "Journal: ['Adansonia 43 (26) (2021) In press', 'Submitted (23-APR-2021) Research Department, Meise Botanic Garden, Nieuwelaan 38, Meise 1860, Belgium']\n",
      "Consortium: ['', '']\n",
      "Comment: ['', '']\n",
      "Title: ['A new coffee species from South-West Cameroon, the principal hotspot of diversity for Coffea L. (Coffeeae, Ixoroideae, Rubiaceae) in Africa', 'Direct Submission']\n"
     ]
    }
   ],
   "source": [
    "refs = []                                                     #author, pubmed_id, journal, consortium, remark, title\n",
    "ids_pubmed = []\n",
    "authors = []\n",
    "journal = []\n",
    "consortium = []\n",
    "comment = []\n",
    "title = []\n",
    "for x in range(len(seq_record.annotations[\"references\"])):\n",
    "    #print(seq_record.annotations[\"references\"][x],\"\\n\")\n",
    "    refs.append(x)\n",
    "    authors.append(seq_record.annotations[\"references\"][x].authors)\n",
    "    ids_pubmed.append(seq_record.annotations[\"references\"][x].pubmed_id)\n",
    "    journal.append(seq_record.annotations[\"references\"][x].journal)\n",
    "    consortium.append(seq_record.annotations[\"references\"][x].consrtm)\n",
    "    comment.append(seq_record.annotations[\"references\"][x].comment)\n",
    "    title.append(seq_record.annotations[\"references\"][x].title)\n",
    "print(\"Nº de refs:\", len(refs))\n",
    "print(\"IDs do PubMed:\", ids_pubmed)\n",
    "print(\"Authors:\", authors)\n",
    "print(\"Journal:\", journal)\n",
    "print(\"Consortium:\", consortium)\n",
    "print(\"Comment:\", comment)\n",
    "print(\"Title:\", title)"
   ]
  },
  {
   "attachments": {},
   "cell_type": "markdown",
   "metadata": {},
   "source": [
    "# Pubmed_Info"
   ]
  },
  {
   "cell_type": "code",
   "execution_count": 46,
   "metadata": {},
   "outputs": [
    {
     "name": "stdout",
     "output_type": "stream",
     "text": [
      "não ha artigos\n",
      "não ha artigos\n"
     ]
    }
   ],
   "source": [
    "import re                                                                     #erro: na apanha todas as entradas\n",
    "for z in range(len(ids_pubmed)):\n",
    "    if len(ids_pubmed[z]) == 0:\n",
    "        print(\"não ha artigos\")\n",
    "    else:\n",
    "        for y in ids_pubmed:\n",
    "            try:\n",
    "                handle = Entrez.efetch(db=\"pubmed\", id=y, retmode=\"xml\")\n",
    "                record = Entrez.read(handle)\n",
    "                record = str(record)\n",
    "                Abstract = []\n",
    "                result = re.findall(r'AbstractText\\':\\s\\[\\\"([.\\s\\.\\,\\[\\]\\(\\)\\'\\w\\-]+)\\\"', record)       #abstract\n",
    "                #print(\"Abstract:\",\"\\n\", *abstract)\n",
    "                abstract = result\n",
    "                Abstract.append(abstract)\n",
    "                result = re.findall(r\"Affiliation':\\s'([\\s\\w,\\.]+)'\", record)           #affiliation\n",
    "                #print(\"Afiliação:\", *result)\n",
    "                afiliacao = result\n",
    "                Afiliacao = []\n",
    "                Afiliacao.append(afiliacao)\n",
    "                result = re.findall(r\"StringElement\\('([\\.\\(\\)\\-\\w\\/]+)',\\sattributes={'IdType':\\s'doi'}\", record)   #DOI\n",
    "                #print(\"DOI:\", *result)\n",
    "                doi = result\n",
    "                DOI = []\n",
    "                DOI.append(doi)\n",
    "                #print(DOI)\n",
    "            except: \n",
    "                Abstract.append(' ')\n",
    "                Afiliacao.append(' ')\n",
    "                DOI.append(' ')"
   ]
  },
  {
   "attachments": {},
   "cell_type": "markdown",
   "metadata": {},
   "source": [
    "# Features"
   ]
  },
  {
   "cell_type": "code",
   "execution_count": 47,
   "metadata": {},
   "outputs": [
    {
     "name": "stdout",
     "output_type": "stream",
     "text": [
      "[0:896](+)\n"
     ]
    }
   ],
   "source": [
    "source = str(seq_record.features[0].location)     #source\n",
    "print(source)"
   ]
  },
  {
   "cell_type": "code",
   "execution_count": 48,
   "metadata": {},
   "outputs": [
    {
     "name": "stdout",
     "output_type": "stream",
     "text": [
      "Taxon: [['2908387']]\n"
     ]
    }
   ],
   "source": [
    "ole = str(seq_record.features[0].qualifiers[\"db_xref\"])     #taxon\n",
    "#print(ole)\n",
    "import re\n",
    "er = re.findall(r'taxon:(\\d+)\\'', ole)\n",
    "taxon = []\n",
    "taxon.append(er)\n",
    "print('Taxon:', taxon)"
   ]
  },
  {
   "cell_type": "code",
   "execution_count": 49,
   "metadata": {},
   "outputs": [
    {
     "name": "stdout",
     "output_type": "stream",
     "text": [
      "1\n"
     ]
    }
   ],
   "source": [
    "genes = []                        #gene\n",
    "for c in range(len(seq_record.features)):\n",
    "    if seq_record.features[c].type == \"gene\":\n",
    "        genes.append(c)\n",
    "GENES = len(genes)\n",
    "print(GENES)"
   ]
  },
  {
   "cell_type": "code",
   "execution_count": 50,
   "metadata": {},
   "outputs": [
    {
     "name": "stdout",
     "output_type": "stream",
     "text": [
      "0\n"
     ]
    }
   ],
   "source": [
    "mrna = []                         #mrna\n",
    "for z in range(len(seq_record.features)):\n",
    "    if seq_record.features[z].type == \"mRNA\":\n",
    "        mrna.append(z)\n",
    "mRNA = len(mrna)\n",
    "print(mRNA)"
   ]
  },
  {
   "cell_type": "code",
   "execution_count": 51,
   "metadata": {},
   "outputs": [
    {
     "name": "stdout",
     "output_type": "stream",
     "text": [
      "0\n"
     ]
    }
   ],
   "source": [
    "regulatory = []                   #regulatory\n",
    "for z in range(len(seq_record.features)):\n",
    "    if seq_record.features[z].type == \"regulatory\":\n",
    "        regulatory.append(z)\n",
    "Regulatory = len(regulatory)\n",
    "print(Regulatory)"
   ]
  },
  {
   "cell_type": "code",
   "execution_count": 52,
   "metadata": {},
   "outputs": [
    {
     "name": "stdout",
     "output_type": "stream",
     "text": [
      "0\n"
     ]
    }
   ],
   "source": [
    "protein_bind = []                  #protein_bind\n",
    "for b in range(len(seq_record.features)):\n",
    "    if seq_record.features[b].type == \"protein_bind\":\n",
    "        protein_bind.append(b)\n",
    "ProteinBind = len(protein_bind)\n",
    "print(ProteinBind)"
   ]
  },
  {
   "cell_type": "code",
   "execution_count": 53,
   "metadata": {},
   "outputs": [
    {
     "name": "stdout",
     "output_type": "stream",
     "text": [
      "1\n"
     ]
    }
   ],
   "source": [
    "cds = []                       #CDS\n",
    "for i in range(len(seq_record.features)):\n",
    "    if seq_record.features[i].type == \"CDS\":\n",
    "        cds.append(i)\n",
    "CDS = len(cds)\n",
    "print(CDS)"
   ]
  },
  {
   "cell_type": "code",
   "execution_count": 54,
   "metadata": {},
   "outputs": [
    {
     "name": "stdout",
     "output_type": "stream",
     "text": [
      "1\n"
     ]
    }
   ],
   "source": [
    "miscfeature = []                       #misc_feature\n",
    "for i in range(len(seq_record.features)):\n",
    "    if seq_record.features[i].type == \"misc_feature\":\n",
    "        miscfeature.append(i)\n",
    "misc_feature = len(miscfeature)\n",
    "print(misc_feature) "
   ]
  },
  {
   "cell_type": "code",
   "execution_count": 55,
   "metadata": {},
   "outputs": [
    {
     "name": "stdout",
     "output_type": "stream",
     "text": [
      "0\n"
     ]
    }
   ],
   "source": [
    "miscdifference = []                       #misc_difference\n",
    "for i in range(len(seq_record.features)):\n",
    "    if seq_record.features[i].type == \"miscdifference\":\n",
    "        miscdifference.append(i)\n",
    "misc_difference = len(miscdifference)\n",
    "print(misc_difference)"
   ]
  },
  {
   "cell_type": "code",
   "execution_count": 56,
   "metadata": {},
   "outputs": [
    {
     "name": "stdout",
     "output_type": "stream",
     "text": [
      "0\n"
     ]
    }
   ],
   "source": [
    "sigpeptide = []                       #sig_peptide\n",
    "for i in range(len(seq_record.features)):\n",
    "    if seq_record.features[i].type == \"sig_peptide\":\n",
    "        sigpeptide.append(i)\n",
    "sig_peptide = len(sigpeptide)\n",
    "print(sig_peptide)"
   ]
  },
  {
   "attachments": {},
   "cell_type": "markdown",
   "metadata": {},
   "source": [
    "# CDS"
   ]
  },
  {
   "cell_type": "code",
   "execution_count": 57,
   "metadata": {},
   "outputs": [
    {
     "name": "stdout",
     "output_type": "stream",
     "text": [
      "['[<0:273](+)']\n"
     ]
    }
   ],
   "source": [
    "CDS_loc = []           #localização\n",
    "for k in cds:\n",
    "    #print(seq_record.features[k].location)\n",
    "    CDS_loc.append(str(seq_record.features[k].location))\n",
    "print(CDS_loc)"
   ]
  },
  {
   "cell_type": "code",
   "execution_count": 58,
   "metadata": {},
   "outputs": [
    {
     "name": "stdout",
     "output_type": "stream",
     "text": [
      "[['accD']]\n"
     ]
    }
   ],
   "source": [
    "CDS_gene = []\n",
    "for k in genes: \n",
    "    if GENES > 0:\n",
    "        CDS_gene.append(seq_record.features[k].qualifiers['gene'])\n",
    "    else:\n",
    "        CDS_gene.append(\" \")\n",
    "print(CDS_gene)"
   ]
  },
  {
   "cell_type": "code",
   "execution_count": 59,
   "metadata": {},
   "outputs": [
    {
     "name": "stdout",
     "output_type": "stream",
     "text": [
      "[['UJB83823.1']] [['SPTTGGVTASFGMLGDIIIAEPNAYIAFAGKRVIEQTLNTTVPEGSQAAEYLFQKGLFDLIVPRNLLKSVLSELFQFHAFVPLNQNETEH']]\n"
     ]
    }
   ],
   "source": [
    "CDS_id = []\n",
    "CDS_aa = []               #protein_id\n",
    "for k in cds:\n",
    "    if len(cds) > 0:                   \n",
    "        CDS_id.append(seq_record.features[k].qualifiers['protein_id'])\n",
    "        CDS_aa.append(seq_record.features[k].qualifiers['translation'])\n",
    "    else: \n",
    "        CDS_id.append(\" \")\n",
    "        CDS_aa.append(\" \")\n",
    "print(CDS_id, CDS_aa)"
   ]
  },
  {
   "attachments": {},
   "cell_type": "markdown",
   "metadata": {},
   "source": [
    "# Sequence"
   ]
  },
  {
   "cell_type": "code",
   "execution_count": 60,
   "metadata": {},
   "outputs": [
    {
     "name": "stdout",
     "output_type": "stream",
     "text": [
      "[Seq('TCTCCTACTACTGGCGGAGTAACAGCCAGTTTTGGTATGTTGGGTGATATCATT...TGA')]\n",
      "Seq('TCTCCTACTACTGGCGGAGTAACAGCCAGTTTTGGTATGTTGGGTGATATCATT...TGA\n"
     ]
    }
   ],
   "source": [
    "Seq = []                         #e se sequencia for muito grande? ------> RE\n",
    "seq = seq_record.seq\n",
    "Seq.append(seq)\n",
    "print(Seq)\n",
    "a = re.findall(r\"Seq\\('\\w+...\\w\\w\\w\", str(Seq))\n",
    "print(a[0])"
   ]
  },
  {
   "cell_type": "code",
   "execution_count": null,
   "metadata": {},
   "outputs": [],
   "source": []
  },
  {
   "attachments": {},
   "cell_type": "markdown",
   "metadata": {},
   "source": [
    "# Inserção de dados nas tabelas"
   ]
  },
  {
   "cell_type": "code",
   "execution_count": 61,
   "metadata": {},
   "outputs": [],
   "source": [
    "import mysql.connector\n",
    "from mysql.connector import Error\n",
    "import pandas as pd"
   ]
  },
  {
   "cell_type": "code",
   "execution_count": 72,
   "metadata": {},
   "outputs": [],
   "source": [
    "import mysql.connector\n",
    "db = mysql.connector.connect(host=\"127.0.0.1\",   \n",
    "                     user=\"root\",         \n",
    "                     passwd=\"Cardoso10@\",  \n",
    "                     db=\"trabalho\",\n",
    "                     auth_plugin = \"mysql_native_password\"\n",
    "                     ) "
   ]
  },
  {
   "cell_type": "code",
   "execution_count": null,
   "metadata": {},
   "outputs": [],
   "source": [
    "#insert = \"INSERT INTO Gene_Bank (ACCESSION, VERSION, DEFINITION, KEYWORDS, ORGANISM, TAXONOMY) VALUES (%s,%s,%s,%s,%s,%s)\"\n",
    "#valores = [\n",
    "    #(accession, id, definicao, keywords, organismo, taxonomia),\n",
    "    (#seg entrada),\n",
    "    (#terc entrada)\n",
    "#]\n",
    "\n",
    "#cur.executemany(insert, valores)\n"
   ]
  },
  {
   "cell_type": "code",
   "execution_count": 67,
   "metadata": {},
   "outputs": [
    {
     "data": {
      "text/plain": [
       "True"
      ]
     },
     "execution_count": 67,
     "metadata": {},
     "output_type": "execute_result"
    }
   ],
   "source": [
    "cur = db.cursor()                     #Primeira inserção\n",
    "cur.execute(\"\"\"\n",
    "        INSERT INTO Gene_Bank (ACCESSION, VERSION, DEFINITION, KEYWORDS, ORGANISM, TAXONOMY)\n",
    "        VALUES (%s,%s,%s,%s,%s,%s)\n",
    "        \"\"\",\n",
    "        (accession,id, definicao, keywords, organismo, taxonomia ))\n",
    "\n",
    "db.autocommit = True    \n",
    "cur.close()"
   ]
  },
  {
   "cell_type": "code",
   "execution_count": 69,
   "metadata": {},
   "outputs": [
    {
     "data": {
      "text/plain": [
       "True"
      ]
     },
     "execution_count": 69,
     "metadata": {},
     "output_type": "execute_result"
    }
   ],
   "source": [
    "cur = db.cursor()\n",
    "cur.execute(\"\"\"\n",
    "        INSERT INTO sequence (VERSION, Sequence)\n",
    "        VALUES (%s,%s)\n",
    "        \"\"\",\n",
    "        (id, a[0]))\n",
    "\n",
    "db.autocommit = True    \n",
    "cur.close()"
   ]
  },
  {
   "cell_type": "code",
   "execution_count": 71,
   "metadata": {},
   "outputs": [
    {
     "data": {
      "text/plain": [
       "True"
      ]
     },
     "execution_count": 71,
     "metadata": {},
     "output_type": "execute_result"
    }
   ],
   "source": [
    "cur = db.cursor()\n",
    "cur.execute(\"\"\"\n",
    "        INSERT INTO Locus (VERSION, Locus_Name, Sequence_Length, Molecule_Type, Topology, GenBank_Division, Modification_date)\n",
    "        VALUES (%s,%s,%s,%s,%s,%s,%s)\n",
    "        \"\"\",\n",
    "        (id, nome, tamanho, molecule_type, topologia, data_fyle_division,data_modificacao))\n",
    "\n",
    "db.autocommit = True    \n",
    "cur.close()\n"
   ]
  },
  {
   "cell_type": "code",
   "execution_count": 75,
   "metadata": {},
   "outputs": [
    {
     "ename": "DatabaseError",
     "evalue": "1205 (HY000): Lock wait timeout exceeded; try restarting transaction",
     "output_type": "error",
     "traceback": [
      "\u001b[1;31m---------------------------------------------------------------------------\u001b[0m",
      "\u001b[1;31mMySQLInterfaceError\u001b[0m                       Traceback (most recent call last)",
      "File \u001b[1;32mc:\\Users\\Win10\\AppData\\Local\\Programs\\Python\\Python310\\lib\\site-packages\\mysql\\connector\\connection_cext.py:565\u001b[0m, in \u001b[0;36mCMySQLConnection.cmd_query\u001b[1;34m(self, query, raw, buffered, raw_as_string)\u001b[0m\n\u001b[0;32m    564\u001b[0m         query \u001b[39m=\u001b[39m query\u001b[39m.\u001b[39mencode(\u001b[39m\"\u001b[39m\u001b[39mutf-8\u001b[39m\u001b[39m\"\u001b[39m)\n\u001b[1;32m--> 565\u001b[0m     \u001b[39mself\u001b[39;49m\u001b[39m.\u001b[39;49m_cmysql\u001b[39m.\u001b[39;49mquery(\n\u001b[0;32m    566\u001b[0m         query,\n\u001b[0;32m    567\u001b[0m         raw\u001b[39m=\u001b[39;49mraw,\n\u001b[0;32m    568\u001b[0m         buffered\u001b[39m=\u001b[39;49mbuffered,\n\u001b[0;32m    569\u001b[0m         raw_as_string\u001b[39m=\u001b[39;49mraw_as_string,\n\u001b[0;32m    570\u001b[0m         query_attrs\u001b[39m=\u001b[39;49m\u001b[39mself\u001b[39;49m\u001b[39m.\u001b[39;49m_query_attrs,\n\u001b[0;32m    571\u001b[0m     )\n\u001b[0;32m    572\u001b[0m \u001b[39mexcept\u001b[39;00m MySQLInterfaceError \u001b[39mas\u001b[39;00m err:\n",
      "\u001b[1;31mMySQLInterfaceError\u001b[0m: Lock wait timeout exceeded; try restarting transaction",
      "\nThe above exception was the direct cause of the following exception:\n",
      "\u001b[1;31mDatabaseError\u001b[0m                             Traceback (most recent call last)",
      "Cell \u001b[1;32mIn [75], line 2\u001b[0m\n\u001b[0;32m      1\u001b[0m cur \u001b[39m=\u001b[39m db\u001b[39m.\u001b[39mcursor()\n\u001b[1;32m----> 2\u001b[0m cur\u001b[39m.\u001b[39;49mexecute(\u001b[39m\"\"\"\u001b[39;49m\n\u001b[0;32m      3\u001b[0m \u001b[39m        INSERT INTO Features (VERSION, source, Taxon, CDS, gene, mRNA, regulatory, protein_bind, misc_features, misc_difference, sig_peptide)\u001b[39;49m\n\u001b[0;32m      4\u001b[0m \u001b[39m        VALUES (\u001b[39;49m\u001b[39m%s\u001b[39;49;00m\u001b[39m,\u001b[39;49m\u001b[39m%s\u001b[39;49;00m\u001b[39m,\u001b[39;49m\u001b[39m%s\u001b[39;49;00m\u001b[39m,\u001b[39;49m\u001b[39m%s\u001b[39;49;00m\u001b[39m,\u001b[39;49m\u001b[39m%s\u001b[39;49;00m\u001b[39m,\u001b[39;49m\u001b[39m%s\u001b[39;49;00m\u001b[39m,\u001b[39;49m\u001b[39m%s\u001b[39;49;00m\u001b[39m,\u001b[39;49m\u001b[39m%s\u001b[39;49;00m\u001b[39m,\u001b[39;49m\u001b[39m%s\u001b[39;49;00m\u001b[39m,\u001b[39;49m\u001b[39m%s\u001b[39;49;00m\u001b[39m,\u001b[39;49m\u001b[39m%s\u001b[39;49;00m\u001b[39m)\u001b[39;49m\n\u001b[0;32m      5\u001b[0m \u001b[39m        \u001b[39;49m\u001b[39m\"\"\"\u001b[39;49m,\n\u001b[0;32m      6\u001b[0m         (\u001b[39mid\u001b[39;49m, source, taxon[\u001b[39m0\u001b[39;49m][\u001b[39m0\u001b[39;49m], CDS, GENES, mRNA, Regulatory, ProteinBind, misc_feature, misc_difference, sig_peptide))\n\u001b[0;32m      8\u001b[0m db\u001b[39m.\u001b[39mautocommit \u001b[39m=\u001b[39m \u001b[39mTrue\u001b[39;00m    \n\u001b[0;32m      9\u001b[0m cur\u001b[39m.\u001b[39mclose()\n",
      "File \u001b[1;32mc:\\Users\\Win10\\AppData\\Local\\Programs\\Python\\Python310\\lib\\site-packages\\mysql\\connector\\cursor_cext.py:279\u001b[0m, in \u001b[0;36mCMySQLCursor.execute\u001b[1;34m(self, operation, params, multi)\u001b[0m\n\u001b[0;32m    274\u001b[0m             \u001b[39mraise\u001b[39;00m ProgrammingError(\n\u001b[0;32m    275\u001b[0m                 \u001b[39m\"\u001b[39m\u001b[39mNot all parameters were used in the SQL statement\u001b[39m\u001b[39m\"\u001b[39m\n\u001b[0;32m    276\u001b[0m             )\n\u001b[0;32m    278\u001b[0m \u001b[39mtry\u001b[39;00m:\n\u001b[1;32m--> 279\u001b[0m     result \u001b[39m=\u001b[39m \u001b[39mself\u001b[39;49m\u001b[39m.\u001b[39;49m_cnx\u001b[39m.\u001b[39;49mcmd_query(\n\u001b[0;32m    280\u001b[0m         stmt,\n\u001b[0;32m    281\u001b[0m         raw\u001b[39m=\u001b[39;49m\u001b[39mself\u001b[39;49m\u001b[39m.\u001b[39;49m_raw,\n\u001b[0;32m    282\u001b[0m         buffered\u001b[39m=\u001b[39;49m\u001b[39mself\u001b[39;49m\u001b[39m.\u001b[39;49m_buffered,\n\u001b[0;32m    283\u001b[0m         raw_as_string\u001b[39m=\u001b[39;49m\u001b[39mself\u001b[39;49m\u001b[39m.\u001b[39;49m_raw_as_string,\n\u001b[0;32m    284\u001b[0m     )\n\u001b[0;32m    285\u001b[0m \u001b[39mexcept\u001b[39;00m MySQLInterfaceError \u001b[39mas\u001b[39;00m err:\n\u001b[0;32m    286\u001b[0m     \u001b[39mraise\u001b[39;00m get_mysql_exception(\n\u001b[0;32m    287\u001b[0m         msg\u001b[39m=\u001b[39merr\u001b[39m.\u001b[39mmsg, errno\u001b[39m=\u001b[39merr\u001b[39m.\u001b[39merrno, sqlstate\u001b[39m=\u001b[39merr\u001b[39m.\u001b[39msqlstate\n\u001b[0;32m    288\u001b[0m     ) \u001b[39mfrom\u001b[39;00m \u001b[39merr\u001b[39;00m\n",
      "File \u001b[1;32mc:\\Users\\Win10\\AppData\\Local\\Programs\\Python\\Python310\\lib\\site-packages\\mysql\\connector\\connection_cext.py:573\u001b[0m, in \u001b[0;36mCMySQLConnection.cmd_query\u001b[1;34m(self, query, raw, buffered, raw_as_string)\u001b[0m\n\u001b[0;32m    565\u001b[0m     \u001b[39mself\u001b[39m\u001b[39m.\u001b[39m_cmysql\u001b[39m.\u001b[39mquery(\n\u001b[0;32m    566\u001b[0m         query,\n\u001b[0;32m    567\u001b[0m         raw\u001b[39m=\u001b[39mraw,\n\u001b[1;32m   (...)\u001b[0m\n\u001b[0;32m    570\u001b[0m         query_attrs\u001b[39m=\u001b[39m\u001b[39mself\u001b[39m\u001b[39m.\u001b[39m_query_attrs,\n\u001b[0;32m    571\u001b[0m     )\n\u001b[0;32m    572\u001b[0m \u001b[39mexcept\u001b[39;00m MySQLInterfaceError \u001b[39mas\u001b[39;00m err:\n\u001b[1;32m--> 573\u001b[0m     \u001b[39mraise\u001b[39;00m get_mysql_exception(\n\u001b[0;32m    574\u001b[0m         err\u001b[39m.\u001b[39merrno, msg\u001b[39m=\u001b[39merr\u001b[39m.\u001b[39mmsg, sqlstate\u001b[39m=\u001b[39merr\u001b[39m.\u001b[39msqlstate\n\u001b[0;32m    575\u001b[0m     ) \u001b[39mfrom\u001b[39;00m \u001b[39merr\u001b[39;00m\n\u001b[0;32m    576\u001b[0m \u001b[39mexcept\u001b[39;00m \u001b[39mAttributeError\u001b[39;00m \u001b[39mas\u001b[39;00m err:\n\u001b[0;32m    577\u001b[0m     addr \u001b[39m=\u001b[39m (\n\u001b[0;32m    578\u001b[0m         \u001b[39mself\u001b[39m\u001b[39m.\u001b[39m_unix_socket \u001b[39mif\u001b[39;00m \u001b[39mself\u001b[39m\u001b[39m.\u001b[39m_unix_socket \u001b[39melse\u001b[39;00m \u001b[39mf\u001b[39m\u001b[39m\"\u001b[39m\u001b[39m{\u001b[39;00m\u001b[39mself\u001b[39m\u001b[39m.\u001b[39m_host\u001b[39m}\u001b[39;00m\u001b[39m:\u001b[39m\u001b[39m{\u001b[39;00m\u001b[39mself\u001b[39m\u001b[39m.\u001b[39m_port\u001b[39m}\u001b[39;00m\u001b[39m\"\u001b[39m\n\u001b[0;32m    579\u001b[0m     )\n",
      "\u001b[1;31mDatabaseError\u001b[0m: 1205 (HY000): Lock wait timeout exceeded; try restarting transaction"
     ]
    }
   ],
   "source": [
    "cur = db.cursor()       #levei timeout aqui \n",
    "cur.execute(\"\"\"\n",
    "        INSERT INTO Features (VERSION, source, Taxon, CDS, gene, mRNA, regulatory, protein_bind, misc_features, misc_difference, sig_peptide)\n",
    "        VALUES (%s,%s,%s,%s,%s,%s,%s,%s,%s,%s,%s)\n",
    "        \"\"\",\n",
    "        (id, source, taxon[0][0], CDS, GENES, mRNA, Regulatory, ProteinBind, misc_feature, misc_difference, sig_peptide))\n",
    "\n",
    "db.autocommit = True    \n",
    "cur.close()"
   ]
  },
  {
   "cell_type": "code",
   "execution_count": null,
   "metadata": {},
   "outputs": [],
   "source": []
  },
  {
   "cell_type": "code",
   "execution_count": 65,
   "metadata": {},
   "outputs": [
    {
     "ename": "ProgrammingError",
     "evalue": "Not enough parameters for the SQL statement",
     "output_type": "error",
     "traceback": [
      "\u001b[1;31m---------------------------------------------------------------------------\u001b[0m",
      "\u001b[1;31mProgrammingError\u001b[0m                          Traceback (most recent call last)",
      "Cell \u001b[1;32mIn [65], line 20\u001b[0m\n\u001b[0;32m      8\u001b[0m cur\u001b[39m.\u001b[39mexecute(\u001b[39m\"\"\"\u001b[39m\n\u001b[0;32m      9\u001b[0m \u001b[39m        INSERT INTO sequence (VERSION, Sequence)\u001b[39m\n\u001b[0;32m     10\u001b[0m \u001b[39m        VALUES (\u001b[39m\u001b[39m%s\u001b[39;00m\u001b[39m,\u001b[39m\u001b[39m%s\u001b[39;00m\u001b[39m)\u001b[39m\n\u001b[0;32m     11\u001b[0m \u001b[39m        \u001b[39m\u001b[39m\"\"\"\u001b[39m,\n\u001b[0;32m     12\u001b[0m         (\u001b[39mid\u001b[39m, a[\u001b[39m0\u001b[39m]))\n\u001b[0;32m     14\u001b[0m cur\u001b[39m.\u001b[39mexecute(\u001b[39m\"\"\"\u001b[39m\n\u001b[0;32m     15\u001b[0m \u001b[39m        INSERT INTO Locus (VERSION, Locus_Name, Sequence_Length, Molecule_Type, Topology, GenBank_Division, Modification_date)\u001b[39m\n\u001b[0;32m     16\u001b[0m \u001b[39m        VALUES (\u001b[39m\u001b[39m%s\u001b[39;00m\u001b[39m,\u001b[39m\u001b[39m%s\u001b[39;00m\u001b[39m,\u001b[39m\u001b[39m%s\u001b[39;00m\u001b[39m,\u001b[39m\u001b[39m%s\u001b[39;00m\u001b[39m,\u001b[39m\u001b[39m%s\u001b[39;00m\u001b[39m,\u001b[39m\u001b[39m%s\u001b[39;00m\u001b[39m,\u001b[39m\u001b[39m%s\u001b[39;00m\u001b[39m)\u001b[39m\n\u001b[0;32m     17\u001b[0m \u001b[39m        \u001b[39m\u001b[39m\"\"\"\u001b[39m,\n\u001b[0;32m     18\u001b[0m         (\u001b[39mid\u001b[39m, nome, tamanho, molecule_type, topologia, data_fyle_division,data_modificacao))\n\u001b[1;32m---> 20\u001b[0m cur\u001b[39m.\u001b[39;49mexecute(\u001b[39m\"\"\"\u001b[39;49m\n\u001b[0;32m     21\u001b[0m \u001b[39m        INSERT INTO Features (VERSION, source, Taxon, CDS, gene, mRNA, regulatory, protein_bind, misc_features, misc_diffence, sig_peptide)\u001b[39;49m\n\u001b[0;32m     22\u001b[0m \u001b[39m        VALUES (\u001b[39;49m\u001b[39m%s\u001b[39;49;00m\u001b[39m,\u001b[39;49m\u001b[39m%s\u001b[39;49;00m\u001b[39m,\u001b[39;49m\u001b[39m%s\u001b[39;49;00m\u001b[39m,\u001b[39;49m\u001b[39m%s\u001b[39;49;00m\u001b[39m,\u001b[39;49m\u001b[39m%s\u001b[39;49;00m\u001b[39m,\u001b[39;49m\u001b[39m%s\u001b[39;49;00m\u001b[39m,\u001b[39;49m\u001b[39m%s\u001b[39;49;00m\u001b[39m,\u001b[39;49m\u001b[39m%s\u001b[39;49;00m\u001b[39m,\u001b[39;49m\u001b[39m%s\u001b[39;49;00m\u001b[39m,\u001b[39;49m\u001b[39m%s\u001b[39;49;00m\u001b[39m,\u001b[39;49m\u001b[39m%s\u001b[39;49;00m\u001b[39m)\u001b[39;49m\n\u001b[0;32m     23\u001b[0m \u001b[39m        \u001b[39;49m\u001b[39m\"\"\"\u001b[39;49m,\n\u001b[0;32m     24\u001b[0m         (\u001b[39mid\u001b[39;49m, source, taxon[\u001b[39m0\u001b[39;49m][\u001b[39m0\u001b[39;49m], CDS, GENES, mRNA, Regulatory, ProteinBind, misc_feature))\n\u001b[0;32m     26\u001b[0m cur\u001b[39m.\u001b[39mexecute(\u001b[39m\"\"\"\u001b[39m\n\u001b[0;32m     27\u001b[0m \u001b[39m        INSERT INTO CDS (VERSION, Base_Span, protein_id, translation, gene)\u001b[39m\n\u001b[0;32m     28\u001b[0m \u001b[39m        VALUES (\u001b[39m\u001b[39m%s\u001b[39;00m\u001b[39m,\u001b[39m\u001b[39m%s\u001b[39;00m\u001b[39m,\u001b[39m\u001b[39m%s\u001b[39;00m\u001b[39m,\u001b[39m\u001b[39m%s\u001b[39;00m\u001b[39m,\u001b[39m\u001b[39m%s\u001b[39;00m\u001b[39m)\u001b[39m\n\u001b[0;32m     29\u001b[0m \u001b[39m        \u001b[39m\u001b[39m\"\"\"\u001b[39m,\n\u001b[0;32m     30\u001b[0m         (\u001b[39mid\u001b[39m, CDS_loc[\u001b[39m0\u001b[39m], CDS_id[\u001b[39m0\u001b[39m][\u001b[39m0\u001b[39m], CDS_aa[\u001b[39m0\u001b[39m][\u001b[39m0\u001b[39m], CDS_gene[\u001b[39m0\u001b[39m][\u001b[39m0\u001b[39m]))\n\u001b[0;32m     32\u001b[0m cur\u001b[39m.\u001b[39mexecute(\u001b[39m\"\"\"\u001b[39m\n\u001b[0;32m     33\u001b[0m \u001b[39m        INSERT INTO Reference (VERSION, pubmed_id, title, journal, authors, consortium, comment)\u001b[39m\n\u001b[0;32m     34\u001b[0m \u001b[39m        VALUES (\u001b[39m\u001b[39m%s\u001b[39;00m\u001b[39m,\u001b[39m\u001b[39m%s\u001b[39;00m\u001b[39m,\u001b[39m\u001b[39m%s\u001b[39;00m\u001b[39m,\u001b[39m\u001b[39m%s\u001b[39;00m\u001b[39m,\u001b[39m\u001b[39m%s\u001b[39;00m\u001b[39m,\u001b[39m\u001b[39m%s\u001b[39;00m\u001b[39m,\u001b[39m\u001b[39m%s\u001b[39;00m\u001b[39m)\u001b[39m\n\u001b[0;32m     35\u001b[0m \u001b[39m        \u001b[39m\u001b[39m\"\"\"\u001b[39m,\n\u001b[0;32m     36\u001b[0m         (\u001b[39mid\u001b[39m, ids_pubmed[\u001b[39m0\u001b[39m], title[\u001b[39m0\u001b[39m], journal[\u001b[39m0\u001b[39m], authors[\u001b[39m0\u001b[39m], consortium[\u001b[39m0\u001b[39m], comment[\u001b[39m0\u001b[39m]))\n",
      "File \u001b[1;32mc:\\Users\\Win10\\AppData\\Local\\Programs\\Python\\Python310\\lib\\site-packages\\mysql\\connector\\cursor_cext.py:272\u001b[0m, in \u001b[0;36mCMySQLCursor.execute\u001b[1;34m(self, operation, params, multi)\u001b[0m\n\u001b[0;32m    270\u001b[0m \u001b[39melif\u001b[39;00m \u001b[39misinstance\u001b[39m(prepared, (\u001b[39mlist\u001b[39m, \u001b[39mtuple\u001b[39m)):\n\u001b[0;32m    271\u001b[0m     psub \u001b[39m=\u001b[39m _ParamSubstitutor(prepared)\n\u001b[1;32m--> 272\u001b[0m     stmt \u001b[39m=\u001b[39m RE_PY_PARAM\u001b[39m.\u001b[39;49msub(psub, stmt)\n\u001b[0;32m    273\u001b[0m     \u001b[39mif\u001b[39;00m psub\u001b[39m.\u001b[39mremaining \u001b[39m!=\u001b[39m \u001b[39m0\u001b[39m:\n\u001b[0;32m    274\u001b[0m         \u001b[39mraise\u001b[39;00m ProgrammingError(\n\u001b[0;32m    275\u001b[0m             \u001b[39m\"\u001b[39m\u001b[39mNot all parameters were used in the SQL statement\u001b[39m\u001b[39m\"\u001b[39m\n\u001b[0;32m    276\u001b[0m         )\n",
      "File \u001b[1;32mc:\\Users\\Win10\\AppData\\Local\\Programs\\Python\\Python310\\lib\\site-packages\\mysql\\connector\\cursor_cext.py:81\u001b[0m, in \u001b[0;36m_ParamSubstitutor.__call__\u001b[1;34m(self, matchobj)\u001b[0m\n\u001b[0;32m     79\u001b[0m     \u001b[39mreturn\u001b[39;00m \u001b[39mself\u001b[39m\u001b[39m.\u001b[39mparams[index]\n\u001b[0;32m     80\u001b[0m \u001b[39mexcept\u001b[39;00m \u001b[39mIndexError\u001b[39;00m:\n\u001b[1;32m---> 81\u001b[0m     \u001b[39mraise\u001b[39;00m ProgrammingError(\n\u001b[0;32m     82\u001b[0m         \u001b[39m\"\u001b[39m\u001b[39mNot enough parameters for the SQL statement\u001b[39m\u001b[39m\"\u001b[39m\n\u001b[0;32m     83\u001b[0m     ) \u001b[39mfrom\u001b[39;00m \u001b[39mNone\u001b[39m\n",
      "\u001b[1;31mProgrammingError\u001b[0m: Not enough parameters for the SQL statement"
     ]
    }
   ],
   "source": [
    "cur = db.cursor()                     #tudo junto nao esta a funcionar\n",
    "cur.execute(\"\"\"\n",
    "        INSERT INTO Gene_Bank (ACCESSION, VERSION, DEFINITION, KEYWORDS, ORGANISM, TAXONOMY)\n",
    "        VALUES (%s,%s,%s,%s,%s,%s)\n",
    "        \"\"\",\n",
    "        (accession,id, definicao, keywords, organismo, taxonomia ))\n",
    "\n",
    "cur.execute(\"\"\"\n",
    "        INSERT INTO sequence (VERSION, Sequence)\n",
    "        VALUES (%s,%s)\n",
    "        \"\"\",\n",
    "        (id, a[0]))\n",
    "\n",
    "cur.execute(\"\"\"\n",
    "        INSERT INTO Locus (VERSION, Locus_Name, Sequence_Length, Molecule_Type, Topology, GenBank_Division, Modification_date)\n",
    "        VALUES (%s,%s,%s,%s,%s,%s,%s)\n",
    "        \"\"\",\n",
    "        (id, nome, tamanho, molecule_type, topologia, data_fyle_division,data_modificacao))\n",
    "\n",
    "cur.execute(\"\"\"\n",
    "        INSERT INTO Features (VERSION, source, Taxon, CDS, gene, mRNA, regulatory, protein_bind, misc_features, misc_diffence, sig_peptide)\n",
    "        VALUES (%s,%s,%s,%s,%s,%s,%s,%s,%s,%s,%s)\n",
    "        \"\"\",\n",
    "        (id, source, taxon[0][0], CDS, GENES, mRNA, Regulatory, ProteinBind, misc_feature))\n",
    "\n",
    "cur.execute(\"\"\"\n",
    "        INSERT INTO CDS (VERSION, Base_Span, protein_id, translation, gene)\n",
    "        VALUES (%s,%s,%s,%s,%s)\n",
    "        \"\"\",\n",
    "        (id, CDS_loc[0], CDS_id[0][0], CDS_aa[0][0], CDS_gene[0][0]))\n",
    "\n",
    "cur.execute(\"\"\"\n",
    "        INSERT INTO Reference (VERSION, pubmed_id, title, journal, authors, consortium, comment)\n",
    "        VALUES (%s,%s,%s,%s,%s,%s,%s)\n",
    "        \"\"\",\n",
    "        (id, ids_pubmed[0], title[0], journal[0], authors[0], consortium[0], comment[0]))\n",
    "\n",
    "cur.execute(\"\"\"\n",
    "        INSERT INTO Reference (VERSION, pubmed_id, title, journal, authors, consortium, comment)\n",
    "        VALUES (%s,%s,%s,%s,%s,%s,%s)\n",
    "        \"\"\",\n",
    "        (id, ids_pubmed[1], title[1], journal[1], authors[1], consortium[1], comment[1]))\n",
    "\n",
    "\n",
    "db.autocommit = True    \n",
    "cur.close()"
   ]
  }
 ],
 "metadata": {
  "kernelspec": {
   "display_name": "Python 3",
   "language": "python",
   "name": "python3"
  },
  "language_info": {
   "codemirror_mode": {
    "name": "ipython",
    "version": 3
   },
   "file_extension": ".py",
   "mimetype": "text/x-python",
   "name": "python",
   "nbconvert_exporter": "python",
   "pygments_lexer": "ipython3",
   "version": "3.10.7 (tags/v3.10.7:6cc6b13, Sep  5 2022, 14:08:36) [MSC v.1933 64 bit (AMD64)]"
  },
  "orig_nbformat": 4,
  "vscode": {
   "interpreter": {
    "hash": "4e1fc3fa23fb62f3f701e1450a48be1e01c4f473533356521fe76f63c343b8fd"
   }
  }
 },
 "nbformat": 4,
 "nbformat_minor": 2
}
