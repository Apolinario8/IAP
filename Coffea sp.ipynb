{
 "cells": [
  {
   "attachments": {},
   "cell_type": "markdown",
   "metadata": {},
   "source": [
    "# BioPython"
   ]
  },
  {
   "cell_type": "code",
   "execution_count": 1,
   "metadata": {},
   "outputs": [],
   "source": [
    "from Bio import Entrez\n",
    "from Bio import SeqIO\n",
    "from Bio import Medline\n",
    "Entrez.email='goncalocardoso2016@gmail.com'"
   ]
  },
  {
   "cell_type": "code",
   "execution_count": null,
   "metadata": {},
   "outputs": [],
   "source": [
    "#input=()"
   ]
  },
  {
   "cell_type": "code",
   "execution_count": null,
   "metadata": {},
   "outputs": [],
   "source": [
    "#id = input(\"Insira id do seu organismo\")"
   ]
  },
  {
   "cell_type": "code",
   "execution_count": 2,
   "metadata": {},
   "outputs": [
    {
     "name": "stdout",
     "output_type": "stream",
     "text": [
      "ID: MZ028624.1\n",
      "Name: MZ028624\n",
      "Description: Coffea sp. SJ-2022a voucher 20110301-67 (BR) acetyl-CoA carboxylase beta subunit (accD) gene, partial cds; and accD-psaI intergenic spacer, partial sequence; plastid\n",
      "Number of features: 4\n",
      "/molecule_type=DNA\n",
      "/topology=linear\n",
      "/data_file_division=PLN\n",
      "/date=23-JAN-2022\n",
      "/accessions=['MZ028624']\n",
      "/sequence_version=1\n",
      "/keywords=['']\n",
      "/source=plastid Coffea rizetiana\n",
      "/organism=Coffea rizetiana\n",
      "/taxonomy=['Eukaryota', 'Viridiplantae', 'Streptophyta', 'Embryophyta', 'Tracheophyta', 'Spermatophyta', 'Magnoliopsida', 'eudicotyledons', 'Gunneridae', 'Pentapetalae', 'asterids', 'lamiids', 'Gentianales', 'Rubiaceae', 'Ixoroideae', 'Gardenieae complex', 'Bertiereae - Coffeeae clade', 'Coffeeae', 'Coffea']\n",
      "/references=[Reference(title='A new coffee species from South-West Cameroon, the principal hotspot of diversity for Coffea L. (Coffeeae, Ixoroideae, Rubiaceae) in Africa', ...), Reference(title='Direct Submission', ...)]\n",
      "/structured_comment=defaultdict(<class 'dict'>, {'Assembly-Data': {'Sequencing Technology': 'Sanger dideoxy sequencing'}})\n",
      "Seq('TCTCCTACTACTGGCGGAGTAACAGCCAGTTTTGGTATGTTGGGTGATATCATT...TGA')\n"
     ]
    }
   ],
   "source": [
    "handle = Entrez.efetch(db='nucleotide', id=\"MZ028624.1\", rettype='gb', retmode='text')\n",
    "seq_record = SeqIO.read(handle, \"gb\")\n",
    "print(seq_record)"
   ]
  },
  {
   "cell_type": "code",
   "execution_count": null,
   "metadata": {},
   "outputs": [
    {
     "data": {
      "text/plain": [
       "1"
      ]
     },
     "execution_count": 36,
     "metadata": {},
     "output_type": "execute_result"
    }
   ],
   "source": [
    "#SeqIO.write(seq_record, \"{id}.gb\", \"genbank\")\n"
   ]
  },
  {
   "cell_type": "code",
   "execution_count": null,
   "metadata": {},
   "outputs": [],
   "source": [
    "#seq_record = SeqIO.read(\"{id}.gb\", \"gb\")"
   ]
  },
  {
   "attachments": {},
   "cell_type": "markdown",
   "metadata": {},
   "source": [
    "Tabela Gene_Bank"
   ]
  },
  {
   "cell_type": "code",
   "execution_count": 3,
   "metadata": {},
   "outputs": [
    {
     "name": "stdout",
     "output_type": "stream",
     "text": [
      "MZ028624.1\n"
     ]
    }
   ],
   "source": [
    "id = seq_record.id     #VERSAO\n",
    "print(id)"
   ]
  },
  {
   "cell_type": "code",
   "execution_count": 4,
   "metadata": {},
   "outputs": [
    {
     "name": "stdout",
     "output_type": "stream",
     "text": [
      "Coffea sp. SJ-2022a voucher 20110301-67 (BR) acetyl-CoA carboxylase beta subunit (accD) gene, partial cds; and accD-psaI intergenic spacer, partial sequence; plastid\n"
     ]
    }
   ],
   "source": [
    "definicao = seq_record.description         #descrição\n",
    "print(definicao)"
   ]
  },
  {
   "cell_type": "code",
   "execution_count": 5,
   "metadata": {},
   "outputs": [
    {
     "name": "stdout",
     "output_type": "stream",
     "text": [
      "MZ028624\n"
     ]
    }
   ],
   "source": [
    "accession = seq_record.annotations[\"accessions\"][0]       #accession\n",
    "print(accession)\n"
   ]
  },
  {
   "cell_type": "code",
   "execution_count": 6,
   "metadata": {},
   "outputs": [
    {
     "name": "stdout",
     "output_type": "stream",
     "text": [
      "\n"
     ]
    }
   ],
   "source": [
    "keywords = seq_record.annotations[\"keywords\"]\n",
    "keywords = ', '.join(keywords)                              #keywords\n",
    "print(keywords)"
   ]
  },
  {
   "cell_type": "code",
   "execution_count": 7,
   "metadata": {},
   "outputs": [
    {
     "name": "stdout",
     "output_type": "stream",
     "text": [
      "Coffea rizetiana\n"
     ]
    }
   ],
   "source": [
    "organismo = seq_record.annotations[\"organism\"]      #organismo\n",
    "print(organismo)"
   ]
  },
  {
   "cell_type": "code",
   "execution_count": 8,
   "metadata": {},
   "outputs": [
    {
     "name": "stdout",
     "output_type": "stream",
     "text": [
      "Eukaryota, Viridiplantae, Streptophyta, Embryophyta, Tracheophyta, Spermatophyta, Magnoliopsida, eudicotyledons, Gunneridae, Pentapetalae, asterids, lamiids, Gentianales, Rubiaceae, Ixoroideae, Gardenieae complex, Bertiereae - Coffeeae clade, Coffeeae, Coffea\n"
     ]
    }
   ],
   "source": [
    "taxonomia = seq_record.annotations[\"taxonomy\"]  \n",
    "taxonomia = ', '.join(taxonomia)     #taxonomia\n",
    "print(taxonomia)"
   ]
  },
  {
   "attachments": {},
   "cell_type": "markdown",
   "metadata": {},
   "source": [
    "# Locus"
   ]
  },
  {
   "cell_type": "code",
   "execution_count": 9,
   "metadata": {},
   "outputs": [
    {
     "name": "stdout",
     "output_type": "stream",
     "text": [
      "23-JAN-2022\n"
     ]
    }
   ],
   "source": [
    "data_modificacao = seq_record.annotations[\"date\"]      #data\n",
    "print(data_modificacao)"
   ]
  },
  {
   "cell_type": "code",
   "execution_count": 10,
   "metadata": {},
   "outputs": [
    {
     "name": "stdout",
     "output_type": "stream",
     "text": [
      "896\n"
     ]
    }
   ],
   "source": [
    "tamanho = len(seq_record.seq)       #sequence_length\n",
    "print(tamanho)"
   ]
  },
  {
   "cell_type": "code",
   "execution_count": 11,
   "metadata": {},
   "outputs": [
    {
     "name": "stdout",
     "output_type": "stream",
     "text": [
      "PLN\n"
     ]
    }
   ],
   "source": [
    "data_fyle_division = seq_record.annotations[\"data_file_division\"]        #gene_bank_division\n",
    "print(data_fyle_division)"
   ]
  },
  {
   "cell_type": "code",
   "execution_count": 12,
   "metadata": {},
   "outputs": [
    {
     "name": "stdout",
     "output_type": "stream",
     "text": [
      "DNA\n"
     ]
    }
   ],
   "source": [
    "molecule_type = seq_record.annotations[\"molecule_type\"]      #molecule_type\n",
    "print(molecule_type)"
   ]
  },
  {
   "cell_type": "code",
   "execution_count": 13,
   "metadata": {},
   "outputs": [
    {
     "name": "stdout",
     "output_type": "stream",
     "text": [
      "linear\n"
     ]
    }
   ],
   "source": [
    "topologia = seq_record.annotations[\"topology\"]            #topology\n",
    "print(topologia)"
   ]
  },
  {
   "cell_type": "code",
   "execution_count": 14,
   "metadata": {},
   "outputs": [
    {
     "name": "stdout",
     "output_type": "stream",
     "text": [
      "MZ028624\n"
     ]
    }
   ],
   "source": [
    "nome = seq_record.name         #nome\n",
    "print(nome)"
   ]
  },
  {
   "attachments": {},
   "cell_type": "markdown",
   "metadata": {},
   "source": [
    "# References"
   ]
  },
  {
   "cell_type": "code",
   "execution_count": 15,
   "metadata": {},
   "outputs": [
    {
     "name": "stdout",
     "output_type": "stream",
     "text": [
      "Nº de refs: 2\n",
      "IDs do PubMed: ['', '']\n",
      "Authors: ['Stoffelen,P., Anthony,F., Janssens,S. and Noirot,M.', 'Stoffelen,P., Anthony,F., Janssens,S. and Noirot,M.']\n",
      "Journal: ['Adansonia 43 (26) (2021) In press', 'Submitted (23-APR-2021) Research Department, Meise Botanic Garden, Nieuwelaan 38, Meise 1860, Belgium']\n",
      "Consortium: ['', '']\n",
      "Comment: ['', '']\n",
      "Title: ['A new coffee species from South-West Cameroon, the principal hotspot of diversity for Coffea L. (Coffeeae, Ixoroideae, Rubiaceae) in Africa', 'Direct Submission']\n"
     ]
    }
   ],
   "source": [
    "refs = []                                                     #author, pubmed_id, journal, consortium, remark, title\n",
    "ids_pubmed = []\n",
    "authors = []\n",
    "journal = []\n",
    "consortium = []\n",
    "comment = []\n",
    "title = []\n",
    "for x in range(len(seq_record.annotations[\"references\"])):\n",
    "    #print(seq_record.annotations[\"references\"][x],\"\\n\")\n",
    "    refs.append(x)\n",
    "    authors.append(seq_record.annotations[\"references\"][x].authors)\n",
    "    ids_pubmed.append(seq_record.annotations[\"references\"][x].pubmed_id)\n",
    "    journal.append(seq_record.annotations[\"references\"][x].journal)\n",
    "    consortium.append(seq_record.annotations[\"references\"][x].consrtm)\n",
    "    comment.append(seq_record.annotations[\"references\"][x].comment)\n",
    "    title.append(seq_record.annotations[\"references\"][x].title)\n",
    "print(\"Nº de refs:\", len(refs))\n",
    "print(\"IDs do PubMed:\", ids_pubmed)\n",
    "print(\"Authors:\", authors)\n",
    "print(\"Journal:\", journal)\n",
    "print(\"Consortium:\", consortium)\n",
    "print(\"Comment:\", comment)\n",
    "print(\"Title:\", title)"
   ]
  },
  {
   "attachments": {},
   "cell_type": "markdown",
   "metadata": {},
   "source": [
    "# Pubmed_Info"
   ]
  },
  {
   "cell_type": "code",
   "execution_count": null,
   "metadata": {},
   "outputs": [],
   "source": [
    "import re                                                                     #erro: na apanha todas as entradas\n",
    "for y in ids_pubmed:\n",
    "    try:\n",
    "        handle = Entrez.efetch(db=\"pubmed\", id=y, retmode=\"xml\")\n",
    "        record = Entrez.read(handle)\n",
    "        record = str(record)\n",
    "        Abstract = []\n",
    "        result = re.findall(r'AbstractText\\':\\s\\[\\\"([.\\s\\.\\,\\[\\]\\(\\)\\'\\w\\-]+)\\\"', record)       #abstract\n",
    "        #print(\"Abstract:\",\"\\n\", *abstract)\n",
    "        abstract = result\n",
    "        Abstract.append(abstract)\n",
    "        result = re.findall(r\"Affiliation':\\s'([\\s\\w,\\.]+)'\", record)           #affiliation\n",
    "        #print(\"Afiliação:\", *result)\n",
    "        afiliacao = result\n",
    "        Afiliacao = []\n",
    "        Afiliacao.append(afiliacao)\n",
    "        result = re.findall(r\"StringElement\\('([\\.\\(\\)\\-\\w\\/]+)',\\sattributes={'IdType':\\s'doi'}\", record)   #DOI\n",
    "        #print(\"DOI:\", *result)\n",
    "        doi = result\n",
    "        DOI = []\n",
    "        DOI.append(doi)\n",
    "        #print(DOI)\n",
    "    except: \n",
    "        Abstract.append(' ')\n",
    "        Afiliacao.append(' ')\n",
    "        DOI.append(' ')"
   ]
  },
  {
   "attachments": {},
   "cell_type": "markdown",
   "metadata": {},
   "source": [
    "# Features"
   ]
  },
  {
   "cell_type": "code",
   "execution_count": 21,
   "metadata": {},
   "outputs": [
    {
     "name": "stdout",
     "output_type": "stream",
     "text": [
      "[0:231](+)\n"
     ]
    }
   ],
   "source": [
    "source = str(seq_record.features[0].location)     #source\n",
    "print(source)"
   ]
  },
  {
   "cell_type": "code",
   "execution_count": 24,
   "metadata": {},
   "outputs": [
    {
     "name": "stdout",
     "output_type": "stream",
     "text": [
      "Taxon: [['11676']]\n"
     ]
    }
   ],
   "source": [
    "ole = str(seq_record.features[0].qualifiers[\"db_xref\"])     #taxon\n",
    "#print(ole)\n",
    "import re\n",
    "er = re.findall(r'taxon:(\\d+)\\'', ole)\n",
    "taxon = []\n",
    "taxon.append(er)\n",
    "print('Taxon:', taxon)"
   ]
  },
  {
   "cell_type": "code",
   "execution_count": 25,
   "metadata": {},
   "outputs": [
    {
     "name": "stdout",
     "output_type": "stream",
     "text": [
      "1\n"
     ]
    }
   ],
   "source": [
    "genes = []                        #gene\n",
    "for c in range(len(seq_record.features)):\n",
    "    if seq_record.features[c].type == \"gene\":\n",
    "        genes.append(c)\n",
    "GENES = len(genes)\n",
    "print(GENES)"
   ]
  },
  {
   "cell_type": "code",
   "execution_count": 26,
   "metadata": {},
   "outputs": [
    {
     "name": "stdout",
     "output_type": "stream",
     "text": [
      "0\n"
     ]
    }
   ],
   "source": [
    "mrna = []                         #mrna\n",
    "for z in range(len(seq_record.features)):\n",
    "    if seq_record.features[z].type == \"mRNA\":\n",
    "        mrna.append(z)\n",
    "mRNA = len(mrna)\n",
    "print(mRNA)"
   ]
  },
  {
   "cell_type": "code",
   "execution_count": 27,
   "metadata": {},
   "outputs": [
    {
     "name": "stdout",
     "output_type": "stream",
     "text": [
      "0\n"
     ]
    }
   ],
   "source": [
    "regulatory = []                   #regulatory\n",
    "for z in range(len(seq_record.features)):\n",
    "    if seq_record.features[z].type == \"regulatory\":\n",
    "        regulatory.append(z)\n",
    "Regulatory = len(regulatory)\n",
    "print(Regulatory)"
   ]
  },
  {
   "cell_type": "code",
   "execution_count": 28,
   "metadata": {},
   "outputs": [
    {
     "name": "stdout",
     "output_type": "stream",
     "text": [
      "0\n"
     ]
    }
   ],
   "source": [
    "protein_bind = []                  #protein_bind\n",
    "for b in range(len(seq_record.features)):\n",
    "    if seq_record.features[b].type == \"protein_bind\":\n",
    "        protein_bind.append(b)\n",
    "ProteinBind = len(protein_bind)\n",
    "print(ProteinBind)"
   ]
  },
  {
   "cell_type": "code",
   "execution_count": 29,
   "metadata": {},
   "outputs": [
    {
     "name": "stdout",
     "output_type": "stream",
     "text": [
      "1\n"
     ]
    }
   ],
   "source": [
    "cds = []                       #CDS\n",
    "for i in range(len(seq_record.features)):\n",
    "    if seq_record.features[i].type == \"CDS\":\n",
    "        cds.append(i)\n",
    "CDS = len(cds)\n",
    "print(CDS)"
   ]
  },
  {
   "cell_type": "code",
   "execution_count": null,
   "metadata": {},
   "outputs": [],
   "source": [
    "miscfeature = []                       #misc_feature\n",
    "for i in range(len(seq_record.features)):\n",
    "    if seq_record.features[i].type == \"misc_feature\":\n",
    "        miscfeature.append(i)\n",
    "misc_feature = len(miscfeature)\n",
    "print(misc_feature) "
   ]
  },
  {
   "cell_type": "code",
   "execution_count": null,
   "metadata": {},
   "outputs": [],
   "source": [
    "miscdifference = []                       #misc_difference\n",
    "for i in range(len(seq_record.features)):\n",
    "    if seq_record.features[i].type == \"miscdifference\":\n",
    "        miscdifference.append(i)\n",
    "misc_difference = len(miscdifference)\n",
    "print(misc_difference)"
   ]
  },
  {
   "cell_type": "code",
   "execution_count": null,
   "metadata": {},
   "outputs": [],
   "source": [
    "sigpeptide = []                       #sig_peptide\n",
    "for i in range(len(seq_record.features)):\n",
    "    if seq_record.features[i].type == \"sig_peptide\":\n",
    "        sigpeptide.append(i)\n",
    "sig_peptide = len(sigpeptide)\n",
    "print(sig_peptide)"
   ]
  },
  {
   "attachments": {},
   "cell_type": "markdown",
   "metadata": {},
   "source": [
    "# CDS"
   ]
  },
  {
   "cell_type": "code",
   "execution_count": 30,
   "metadata": {},
   "outputs": [
    {
     "name": "stdout",
     "output_type": "stream",
     "text": [
      "['[<0:>231](+)']\n"
     ]
    }
   ],
   "source": [
    "CDS_loc = []           #localização\n",
    "for k in cds:\n",
    "    #print(seq_record.features[k].location)\n",
    "    CDS_loc.append(str(seq_record.features[k].location))\n",
    "print(CDS_loc)"
   ]
  },
  {
   "cell_type": "code",
   "execution_count": 31,
   "metadata": {},
   "outputs": [
    {
     "name": "stdout",
     "output_type": "stream",
     "text": [
      "[['gag']]\n"
     ]
    }
   ],
   "source": [
    "CDS_gene = []\n",
    "for k in genes: \n",
    "    if GENES > 0:\n",
    "        CDS_gene.append(seq_record.features[k].qualifiers['gene'])\n",
    "    else:\n",
    "        CDS_gene.append(\" \")\n",
    "print(CDS_gene)"
   ]
  },
  {
   "cell_type": "code",
   "execution_count": 32,
   "metadata": {},
   "outputs": [
    {
     "name": "stdout",
     "output_type": "stream",
     "text": [
      "[['AAB50165.1']]\n"
     ]
    }
   ],
   "source": [
    "CDS_id = []\n",
    "CDS_aa = []               #protein_id\n",
    "for k in cds:\n",
    "    if len(cds) > 0:                   \n",
    "        CDS_id.append(seq_record.features[k].qualifiers['protein_id'])\n",
    "        CDS_aa.append(seq_record.features[k].qualifiers['translation'])\n",
    "    else: \n",
    "        CDS_id.append(\" \")\n",
    "        CDS_aa.append(\" \")\n",
    "print(CDS_id, CDS_aa)"
   ]
  },
  {
   "attachments": {},
   "cell_type": "markdown",
   "metadata": {},
   "source": [
    "# Sequence"
   ]
  },
  {
   "cell_type": "code",
   "execution_count": 88,
   "metadata": {},
   "outputs": [
    {
     "name": "stdout",
     "output_type": "stream",
     "text": [
      "[Seq('CATCCAGTACATGCAGGGCCTATTGCACCAGGCCAAATGAGAGAACCAAGGGGA...CCC')]\n",
      "Seq('CATCCAGTACATGCAGGGCCTATTGCACCAGGCCAAATGAGAGAACCAAGGGGA...CCC\n"
     ]
    }
   ],
   "source": [
    "Seq = []                         #e se sequencia for muito grande? ------> RE\n",
    "seq = seq_record.seq\n",
    "Seq.append(seq)\n",
    "print(Seq)\n",
    "a = re.findall(r\"Seq\\('\\w+...\\w\\w\\w\", str(Seq))\n",
    "print(a[0])"
   ]
  },
  {
   "cell_type": "code",
   "execution_count": null,
   "metadata": {},
   "outputs": [],
   "source": []
  },
  {
   "attachments": {},
   "cell_type": "markdown",
   "metadata": {},
   "source": [
    "# Inserção de dados nas tabelas"
   ]
  },
  {
   "cell_type": "code",
   "execution_count": 35,
   "metadata": {},
   "outputs": [],
   "source": [
    "import mysql.connector\n",
    "from mysql.connector import Error\n",
    "import pandas as pd"
   ]
  },
  {
   "cell_type": "code",
   "execution_count": 64,
   "metadata": {},
   "outputs": [],
   "source": [
    "import mysql.connector\n",
    "db = mysql.connector.connect(host=\"127.0.0.1\",   \n",
    "                     user=\"root\",         \n",
    "                     passwd=\"Cardoso10@\",  \n",
    "                     db=\"trabalho\",\n",
    "                     auth_plugin = \"mysql_native_password\"\n",
    "                     ) "
   ]
  },
  {
   "cell_type": "code",
   "execution_count": null,
   "metadata": {},
   "outputs": [],
   "source": [
    "insert = \"INSERT INTO Gene_Bank (ACCESSION, VERSION, DEFINITION, KEYWORDS, ORGANISM, TAXONOMY) VALUES (%s,%s,%s,%s,%s,%s)\"\n",
    "valores = [\n",
    "    (accession, id, definicao, keywords, organismo, taxonomia),\n",
    "    (#seg entrada),\n",
    "    (#terc entrada)\n",
    "]\n",
    "\n",
    "#cur.executemany(insert, valores)\n"
   ]
  },
  {
   "cell_type": "code",
   "execution_count": 37,
   "metadata": {},
   "outputs": [
    {
     "data": {
      "text/plain": [
       "True"
      ]
     },
     "execution_count": 37,
     "metadata": {},
     "output_type": "execute_result"
    }
   ],
   "source": [
    "cur = db.cursor()                     #Primeira inserção\n",
    "cur.execute(\"\"\"\n",
    "        INSERT INTO Gene_Bank (ACCESSION, VERSION, DEFINITION, KEYWORDS, ORGANISM, TAXONOMY)\n",
    "        VALUES (%s,%s,%s,%s,%s,%s)\n",
    "        \"\"\",\n",
    "        (accession,id, definicao, keywords, organismo, taxonomia ))\n",
    "\n",
    "cur.execute(\"\"\"\n",
    "        INSERT INTO sequence (ACCESSION, Sequence)\n",
    "        VALUES (%s,%s)\n",
    "        \"\"\",\n",
    "        (accession, a[0]))\n",
    "\n",
    "cur.execute(\"\"\"\n",
    "        INSERT INTO Locus (ACCESSION, Locus_Name, Sequence_Length, Molecule_Type, Topology, GenBank_Division, Modification_name)\n",
    "        VALUES (%s,%s,%s,%s,%s,%s,%s)\n",
    "        \"\"\",\n",
    "        (accession, nome, tamanho, molecule_type, topologia, data_fyle_division,data_modificacao))\n",
    "\n",
    "cur.execute(\"\"\"\n",
    "        INSERT INTO Features (ACCESSION, source, Taxon, CDS, gene, mRNA, regulatory, protein_bind, misc_feature)\n",
    "        VALUES (%s,%s,%s,%s,%s,%s,%s,%s,%s)\n",
    "        \"\"\",\n",
    "        (accession, source, taxon[0][0], CDS, GENES, mRNA, Regulatory, ProteinBind, misc_feature))\n",
    "\n",
    "cur.execute(\"\"\"\n",
    "        INSERT INTO CDS (ACCESSION, Base_Span, protein_id, translation, gene)\n",
    "        VALUES (%s,%s,%s,%s,%s)\n",
    "        \"\"\",\n",
    "        (accession, CDS_loc[0], CDS_id[0][0], CDS_aa[0][0], CDS_gene[0][0]))\n",
    "\n",
    "cur.execute(\"\"\"\n",
    "        INSERT INTO Reference (accession, pubmed_id, title, journal, authors, consortium, comment)\n",
    "        VALUES (%s,%s,%s,%s,%s,%s,%s)\n",
    "        \"\"\",\n",
    "        (accession, ids_pubmed[0], title[0], \"journal\", authors[0], consortium[0], comment[0]))\n",
    "\n",
    "cur.execute(\"\"\"\n",
    "        INSERT INTO PubMed_Information (ACCESSION, Pubmed_id, title, DOI, abstract, affiliation, authors)\n",
    "        VALUES (%s,%s,%s,%s,%s,%s,%s)\n",
    "        \"\"\",\n",
    "        (accession, ids_pubmed[0], title[0], DOI[0][0], Abstract[0][0], Afiliacao[0][0], authors[0]))\n",
    "\n",
    "\n",
    "db.autocommit = True    \n",
    "cur.close()"
   ]
  }
 ],
 "metadata": {
  "kernelspec": {
   "display_name": "Python 3",
   "language": "python",
   "name": "python3"
  },
  "language_info": {
   "codemirror_mode": {
    "name": "ipython",
    "version": 3
   },
   "file_extension": ".py",
   "mimetype": "text/x-python",
   "name": "python",
   "nbconvert_exporter": "python",
   "pygments_lexer": "ipython3",
   "version": "3.10.7 (tags/v3.10.7:6cc6b13, Sep  5 2022, 14:08:36) [MSC v.1933 64 bit (AMD64)]"
  },
  "orig_nbformat": 4,
  "vscode": {
   "interpreter": {
    "hash": "4e1fc3fa23fb62f3f701e1450a48be1e01c4f473533356521fe76f63c343b8fd"
   }
  }
 },
 "nbformat": 4,
 "nbformat_minor": 2
}
