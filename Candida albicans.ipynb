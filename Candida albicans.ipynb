{
 "cells": [
  {
   "attachments": {},
   "cell_type": "markdown",
   "metadata": {},
   "source": [
    "# BioPython"
   ]
  },
  {
   "cell_type": "code",
   "execution_count": 1,
   "metadata": {},
   "outputs": [],
   "source": [
    "from Bio import Entrez\n",
    "from Bio import SeqIO\n",
    "from Bio import Medline\n",
    "Entrez.email='goncalocardoso2016@gmail.com'"
   ]
  },
  {
   "cell_type": "code",
   "execution_count": 2,
   "metadata": {},
   "outputs": [],
   "source": [
    "#input=()"
   ]
  },
  {
   "cell_type": "code",
   "execution_count": 3,
   "metadata": {},
   "outputs": [],
   "source": [
    "#id = input(\"Insira id do seu organismo\")"
   ]
  },
  {
   "cell_type": "code",
   "execution_count": 4,
   "metadata": {},
   "outputs": [
    {
     "name": "stdout",
     "output_type": "stream",
     "text": [
      "ID: U40454.1\n",
      "Name: CAU40454\n",
      "Description: Candida albicans topoisomerase type I (CATOP1) gene, complete cds\n",
      "Number of features: 5\n",
      "/molecule_type=DNA\n",
      "/topology=linear\n",
      "/data_file_division=PLN\n",
      "/date=27-JUL-1996\n",
      "/accessions=['U40454']\n",
      "/sequence_version=1\n",
      "/keywords=['']\n",
      "/source=Candida albicans\n",
      "/organism=Candida albicans\n",
      "/taxonomy=['Eukaryota', 'Fungi', 'Dikarya', 'Ascomycota', 'Saccharomycotina', 'Saccharomycetes', 'Saccharomycetales', 'Debaryomycetaceae', 'Candida/Lodderomyces clade', 'Candida']\n",
      "/references=[Reference(title='Identification of the gene encoding DNA topoisomerase I from Candida albicans', ...), Reference(title='Direct Submission', ...)]\n",
      "Seq('TTTTTGGTGATGGTTTTAGGCGCGACGTTAATCATTTTTACTATTGAGAATGTA...TCA')\n"
     ]
    }
   ],
   "source": [
    "handle = Entrez.efetch(db='nucleotide', id=\"U40454.1\", rettype='gb', retmode='text')\n",
    "seq_record = SeqIO.read(handle, \"gb\")\n",
    "print(seq_record)"
   ]
  },
  {
   "cell_type": "code",
   "execution_count": 5,
   "metadata": {},
   "outputs": [],
   "source": [
    "#SeqIO.write(seq_record, \"{id}.gb\", \"genbank\")\n"
   ]
  },
  {
   "cell_type": "code",
   "execution_count": 6,
   "metadata": {},
   "outputs": [],
   "source": [
    "#seq_record = SeqIO.read(\"{id}.gb\", \"gb\")"
   ]
  },
  {
   "attachments": {},
   "cell_type": "markdown",
   "metadata": {},
   "source": [
    "Tabela Gene_Bank"
   ]
  },
  {
   "cell_type": "code",
   "execution_count": 7,
   "metadata": {},
   "outputs": [
    {
     "name": "stdout",
     "output_type": "stream",
     "text": [
      "U40454.1\n"
     ]
    }
   ],
   "source": [
    "id = seq_record.id     #VERSAO\n",
    "print(id)"
   ]
  },
  {
   "cell_type": "code",
   "execution_count": 8,
   "metadata": {},
   "outputs": [
    {
     "name": "stdout",
     "output_type": "stream",
     "text": [
      "Candida albicans topoisomerase type I (CATOP1) gene, complete cds\n"
     ]
    }
   ],
   "source": [
    "definicao = seq_record.description         #descrição\n",
    "print(definicao)"
   ]
  },
  {
   "cell_type": "code",
   "execution_count": 9,
   "metadata": {},
   "outputs": [
    {
     "name": "stdout",
     "output_type": "stream",
     "text": [
      "U40454\n"
     ]
    }
   ],
   "source": [
    "accession = seq_record.annotations[\"accessions\"][0]       #accession\n",
    "print(accession)\n"
   ]
  },
  {
   "cell_type": "code",
   "execution_count": 10,
   "metadata": {},
   "outputs": [
    {
     "name": "stdout",
     "output_type": "stream",
     "text": [
      "\n"
     ]
    }
   ],
   "source": [
    "keywords = seq_record.annotations[\"keywords\"]\n",
    "keywords = ', '.join(keywords)                              #keywords\n",
    "print(keywords)"
   ]
  },
  {
   "cell_type": "code",
   "execution_count": 11,
   "metadata": {},
   "outputs": [
    {
     "name": "stdout",
     "output_type": "stream",
     "text": [
      "Candida albicans\n"
     ]
    }
   ],
   "source": [
    "organismo = seq_record.annotations[\"organism\"]      #organismo\n",
    "print(organismo)"
   ]
  },
  {
   "cell_type": "code",
   "execution_count": 12,
   "metadata": {},
   "outputs": [
    {
     "name": "stdout",
     "output_type": "stream",
     "text": [
      "Eukaryota, Fungi, Dikarya, Ascomycota, Saccharomycotina, Saccharomycetes, Saccharomycetales, Debaryomycetaceae, Candida/Lodderomyces clade, Candida\n"
     ]
    }
   ],
   "source": [
    "taxonomia = seq_record.annotations[\"taxonomy\"]  \n",
    "taxonomia = ', '.join(taxonomia)     #taxonomia\n",
    "print(taxonomia)"
   ]
  },
  {
   "attachments": {},
   "cell_type": "markdown",
   "metadata": {},
   "source": [
    "# Locus"
   ]
  },
  {
   "cell_type": "code",
   "execution_count": 13,
   "metadata": {},
   "outputs": [
    {
     "name": "stdout",
     "output_type": "stream",
     "text": [
      "27-JUL-1996\n"
     ]
    }
   ],
   "source": [
    "data_modificacao = seq_record.annotations[\"date\"]      #data\n",
    "print(data_modificacao)"
   ]
  },
  {
   "cell_type": "code",
   "execution_count": 14,
   "metadata": {},
   "outputs": [
    {
     "name": "stdout",
     "output_type": "stream",
     "text": [
      "3224\n"
     ]
    }
   ],
   "source": [
    "tamanho = len(seq_record.seq)       #sequence_length\n",
    "print(tamanho)"
   ]
  },
  {
   "cell_type": "code",
   "execution_count": 15,
   "metadata": {},
   "outputs": [
    {
     "name": "stdout",
     "output_type": "stream",
     "text": [
      "PLN\n"
     ]
    }
   ],
   "source": [
    "data_fyle_division = seq_record.annotations[\"data_file_division\"]        #gene_bank_division\n",
    "print(data_fyle_division)"
   ]
  },
  {
   "cell_type": "code",
   "execution_count": 16,
   "metadata": {},
   "outputs": [
    {
     "name": "stdout",
     "output_type": "stream",
     "text": [
      "DNA\n"
     ]
    }
   ],
   "source": [
    "molecule_type = seq_record.annotations[\"molecule_type\"]      #molecule_type\n",
    "print(molecule_type)"
   ]
  },
  {
   "cell_type": "code",
   "execution_count": 17,
   "metadata": {},
   "outputs": [
    {
     "name": "stdout",
     "output_type": "stream",
     "text": [
      "linear\n"
     ]
    }
   ],
   "source": [
    "topologia = seq_record.annotations[\"topology\"]            #topology\n",
    "print(topologia)"
   ]
  },
  {
   "cell_type": "code",
   "execution_count": 18,
   "metadata": {},
   "outputs": [
    {
     "name": "stdout",
     "output_type": "stream",
     "text": [
      "CAU40454\n"
     ]
    }
   ],
   "source": [
    "nome = seq_record.name         #nome\n",
    "print(nome)"
   ]
  },
  {
   "attachments": {},
   "cell_type": "markdown",
   "metadata": {},
   "source": [
    "# References"
   ]
  },
  {
   "cell_type": "code",
   "execution_count": 19,
   "metadata": {},
   "outputs": [
    {
     "name": "stdout",
     "output_type": "stream",
     "text": [
      "location: [0:3224]\n",
      "authors: Taylor,A., Giles,K., Sarthy,A.V., McGonigal,T. and Fostel,J.\n",
      "title: Identification of the gene encoding DNA topoisomerase I from Candida albicans\n",
      "journal: FEMS Microbiol. Lett. 138 (2-3), 113-121 (1996)\n",
      "medline id: \n",
      "pubmed id: 9026437\n",
      "comment: \n",
      " \n",
      "\n",
      "location: [0:3224]\n",
      "authors: Taylor,A., Giles,K., Sarthy,A.V., McGonigal,T. and Fostel,J.\n",
      "title: Direct Submission\n",
      "journal: Submitted (09-NOV-1995) Alison Taylor, Anit-Infectiv Division, Abbott Labs, 100 Abbott Park Rd., Abbott Park, IL 60064, USA\n",
      "medline id: \n",
      "pubmed id: \n",
      "comment: \n",
      " \n",
      "\n",
      "Nº de refs: 2\n",
      "IDs do PubMed: ['9026437', '']\n",
      "Authors: ['Taylor,A., Giles,K., Sarthy,A.V., McGonigal,T. and Fostel,J.', 'Taylor,A., Giles,K., Sarthy,A.V., McGonigal,T. and Fostel,J.']\n",
      "Journal: ['FEMS Microbiol. Lett. 138 (2-3), 113-121 (1996)', 'Submitted (09-NOV-1995) Alison Taylor, Anit-Infectiv Division, Abbott Labs, 100 Abbott Park Rd., Abbott Park, IL 60064, USA']\n",
      "Consortium: ['', '']\n",
      "Comment: ['', '']\n",
      "Title: ['Identification of the gene encoding DNA topoisomerase I from Candida albicans', 'Direct Submission']\n"
     ]
    }
   ],
   "source": [
    "refs = []                                                     #author, pubmed_id, journal, consortium, remark, title\n",
    "ids_pubmed = []\n",
    "authors = []\n",
    "journal = []\n",
    "consortium = []\n",
    "comment = []\n",
    "title = []\n",
    "for x in range(len(seq_record.annotations[\"references\"])):\n",
    "    print(seq_record.annotations[\"references\"][x],\"\\n\")\n",
    "    refs.append(x)\n",
    "    authors.append(seq_record.annotations[\"references\"][x].authors)\n",
    "    ids_pubmed.append(seq_record.annotations[\"references\"][x].pubmed_id)\n",
    "    journal.append(seq_record.annotations[\"references\"][x].journal)\n",
    "    consortium.append(seq_record.annotations[\"references\"][x].consrtm)\n",
    "    comment.append(seq_record.annotations[\"references\"][x].comment)\n",
    "    title.append(seq_record.annotations[\"references\"][x].title)\n",
    "print(\"Nº de refs:\", len(refs))\n",
    "print(\"IDs do PubMed:\", ids_pubmed)\n",
    "print(\"Authors:\", authors)\n",
    "print(\"Journal:\", journal)\n",
    "print(\"Consortium:\", consortium)\n",
    "print(\"Comment:\", comment)\n",
    "print(\"Title:\", title)"
   ]
  },
  {
   "attachments": {},
   "cell_type": "markdown",
   "metadata": {},
   "source": [
    "# Pubmed_Info"
   ]
  },
  {
   "cell_type": "code",
   "execution_count": 20,
   "metadata": {},
   "outputs": [],
   "source": [
    "import re                                                                    \n",
    "for y in ids_pubmed:\n",
    "    try:\n",
    "        handle = Entrez.efetch(db=\"pubmed\", id=y, retmode=\"xml\")\n",
    "        record = Entrez.read(handle)\n",
    "        record = str(record)\n",
    "        Abstract = []\n",
    "        result = re.findall(r'AbstractText\\':\\s\\[[\\'\\\"]([.\\s\\.\\,\\[\\]\\(\\)\\'\\w\\-]+)[\\'\\\"]', record)       #abstract\n",
    "        #print(\"Abstract:\",\"\\n\", *abstract)\n",
    "        abstract = result\n",
    "        Abstract.append(abstract)\n",
    "        result = re.findall(r\"Affiliation':\\s'([\\s\\w\\,\\.\\-]+)'\", record)           #affiliation\n",
    "        #print(\"Afiliação:\", *result)\n",
    "        afiliacao = result\n",
    "        Afiliacao = []\n",
    "        Afiliacao.append(afiliacao)\n",
    "        result = re.findall(r\"StringElement\\('([\\.\\(\\)\\-\\w\\/]+)',\\sattributes={'IdType':\\s'doi'}\", record)   #DOI\n",
    "        #print(\"DOI:\", *result)\n",
    "        doi = result\n",
    "        DOI = []\n",
    "        DOI.append(doi)\n",
    "        #print(DOI)\n",
    "    except: \n",
    "        Abstract.append(' ')\n",
    "        Afiliacao.append(' ')\n",
    "        DOI.append(' ')"
   ]
  },
  {
   "cell_type": "code",
   "execution_count": 21,
   "metadata": {},
   "outputs": [
    {
     "name": "stdout",
     "output_type": "stream",
     "text": [
      "[['A gene encoding a type I topoisomerase (TOP1) was isolated from Candida albicans, sequenced, and expressed in Saccharomyces cerevisiae. The TOP1 gene was identified from a C. albicans genomic library by hybridization with the product of a polymerase chain reaction with degenerate primer sets encoding regions conserved in other TOP1 genes. A clone containing an open reading frame of 2463 bp and predicted to encode a protein of 778 amino acids with sequence similarity to eukaryotic type I topoisomerases was identified. The C. albicans TOP1 gene restored camptothecin sensitivity and increased the topoisomerase activity in S. cerevisiae, indicating that the DNA fragment encodes a functional C. albicans topoisomerase I.'], ' ']\n",
      "[['Antifungal Biology, Anti-infective Division, Abbott Laboratories, Abbott Park, IL 60064, USA.'], ' ']\n",
      "[['10.1111/j.1574-6968.1996.tb08143.x'], ' ']\n"
     ]
    }
   ],
   "source": [
    "print(Abstract)\n",
    "print(Afiliacao)\n",
    "print(DOI)"
   ]
  },
  {
   "attachments": {},
   "cell_type": "markdown",
   "metadata": {},
   "source": [
    "# Features"
   ]
  },
  {
   "cell_type": "code",
   "execution_count": 22,
   "metadata": {},
   "outputs": [
    {
     "name": "stdout",
     "output_type": "stream",
     "text": [
      "[0:3224](+)\n"
     ]
    }
   ],
   "source": [
    "source = str(seq_record.features[0].location)     #source\n",
    "print(source)"
   ]
  },
  {
   "cell_type": "code",
   "execution_count": 23,
   "metadata": {},
   "outputs": [
    {
     "name": "stdout",
     "output_type": "stream",
     "text": [
      "Taxon: [['5476']]\n"
     ]
    }
   ],
   "source": [
    "ole = str(seq_record.features[0].qualifiers[\"db_xref\"])     #taxon\n",
    "#print(ole)\n",
    "import re\n",
    "er = re.findall(r'taxon:(\\d+)\\'', ole)\n",
    "taxon = []\n",
    "taxon.append(er)\n",
    "print('Taxon:', taxon)"
   ]
  },
  {
   "cell_type": "code",
   "execution_count": 24,
   "metadata": {},
   "outputs": [
    {
     "name": "stdout",
     "output_type": "stream",
     "text": [
      "0\n"
     ]
    }
   ],
   "source": [
    "genes = []                        #gene\n",
    "for c in range(len(seq_record.features)):\n",
    "    if seq_record.features[c].type == \"gene\":\n",
    "        genes.append(c)\n",
    "GENES = len(genes)\n",
    "print(GENES)"
   ]
  },
  {
   "cell_type": "code",
   "execution_count": 25,
   "metadata": {},
   "outputs": [
    {
     "name": "stdout",
     "output_type": "stream",
     "text": [
      "0\n"
     ]
    }
   ],
   "source": [
    "mrna = []                         #mrna\n",
    "for z in range(len(seq_record.features)):\n",
    "    if seq_record.features[z].type == \"mRNA\":\n",
    "        mrna.append(z)\n",
    "mRNA = len(mrna)\n",
    "print(mRNA)"
   ]
  },
  {
   "cell_type": "code",
   "execution_count": 26,
   "metadata": {},
   "outputs": [
    {
     "name": "stdout",
     "output_type": "stream",
     "text": [
      "0\n"
     ]
    }
   ],
   "source": [
    "regulatory = []                   #regulatory\n",
    "for z in range(len(seq_record.features)):\n",
    "    if seq_record.features[z].type == \"regulatory\":\n",
    "        regulatory.append(z)\n",
    "Regulatory = len(regulatory)\n",
    "print(Regulatory)"
   ]
  },
  {
   "cell_type": "code",
   "execution_count": 27,
   "metadata": {},
   "outputs": [
    {
     "name": "stdout",
     "output_type": "stream",
     "text": [
      "0\n"
     ]
    }
   ],
   "source": [
    "protein_bind = []                  #protein_bind\n",
    "for b in range(len(seq_record.features)):\n",
    "    if seq_record.features[b].type == \"protein_bind\":\n",
    "        protein_bind.append(b)\n",
    "ProteinBind = len(protein_bind)\n",
    "print(ProteinBind)"
   ]
  },
  {
   "cell_type": "code",
   "execution_count": 28,
   "metadata": {},
   "outputs": [
    {
     "name": "stdout",
     "output_type": "stream",
     "text": [
      "1\n"
     ]
    }
   ],
   "source": [
    "cds = []                       #CDS\n",
    "for i in range(len(seq_record.features)):\n",
    "    if seq_record.features[i].type == \"CDS\":\n",
    "        cds.append(i)\n",
    "CDS = len(cds)\n",
    "print(CDS)"
   ]
  },
  {
   "cell_type": "code",
   "execution_count": 29,
   "metadata": {},
   "outputs": [
    {
     "name": "stdout",
     "output_type": "stream",
     "text": [
      "2\n"
     ]
    }
   ],
   "source": [
    "miscfeature = []                       #misc_feature\n",
    "for i in range(len(seq_record.features)):\n",
    "    if seq_record.features[i].type == \"misc_feature\":\n",
    "        miscfeature.append(i)\n",
    "misc_feature = len(miscfeature)\n",
    "print(misc_feature) "
   ]
  },
  {
   "cell_type": "code",
   "execution_count": 30,
   "metadata": {},
   "outputs": [
    {
     "name": "stdout",
     "output_type": "stream",
     "text": [
      "0\n"
     ]
    }
   ],
   "source": [
    "miscdifference = []                       #misc_difference\n",
    "for i in range(len(seq_record.features)):\n",
    "    if seq_record.features[i].type == \"miscdifference\":\n",
    "        miscdifference.append(i)\n",
    "misc_difference = len(miscdifference)\n",
    "print(misc_difference)"
   ]
  },
  {
   "cell_type": "code",
   "execution_count": 31,
   "metadata": {},
   "outputs": [
    {
     "name": "stdout",
     "output_type": "stream",
     "text": [
      "1\n"
     ]
    }
   ],
   "source": [
    "sigpeptide = []                       #sig_peptide\n",
    "for i in range(len(seq_record.features)):\n",
    "    if seq_record.features[i].type == \"sig_peptide\":\n",
    "        sigpeptide.append(i)\n",
    "sig_peptide = len(sigpeptide)\n",
    "print(sig_peptide)"
   ]
  },
  {
   "attachments": {},
   "cell_type": "markdown",
   "metadata": {},
   "source": [
    "# CDS"
   ]
  },
  {
   "cell_type": "code",
   "execution_count": 32,
   "metadata": {},
   "outputs": [
    {
     "name": "stdout",
     "output_type": "stream",
     "text": [
      "['[473:2810](+)']\n"
     ]
    }
   ],
   "source": [
    "CDS_loc = []           #localização\n",
    "for k in cds:\n",
    "    #print(seq_record.features[k].location)\n",
    "    CDS_loc.append(str(seq_record.features[k].location))\n",
    "print(CDS_loc)"
   ]
  },
  {
   "cell_type": "code",
   "execution_count": 33,
   "metadata": {},
   "outputs": [
    {
     "name": "stdout",
     "output_type": "stream",
     "text": [
      "[]\n"
     ]
    }
   ],
   "source": [
    "CDS_gene = []\n",
    "for k in genes: \n",
    "    if GENES > 0:\n",
    "        CDS_gene.append(seq_record.features[k].qualifiers['gene'])\n",
    "    else:\n",
    "        CDS_gene.append(\" \")\n",
    "print(CDS_gene)"
   ]
  },
  {
   "cell_type": "code",
   "execution_count": 34,
   "metadata": {},
   "outputs": [
    {
     "name": "stdout",
     "output_type": "stream",
     "text": [
      "[['AAC49381.1']] [['MNSSDEEDIALSRLAKKSSSITSASTYEDDEDDDIPLAKKSRKKRVESDYEEDEDEVPLKKLSNGRAKKQVKTETKVKKEPKSANKSKSTSKKDTKVKKEKTTVKKESKATSTKVKEESKTQSDSQASVKSETPEEDQGYKWWEVNQEEEGDGYIKWQTLEHNGVMFPPPYEPLPSHVKLYYNNKPVNLPPEAEEVAGFYGAMLETDHAKNPVFQKNFFNDFLEVLKECGGCGVEIKKFEKLDFSKMYAHFEKLREEKKAMSREEKKRIKEEKEKEEEPYRTCYLNGRKELVGNFRIEPPGLFRGRGAHPKTGKLKRRVVSEQVTLNLGKDAKIPEPPAGHQWGEIRHDNEVTWLAMWKENISDSLKYVRFANNSSVKGQSDFKKFETARKLRDHVDSIRKDYTKMLKSEKMQDRQMATAMYLIDVFALRAGGEKGEDEADTVGCCSLRYEHVTLKPPNKVIFDLLGKDSIRFYQEVEVDKQVFKNLRIFKKSPKQPGDDLFDRINPSLVNRQLQNYMKGLTAKVFRTYNASKTMQDQIDIIENEGTVAEKVAKFNAANRTVAILCNHQRTVSKTHGDSVQRINDKLKKFMWQKIRLKKMILQLEPKLKKKDSKYFEEIDDLIKEDIEHIHHTIIKRQREQAKKKLERDNEKLKLEGKPLLTESDIKDKLDKIDELEKEYQKELKTGKPIVTKNATVEKLKQQIETLENRILNVSIQLKDKEDNSEVSLGTSKMNYIDPRLIVMFSKKFDVPIEKLFTKTLREKFIWAIESADENWRF']]\n"
     ]
    }
   ],
   "source": [
    "CDS_id = []\n",
    "CDS_aa = []               #protein_id\n",
    "for k in cds:\n",
    "    if len(cds) > 0:                   \n",
    "        CDS_id.append(seq_record.features[k].qualifiers['protein_id'])\n",
    "        CDS_aa.append(seq_record.features[k].qualifiers['translation'])\n",
    "    else: \n",
    "        CDS_id.append(\" \")\n",
    "        CDS_aa.append(\" \")\n",
    "print(CDS_id, CDS_aa)"
   ]
  },
  {
   "attachments": {},
   "cell_type": "markdown",
   "metadata": {},
   "source": [
    "# Sequence"
   ]
  },
  {
   "cell_type": "code",
   "execution_count": 35,
   "metadata": {},
   "outputs": [
    {
     "name": "stdout",
     "output_type": "stream",
     "text": [
      "[Seq('TTTTTGGTGATGGTTTTAGGCGCGACGTTAATCATTTTTACTATTGAGAATGTA...TCA')]\n",
      "Seq('TTTTTGGTGATGGTTTTAGGCGCGACGTTAATCATTTTTACTATTGAGAATGTA...TCA\n"
     ]
    }
   ],
   "source": [
    "Seq = []                         \n",
    "seq = seq_record.seq\n",
    "Seq.append(seq)\n",
    "print(Seq)\n",
    "a = re.findall(r\"Seq\\('\\w+...\\w\\w\\w\", str(Seq))\n",
    "print(a[0])"
   ]
  },
  {
   "cell_type": "code",
   "execution_count": null,
   "metadata": {},
   "outputs": [],
   "source": []
  },
  {
   "attachments": {},
   "cell_type": "markdown",
   "metadata": {},
   "source": [
    "# Inserção de dados nas tabelas"
   ]
  },
  {
   "cell_type": "code",
   "execution_count": 36,
   "metadata": {},
   "outputs": [],
   "source": [
    "import mysql.connector\n",
    "from mysql.connector import Error\n",
    "import pandas as pd"
   ]
  },
  {
   "cell_type": "code",
   "execution_count": 37,
   "metadata": {},
   "outputs": [],
   "source": [
    "import mysql.connector\n",
    "db = mysql.connector.connect(host=\"127.0.0.1\",   \n",
    "                     user=\"root\",         \n",
    "                     passwd=\"Cardoso10@\",  \n",
    "                     db=\"trabalho\",\n",
    "                     auth_plugin = \"mysql_native_password\"\n",
    "                     ) "
   ]
  },
  {
   "cell_type": "code",
   "execution_count": 38,
   "metadata": {},
   "outputs": [],
   "source": [
    "#insert = \"INSERT INTO Gene_Bank (ACCESSION, VERSION, DEFINITION, KEYWORDS, ORGANISM, TAXONOMY) VALUES (%s,%s,%s,%s,%s,%s)\"\n",
    "#valores = [\n",
    "    #(accession, id, definicao, keywords, organismo, taxonomia),\n",
    "    #(#seg entrada),\n",
    "    #(#terc entrada)\n",
    "#]\n",
    "\n",
    "#cur.executemany(insert, valores)\n"
   ]
  },
  {
   "cell_type": "code",
   "execution_count": 39,
   "metadata": {},
   "outputs": [
    {
     "ename": "DatabaseError",
     "evalue": "1364 (HY000): Field 'journal' doesn't have a default value",
     "output_type": "error",
     "traceback": [
      "\u001b[1;31m---------------------------------------------------------------------------\u001b[0m",
      "\u001b[1;31mMySQLInterfaceError\u001b[0m                       Traceback (most recent call last)",
      "File \u001b[1;32mc:\\Users\\Win10\\AppData\\Local\\Programs\\Python\\Python310\\lib\\site-packages\\mysql\\connector\\connection_cext.py:565\u001b[0m, in \u001b[0;36mCMySQLConnection.cmd_query\u001b[1;34m(self, query, raw, buffered, raw_as_string)\u001b[0m\n\u001b[0;32m    564\u001b[0m         query \u001b[39m=\u001b[39m query\u001b[39m.\u001b[39mencode(\u001b[39m\"\u001b[39m\u001b[39mutf-8\u001b[39m\u001b[39m\"\u001b[39m)\n\u001b[1;32m--> 565\u001b[0m     \u001b[39mself\u001b[39;49m\u001b[39m.\u001b[39;49m_cmysql\u001b[39m.\u001b[39;49mquery(\n\u001b[0;32m    566\u001b[0m         query,\n\u001b[0;32m    567\u001b[0m         raw\u001b[39m=\u001b[39;49mraw,\n\u001b[0;32m    568\u001b[0m         buffered\u001b[39m=\u001b[39;49mbuffered,\n\u001b[0;32m    569\u001b[0m         raw_as_string\u001b[39m=\u001b[39;49mraw_as_string,\n\u001b[0;32m    570\u001b[0m         query_attrs\u001b[39m=\u001b[39;49m\u001b[39mself\u001b[39;49m\u001b[39m.\u001b[39;49m_query_attrs,\n\u001b[0;32m    571\u001b[0m     )\n\u001b[0;32m    572\u001b[0m \u001b[39mexcept\u001b[39;00m MySQLInterfaceError \u001b[39mas\u001b[39;00m err:\n",
      "\u001b[1;31mMySQLInterfaceError\u001b[0m: Field 'journal' doesn't have a default value",
      "\nThe above exception was the direct cause of the following exception:\n",
      "\u001b[1;31mDatabaseError\u001b[0m                             Traceback (most recent call last)",
      "Cell \u001b[1;32mIn [39], line 38\u001b[0m\n\u001b[0;32m     26\u001b[0m cur\u001b[39m.\u001b[39mexecute(\u001b[39m\"\"\"\u001b[39m\n\u001b[0;32m     27\u001b[0m \u001b[39m        INSERT INTO CDS (VERSION, Base_Span, protein_id, translation, gene)\u001b[39m\n\u001b[0;32m     28\u001b[0m \u001b[39m        VALUES (\u001b[39m\u001b[39m%s\u001b[39;00m\u001b[39m,\u001b[39m\u001b[39m%s\u001b[39;00m\u001b[39m,\u001b[39m\u001b[39m%s\u001b[39;00m\u001b[39m,\u001b[39m\u001b[39m%s\u001b[39;00m\u001b[39m,\u001b[39m\u001b[39m%s\u001b[39;00m\u001b[39m)\u001b[39m\n\u001b[0;32m     29\u001b[0m \u001b[39m        \u001b[39m\u001b[39m\"\"\"\u001b[39m,\n\u001b[0;32m     30\u001b[0m         (\u001b[39mid\u001b[39m, CDS_loc[\u001b[39m0\u001b[39m], CDS_id[\u001b[39m0\u001b[39m][\u001b[39m0\u001b[39m], CDS_aa[\u001b[39m0\u001b[39m][\u001b[39m0\u001b[39m], \u001b[39mstr\u001b[39m(CDS_gene)))\n\u001b[0;32m     32\u001b[0m cur\u001b[39m.\u001b[39mexecute(\u001b[39m\"\"\"\u001b[39m\n\u001b[0;32m     33\u001b[0m \u001b[39m        INSERT INTO Reference (VERSION, pubmed_id, title, journal, authors, consortium, comment)\u001b[39m\n\u001b[0;32m     34\u001b[0m \u001b[39m        VALUES (\u001b[39m\u001b[39m%s\u001b[39;00m\u001b[39m,\u001b[39m\u001b[39m%s\u001b[39;00m\u001b[39m,\u001b[39m\u001b[39m%s\u001b[39;00m\u001b[39m,\u001b[39m\u001b[39m%s\u001b[39;00m\u001b[39m,\u001b[39m\u001b[39m%s\u001b[39;00m\u001b[39m,\u001b[39m\u001b[39m%s\u001b[39;00m\u001b[39m,\u001b[39m\u001b[39m%s\u001b[39;00m\u001b[39m)\u001b[39m\n\u001b[0;32m     35\u001b[0m \u001b[39m        \u001b[39m\u001b[39m\"\"\"\u001b[39m,\n\u001b[0;32m     36\u001b[0m         (\u001b[39mid\u001b[39m, ids_pubmed[\u001b[39m0\u001b[39m], title[\u001b[39m0\u001b[39m], journal[\u001b[39m0\u001b[39m], authors[\u001b[39m0\u001b[39m], consortium[\u001b[39m0\u001b[39m], comment[\u001b[39m0\u001b[39m]))\n\u001b[1;32m---> 38\u001b[0m cur\u001b[39m.\u001b[39;49mexecute(\u001b[39m\"\"\"\u001b[39;49m\n\u001b[0;32m     39\u001b[0m \u001b[39m        INSERT INTO PubMed_Information (VERSION, Pubmed_id, title, DOI, abstract, affiliation, authors)\u001b[39;49m\n\u001b[0;32m     40\u001b[0m \u001b[39m        VALUES (\u001b[39;49m\u001b[39m%s\u001b[39;49;00m\u001b[39m,\u001b[39;49m\u001b[39m%s\u001b[39;49;00m\u001b[39m,\u001b[39;49m\u001b[39m%s\u001b[39;49;00m\u001b[39m,\u001b[39;49m\u001b[39m%s\u001b[39;49;00m\u001b[39m,\u001b[39;49m\u001b[39m%s\u001b[39;49;00m\u001b[39m,\u001b[39;49m\u001b[39m%s\u001b[39;49;00m\u001b[39m,\u001b[39;49m\u001b[39m%s\u001b[39;49;00m\u001b[39m)\u001b[39;49m\n\u001b[0;32m     41\u001b[0m \u001b[39m        \u001b[39;49m\u001b[39m\"\"\"\u001b[39;49m,\n\u001b[0;32m     42\u001b[0m         (\u001b[39mid\u001b[39;49m, ids_pubmed[\u001b[39m0\u001b[39;49m], title[\u001b[39m0\u001b[39;49m], DOI[\u001b[39m0\u001b[39;49m][\u001b[39m0\u001b[39;49m], Abstract[\u001b[39m0\u001b[39;49m][\u001b[39m0\u001b[39;49m], Afiliacao[\u001b[39m0\u001b[39;49m][\u001b[39m0\u001b[39;49m], authors[\u001b[39m0\u001b[39;49m]))\n\u001b[0;32m     45\u001b[0m db\u001b[39m.\u001b[39mautocommit \u001b[39m=\u001b[39m \u001b[39mTrue\u001b[39;00m    \n\u001b[0;32m     46\u001b[0m cur\u001b[39m.\u001b[39mclose()\n",
      "File \u001b[1;32mc:\\Users\\Win10\\AppData\\Local\\Programs\\Python\\Python310\\lib\\site-packages\\mysql\\connector\\cursor_cext.py:279\u001b[0m, in \u001b[0;36mCMySQLCursor.execute\u001b[1;34m(self, operation, params, multi)\u001b[0m\n\u001b[0;32m    274\u001b[0m             \u001b[39mraise\u001b[39;00m ProgrammingError(\n\u001b[0;32m    275\u001b[0m                 \u001b[39m\"\u001b[39m\u001b[39mNot all parameters were used in the SQL statement\u001b[39m\u001b[39m\"\u001b[39m\n\u001b[0;32m    276\u001b[0m             )\n\u001b[0;32m    278\u001b[0m \u001b[39mtry\u001b[39;00m:\n\u001b[1;32m--> 279\u001b[0m     result \u001b[39m=\u001b[39m \u001b[39mself\u001b[39;49m\u001b[39m.\u001b[39;49m_cnx\u001b[39m.\u001b[39;49mcmd_query(\n\u001b[0;32m    280\u001b[0m         stmt,\n\u001b[0;32m    281\u001b[0m         raw\u001b[39m=\u001b[39;49m\u001b[39mself\u001b[39;49m\u001b[39m.\u001b[39;49m_raw,\n\u001b[0;32m    282\u001b[0m         buffered\u001b[39m=\u001b[39;49m\u001b[39mself\u001b[39;49m\u001b[39m.\u001b[39;49m_buffered,\n\u001b[0;32m    283\u001b[0m         raw_as_string\u001b[39m=\u001b[39;49m\u001b[39mself\u001b[39;49m\u001b[39m.\u001b[39;49m_raw_as_string,\n\u001b[0;32m    284\u001b[0m     )\n\u001b[0;32m    285\u001b[0m \u001b[39mexcept\u001b[39;00m MySQLInterfaceError \u001b[39mas\u001b[39;00m err:\n\u001b[0;32m    286\u001b[0m     \u001b[39mraise\u001b[39;00m get_mysql_exception(\n\u001b[0;32m    287\u001b[0m         msg\u001b[39m=\u001b[39merr\u001b[39m.\u001b[39mmsg, errno\u001b[39m=\u001b[39merr\u001b[39m.\u001b[39merrno, sqlstate\u001b[39m=\u001b[39merr\u001b[39m.\u001b[39msqlstate\n\u001b[0;32m    288\u001b[0m     ) \u001b[39mfrom\u001b[39;00m \u001b[39merr\u001b[39;00m\n",
      "File \u001b[1;32mc:\\Users\\Win10\\AppData\\Local\\Programs\\Python\\Python310\\lib\\site-packages\\mysql\\connector\\connection_cext.py:573\u001b[0m, in \u001b[0;36mCMySQLConnection.cmd_query\u001b[1;34m(self, query, raw, buffered, raw_as_string)\u001b[0m\n\u001b[0;32m    565\u001b[0m     \u001b[39mself\u001b[39m\u001b[39m.\u001b[39m_cmysql\u001b[39m.\u001b[39mquery(\n\u001b[0;32m    566\u001b[0m         query,\n\u001b[0;32m    567\u001b[0m         raw\u001b[39m=\u001b[39mraw,\n\u001b[1;32m   (...)\u001b[0m\n\u001b[0;32m    570\u001b[0m         query_attrs\u001b[39m=\u001b[39m\u001b[39mself\u001b[39m\u001b[39m.\u001b[39m_query_attrs,\n\u001b[0;32m    571\u001b[0m     )\n\u001b[0;32m    572\u001b[0m \u001b[39mexcept\u001b[39;00m MySQLInterfaceError \u001b[39mas\u001b[39;00m err:\n\u001b[1;32m--> 573\u001b[0m     \u001b[39mraise\u001b[39;00m get_mysql_exception(\n\u001b[0;32m    574\u001b[0m         err\u001b[39m.\u001b[39merrno, msg\u001b[39m=\u001b[39merr\u001b[39m.\u001b[39mmsg, sqlstate\u001b[39m=\u001b[39merr\u001b[39m.\u001b[39msqlstate\n\u001b[0;32m    575\u001b[0m     ) \u001b[39mfrom\u001b[39;00m \u001b[39merr\u001b[39;00m\n\u001b[0;32m    576\u001b[0m \u001b[39mexcept\u001b[39;00m \u001b[39mAttributeError\u001b[39;00m \u001b[39mas\u001b[39;00m err:\n\u001b[0;32m    577\u001b[0m     addr \u001b[39m=\u001b[39m (\n\u001b[0;32m    578\u001b[0m         \u001b[39mself\u001b[39m\u001b[39m.\u001b[39m_unix_socket \u001b[39mif\u001b[39;00m \u001b[39mself\u001b[39m\u001b[39m.\u001b[39m_unix_socket \u001b[39melse\u001b[39;00m \u001b[39mf\u001b[39m\u001b[39m\"\u001b[39m\u001b[39m{\u001b[39;00m\u001b[39mself\u001b[39m\u001b[39m.\u001b[39m_host\u001b[39m}\u001b[39;00m\u001b[39m:\u001b[39m\u001b[39m{\u001b[39;00m\u001b[39mself\u001b[39m\u001b[39m.\u001b[39m_port\u001b[39m}\u001b[39;00m\u001b[39m\"\u001b[39m\n\u001b[0;32m    579\u001b[0m     )\n",
      "\u001b[1;31mDatabaseError\u001b[0m: 1364 (HY000): Field 'journal' doesn't have a default value"
     ]
    }
   ],
   "source": [
    "cur = db.cursor()                     #Primeira inserção\n",
    "cur.execute(\"\"\"\n",
    "        INSERT INTO Gene_Bank (ACCESSION, VERSION, DEFINITION, KEYWORDS, ORGANISM, TAXONOMY)\n",
    "        VALUES (%s,%s,%s,%s,%s,%s)\n",
    "        \"\"\",\n",
    "        (accession, id, definicao, keywords, organismo, taxonomia ))\n",
    "\n",
    "cur.execute(\"\"\"\n",
    "        INSERT INTO sequence (VERSION, Sequence)\n",
    "        VALUES (%s,%s)\n",
    "        \"\"\",\n",
    "        (id, a[0]))\n",
    "\n",
    "cur.execute(\"\"\"\n",
    "        INSERT INTO Locus (VERSION, Locus_Name, Sequence_Length, Molecule_Type, Topology, GenBank_Division, Modification_Date)\n",
    "        VALUES (%s,%s,%s,%s,%s,%s,%s)\n",
    "        \"\"\",\n",
    "        (id, nome, tamanho, molecule_type, topologia, data_fyle_division,data_modificacao))\n",
    "\n",
    "cur.execute(\"\"\"\n",
    "        INSERT INTO Features (VERSION, source, Taxon, CDS, gene, mRNA, regulatory, protein_bind, misc_features, misc_difference, sig_peptide)\n",
    "        VALUES (%s,%s,%s,%s,%s,%s,%s,%s,%s,%s,%s)\n",
    "        \"\"\",\n",
    "        (id, source, taxon[0][0], CDS, GENES, mRNA, Regulatory, ProteinBind, misc_feature, misc_difference, sig_peptide))\n",
    "\n",
    "cur.execute(\"\"\"\n",
    "        INSERT INTO CDS (VERSION, Base_Span, protein_id, translation, gene)\n",
    "        VALUES (%s,%s,%s,%s,%s)\n",
    "        \"\"\",\n",
    "        (id, CDS_loc[0], CDS_id[0][0], CDS_aa[0][0], str(CDS_gene)))\n",
    "\n",
    "cur.execute(\"\"\"\n",
    "        INSERT INTO Reference (VERSION, pubmed_id, title, journal, authors, consortium, comment)\n",
    "        VALUES (%s,%s,%s,%s,%s,%s,%s)\n",
    "        \"\"\",\n",
    "        (id, ids_pubmed[0], title[0], journal[0], authors[0], consortium[0], comment[0]))\n",
    "\n",
    "cur.execute(\"\"\"\n",
    "        INSERT INTO PubMed_Information (VERSION, Pubmed_id, title, DOI, abstract, affiliation, authors)\n",
    "        VALUES (%s,%s,%s,%s,%s,%s,%s)\n",
    "        \"\"\",\n",
    "        (id, ids_pubmed[0], title[0], DOI[0][0], Abstract[0][0], Afiliacao[0][0], authors[0]))\n",
    "\n",
    "\n",
    "db.autocommit = True    \n",
    "cur.close()"
   ]
  }
 ],
 "metadata": {
  "kernelspec": {
   "display_name": "Python 3",
   "language": "python",
   "name": "python3"
  },
  "language_info": {
   "codemirror_mode": {
    "name": "ipython",
    "version": 3
   },
   "file_extension": ".py",
   "mimetype": "text/x-python",
   "name": "python",
   "nbconvert_exporter": "python",
   "pygments_lexer": "ipython3",
   "version": "3.10.7"
  },
  "orig_nbformat": 4,
  "vscode": {
   "interpreter": {
    "hash": "4e1fc3fa23fb62f3f701e1450a48be1e01c4f473533356521fe76f63c343b8fd"
   }
  }
 },
 "nbformat": 4,
 "nbformat_minor": 2
}
