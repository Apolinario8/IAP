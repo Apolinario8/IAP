{
 "cells": [
  {
   "attachments": {},
   "cell_type": "markdown",
   "metadata": {},
   "source": [
    "# BioPython"
   ]
  },
  {
   "cell_type": "code",
   "execution_count": 7,
   "metadata": {},
   "outputs": [],
   "source": [
    "from Bio import Entrez\n",
    "from Bio import SeqIO\n",
    "from Bio import Medline\n",
    "Entrez.email='goncalocardoso2016@gmail.com'"
   ]
  },
  {
   "cell_type": "code",
   "execution_count": 8,
   "metadata": {},
   "outputs": [
    {
     "name": "stdout",
     "output_type": "stream",
     "text": [
      "ID: D78608.1\n",
      "Name: MTV180KP\n",
      "Description: Tobacco mosaic virus gene for 180K protein, complete cds\n",
      "Number of features: 8\n",
      "/molecule_type=RNA\n",
      "/topology=linear\n",
      "/data_file_division=VRL\n",
      "/date=15-JUN-2010\n",
      "/accessions=['D78608']\n",
      "/sequence_version=1\n",
      "/keywords=['']\n",
      "/source=Tobacco mosaic virus\n",
      "/organism=Tobacco mosaic virus\n",
      "/taxonomy=['Viruses', 'Riboviria', 'Orthornavirae', 'Kitrinoviricota', 'Alsuviricetes', 'Martellivirales', 'Virgaviridae', 'Tobamovirus']\n",
      "/references=[Reference(title='Nucleotide sequence and its character of cistron coding for the 30 K protein of tobacco mosaic virus (OM strain)', ...), Reference(title=\"The 5'-terminal sequence of TMV RNA. Question on the polymorphism found in vulgare strain\", ...), Reference(title='Nucleotide sequence of the coding region for 180K protein of tobacco mosaic virus common strain OM', ...), Reference(title='Direct Submission', ...)]\n",
      "/comment=On May 16, 1996 this sequence version replaced gi:1122220.\n",
      "Seq('ATGGCATACACACAGACAGCTACCACATCAGCTTTGCTGGACACTGTCCGAGGA...TAA')\n"
     ]
    }
   ],
   "source": [
    "handle = Entrez.efetch(db='nucleotide', id=\"D78608.1\", rettype='gb', retmode='text')\n",
    "seq_record = SeqIO.read(handle, \"gb\")\n",
    "print(seq_record)"
   ]
  },
  {
   "cell_type": "code",
   "execution_count": 19,
   "metadata": {},
   "outputs": [
    {
     "data": {
      "text/plain": [
       "1"
      ]
     },
     "execution_count": 19,
     "metadata": {},
     "output_type": "execute_result"
    }
   ],
   "source": [
    "SeqIO.write(seq_record, \"tobaco_mosaic_virus.gb\", \"genbank\")\n"
   ]
  },
  {
   "cell_type": "code",
   "execution_count": 20,
   "metadata": {},
   "outputs": [],
   "source": [
    "#seq_record = SeqIO.read(\"{id}.gb\", \"gb\")"
   ]
  },
  {
   "attachments": {},
   "cell_type": "markdown",
   "metadata": {},
   "source": [
    "Tabela Gene_Bank"
   ]
  },
  {
   "cell_type": "code",
   "execution_count": 9,
   "metadata": {},
   "outputs": [
    {
     "name": "stdout",
     "output_type": "stream",
     "text": [
      "D78608.1\n"
     ]
    }
   ],
   "source": [
    "id = seq_record.id     #VERSAO\n",
    "print(id)"
   ]
  },
  {
   "cell_type": "code",
   "execution_count": 10,
   "metadata": {},
   "outputs": [
    {
     "name": "stdout",
     "output_type": "stream",
     "text": [
      "Tobacco mosaic virus gene for 180K protein, complete cds\n"
     ]
    }
   ],
   "source": [
    "definicao = seq_record.description         #descrição\n",
    "print(definicao)"
   ]
  },
  {
   "cell_type": "code",
   "execution_count": 11,
   "metadata": {},
   "outputs": [
    {
     "name": "stdout",
     "output_type": "stream",
     "text": [
      "D78608\n"
     ]
    }
   ],
   "source": [
    "accession = seq_record.annotations[\"accessions\"][0]       #accession\n",
    "print(accession)\n"
   ]
  },
  {
   "cell_type": "code",
   "execution_count": 12,
   "metadata": {},
   "outputs": [
    {
     "name": "stdout",
     "output_type": "stream",
     "text": [
      "['']\n"
     ]
    }
   ],
   "source": [
    "Keywords = []                                       #keywrods\n",
    "keywords = seq_record.annotations[\"keywords\"]\n",
    "if len(keywords) > 0:\n",
    "    Keywords.append(', '.join(keywords))\n",
    "else:\n",
    "    Keywords.append(\".\")\n",
    "print(Keywords)\n"
   ]
  },
  {
   "cell_type": "code",
   "execution_count": 14,
   "metadata": {},
   "outputs": [
    {
     "name": "stdout",
     "output_type": "stream",
     "text": [
      "Tobacco mosaic virus\n"
     ]
    }
   ],
   "source": [
    "organismo = seq_record.annotations[\"organism\"]      #organismo\n",
    "print(organismo)"
   ]
  },
  {
   "cell_type": "code",
   "execution_count": 15,
   "metadata": {},
   "outputs": [
    {
     "name": "stdout",
     "output_type": "stream",
     "text": [
      "Viruses, Riboviria, Orthornavirae, Kitrinoviricota, Alsuviricetes, Martellivirales, Virgaviridae, Tobamovirus\n"
     ]
    }
   ],
   "source": [
    "taxonomia = seq_record.annotations[\"taxonomy\"]  \n",
    "taxonomia = ', '.join(taxonomia)     #taxonomia\n",
    "print(taxonomia)"
   ]
  },
  {
   "attachments": {},
   "cell_type": "markdown",
   "metadata": {},
   "source": [
    "# Locus"
   ]
  },
  {
   "cell_type": "code",
   "execution_count": 16,
   "metadata": {},
   "outputs": [
    {
     "name": "stdout",
     "output_type": "stream",
     "text": [
      "15-JUN-2010\n"
     ]
    }
   ],
   "source": [
    "data_modificacao = seq_record.annotations[\"date\"]      #data\n",
    "print(data_modificacao)"
   ]
  },
  {
   "cell_type": "code",
   "execution_count": 17,
   "metadata": {},
   "outputs": [
    {
     "name": "stdout",
     "output_type": "stream",
     "text": [
      "4851\n"
     ]
    }
   ],
   "source": [
    "tamanho = len(seq_record.seq)       #sequence_length\n",
    "print(tamanho)"
   ]
  },
  {
   "cell_type": "code",
   "execution_count": 18,
   "metadata": {},
   "outputs": [
    {
     "name": "stdout",
     "output_type": "stream",
     "text": [
      "VRL\n"
     ]
    }
   ],
   "source": [
    "data_fyle_division = seq_record.annotations[\"data_file_division\"]        #gene_bank_division\n",
    "print(data_fyle_division)"
   ]
  },
  {
   "cell_type": "code",
   "execution_count": 19,
   "metadata": {},
   "outputs": [
    {
     "name": "stdout",
     "output_type": "stream",
     "text": [
      "RNA\n"
     ]
    }
   ],
   "source": [
    "molecule_type = seq_record.annotations[\"molecule_type\"]      #molecule_type\n",
    "print(molecule_type)"
   ]
  },
  {
   "cell_type": "code",
   "execution_count": 20,
   "metadata": {},
   "outputs": [
    {
     "name": "stdout",
     "output_type": "stream",
     "text": [
      "linear\n"
     ]
    }
   ],
   "source": [
    "topologia = seq_record.annotations[\"topology\"]            #topology\n",
    "print(topologia)"
   ]
  },
  {
   "cell_type": "code",
   "execution_count": 21,
   "metadata": {},
   "outputs": [
    {
     "name": "stdout",
     "output_type": "stream",
     "text": [
      "MTV180KP\n"
     ]
    }
   ],
   "source": [
    "nome = seq_record.name         #nome\n",
    "print(nome)"
   ]
  },
  {
   "attachments": {},
   "cell_type": "markdown",
   "metadata": {},
   "source": [
    "# References"
   ]
  },
  {
   "cell_type": "code",
   "execution_count": 22,
   "metadata": {},
   "outputs": [
    {
     "name": "stdout",
     "output_type": "stream",
     "text": [
      "Nº de refs: 4\n",
      "IDs do PubMed: ['7096297', '6628671', '', '']\n",
      "Authors: ['Meshi,T., Ohno,T. and Okada,Y.', 'Meshi,T., Ishikawa,M., Takamatsu,N., Ohno,T. and Okada,Y.', 'Watanabe,T., Hibi,T. and Ishihama,A.', 'Watanabe,T.']\n",
      "Journal: ['J. Biochem. 91 (4), 1441-1444 (1982)', 'FEBS Lett. 162 (2), 282-285 (1983)', 'Unpublished', 'Submitted (04-DEC-1995) Contact:Takato Watanabe National Institute of Genetics, Department of Molecular Genetics; Yata 1111, Mishima, Shizuoka 411, Japan']\n",
      "Consortium: ['', '', '', '']\n",
      "Comment: ['', '', '', '']\n",
      "Title: ['Nucleotide sequence and its character of cistron coding for the 30 K protein of tobacco mosaic virus (OM strain)', \"The 5'-terminal sequence of TMV RNA. Question on the polymorphism found in vulgare strain\", 'Nucleotide sequence of the coding region for 180K protein of tobacco mosaic virus common strain OM', 'Direct Submission']\n"
     ]
    }
   ],
   "source": [
    "refs = []                                                     #author, pubmed_id, journal, consortium, remark, title\n",
    "ids_pubmed = []\n",
    "authors = []\n",
    "journal = []\n",
    "consortium = []\n",
    "comment = []\n",
    "title = []\n",
    "for x in range(len(seq_record.annotations[\"references\"])):\n",
    "    #print(seq_record.annotations[\"references\"][x],\"\\n\")\n",
    "    refs.append(x)\n",
    "    authors.append(seq_record.annotations[\"references\"][x].authors)\n",
    "    ids_pubmed.append(seq_record.annotations[\"references\"][x].pubmed_id)\n",
    "    journal.append(seq_record.annotations[\"references\"][x].journal)\n",
    "    consortium.append(seq_record.annotations[\"references\"][x].consrtm)\n",
    "    comment.append(seq_record.annotations[\"references\"][x].comment)\n",
    "    title.append(seq_record.annotations[\"references\"][x].title)\n",
    "print(\"Nº de refs:\", len(refs))\n",
    "print(\"IDs do PubMed:\", ids_pubmed)\n",
    "print(\"Authors:\", authors)\n",
    "print(\"Journal:\", journal)\n",
    "print(\"Consortium:\", consortium)\n",
    "print(\"Comment:\", comment)\n",
    "print(\"Title:\", title)"
   ]
  },
  {
   "cell_type": "code",
   "execution_count": null,
   "metadata": {},
   "outputs": [],
   "source": []
  },
  {
   "attachments": {},
   "cell_type": "markdown",
   "metadata": {},
   "source": [
    "# Pubmed_Info"
   ]
  },
  {
   "cell_type": "code",
   "execution_count": 23,
   "metadata": {},
   "outputs": [],
   "source": [
    "import re                                                                     #erro: nao apanha todas as entradas\n",
    "for y in ids_pubmed:\n",
    "    try:\n",
    "        handle = Entrez.efetch(db=\"pubmed\", id=y, retmode=\"xml\")\n",
    "        record = Entrez.read(handle)\n",
    "        record = str(record)\n",
    "        Abstract = []\n",
    "        result = re.findall(r'AbstractText\\':\\s\\[[\\'\\\"]([.\\s\\.\\,\\[\\]\\(\\)\\'\\w\\-]+)[\\'\\\"]', record)      #abstract\n",
    "        #print(\"Abstract:\",\"\\n\", *abstract)\n",
    "        abstract = result\n",
    "        Abstract.append(abstract)\n",
    "        result = re.findall(r\"Affiliation':\\s'([\\s\\w\\,\\.\\-]+)'\", record)           #affiliation\n",
    "        #print(\"Afiliação:\", *result)\n",
    "        afiliacao = result\n",
    "        Afiliacao = []\n",
    "        Afiliacao.append(afiliacao)\n",
    "        result = re.findall(r\"StringElement\\('([\\.\\(\\)\\-\\w\\/]+)',\\sattributes={'IdType':\\s'doi'}\", record)   #DOI\n",
    "        #print(\"DOI:\", *result)\n",
    "        doi = result\n",
    "        DOI = []\n",
    "        DOI.append(doi)\n",
    "        #print(DOI)\n",
    "    except: \n",
    "        Abstract.append(' ')\n",
    "        Afiliacao.append(' ')\n",
    "        DOI.append(' ')\n",
    "\n"
   ]
  },
  {
   "cell_type": "code",
   "execution_count": 24,
   "metadata": {},
   "outputs": [
    {
     "name": "stdout",
     "output_type": "stream",
     "text": [
      "[[], ' ', ' ']\n",
      "[[\"The complete nucleotide sequence of TMV RNA (common strain) reported in [Proc. Natl. Acad. Sci. USA (1982) 79, 5818] its 5'-end to be represented by two variants which differed in length. We have tested that result and sequenced the 5'-terminal regions of two strains of TMV RNA (common strain OM and tomato strain L) using cloned cDNA copies. The results showed that the 5'-terminal region of the TMV genome is not polymorphic and that one of the two variants cited above represents a tomato strain but not the common strain.\"], ' ', ' ']\n",
      "[['10.1016/0014-5793(83)80772-8'], ' ', ' ']\n"
     ]
    }
   ],
   "source": [
    "print(Afiliacao)\n",
    "print(Abstract)\n",
    "print(DOI)"
   ]
  },
  {
   "attachments": {},
   "cell_type": "markdown",
   "metadata": {},
   "source": [
    "# Features"
   ]
  },
  {
   "cell_type": "code",
   "execution_count": 78,
   "metadata": {},
   "outputs": [
    {
     "name": "stdout",
     "output_type": "stream",
     "text": [
      "[0:4851](+)\n"
     ]
    }
   ],
   "source": [
    "source = str(seq_record.features[0].location)     #source\n",
    "print(source)"
   ]
  },
  {
   "cell_type": "code",
   "execution_count": 79,
   "metadata": {},
   "outputs": [
    {
     "name": "stdout",
     "output_type": "stream",
     "text": [
      "Taxon: [['12242']]\n"
     ]
    }
   ],
   "source": [
    "ole = str(seq_record.features[0].qualifiers[\"db_xref\"])     #taxon\n",
    "#print(ole)\n",
    "import re\n",
    "er = re.findall(r'taxon:(\\d+)\\'', ole)\n",
    "taxon = []\n",
    "taxon.append(er)\n",
    "print('Taxon:', taxon)"
   ]
  },
  {
   "cell_type": "code",
   "execution_count": 81,
   "metadata": {},
   "outputs": [
    {
     "name": "stdout",
     "output_type": "stream",
     "text": [
      "0\n"
     ]
    }
   ],
   "source": [
    "genes = []                        #gene\n",
    "for c in range(len(seq_record.features)):\n",
    "    if seq_record.features[c].type == \"gene\":\n",
    "        genes.append(c)\n",
    "GENES = len(genes)\n",
    "print(GENES)"
   ]
  },
  {
   "cell_type": "code",
   "execution_count": 82,
   "metadata": {},
   "outputs": [
    {
     "name": "stdout",
     "output_type": "stream",
     "text": [
      "0\n"
     ]
    }
   ],
   "source": [
    "mrna = []                         #mrna\n",
    "for z in range(len(seq_record.features)):\n",
    "    if seq_record.features[z].type == \"mRNA\":\n",
    "        mrna.append(z)\n",
    "mRNA = len(mrna)\n",
    "print(mRNA)"
   ]
  },
  {
   "cell_type": "code",
   "execution_count": 83,
   "metadata": {},
   "outputs": [
    {
     "name": "stdout",
     "output_type": "stream",
     "text": [
      "0\n"
     ]
    }
   ],
   "source": [
    "regulatory = []                   #regulatory\n",
    "for z in range(len(seq_record.features)):\n",
    "    if seq_record.features[z].type == \"regulatory\":\n",
    "        regulatory.append(z)\n",
    "Regulatory = len(regulatory)\n",
    "print(Regulatory)"
   ]
  },
  {
   "cell_type": "code",
   "execution_count": 84,
   "metadata": {},
   "outputs": [
    {
     "name": "stdout",
     "output_type": "stream",
     "text": [
      "0\n"
     ]
    }
   ],
   "source": [
    "protein_bind = []                  #protein_bind\n",
    "for b in range(len(seq_record.features)):\n",
    "    if seq_record.features[b].type == \"protein_bind\":\n",
    "        protein_bind.append(b)\n",
    "ProteinBind = len(protein_bind)\n",
    "print(ProteinBind)"
   ]
  },
  {
   "cell_type": "code",
   "execution_count": 85,
   "metadata": {},
   "outputs": [
    {
     "name": "stdout",
     "output_type": "stream",
     "text": [
      "2\n"
     ]
    }
   ],
   "source": [
    "cds = []                       #CDS\n",
    "for i in range(len(seq_record.features)):\n",
    "    if seq_record.features[i].type == \"CDS\":\n",
    "        cds.append(i)\n",
    "CDS = len(cds)\n",
    "print(CDS)"
   ]
  },
  {
   "cell_type": "code",
   "execution_count": 86,
   "metadata": {},
   "outputs": [
    {
     "name": "stdout",
     "output_type": "stream",
     "text": [
      "0\n"
     ]
    }
   ],
   "source": [
    "miscfeature = []                       #misc_feature\n",
    "for i in range(len(seq_record.features)):\n",
    "    if seq_record.features[i].type == \"misc_feature\":\n",
    "        miscfeature.append(i)\n",
    "misc_feature = len(miscfeature)\n",
    "print(misc_feature) "
   ]
  },
  {
   "cell_type": "code",
   "execution_count": 88,
   "metadata": {},
   "outputs": [
    {
     "name": "stdout",
     "output_type": "stream",
     "text": [
      "5\n"
     ]
    }
   ],
   "source": [
    "miscdifference = []                       #misc_difference\n",
    "for i in range(len(seq_record.features)):\n",
    "    if seq_record.features[i].type == \"misc_difference\":\n",
    "        miscdifference.append(i)\n",
    "misc_difference = len(miscdifference)\n",
    "print(misc_difference)"
   ]
  },
  {
   "cell_type": "code",
   "execution_count": null,
   "metadata": {},
   "outputs": [],
   "source": [
    "sigpeptide = []                       #sig_peptide\n",
    "for i in range(len(seq_record.features)):\n",
    "    if seq_record.features[i].type == \"sig_peptide\":\n",
    "        sigpeptide.append(i)\n",
    "sig_peptide = len(sigpeptide)\n",
    "print(sig_peptide)"
   ]
  },
  {
   "attachments": {},
   "cell_type": "markdown",
   "metadata": {},
   "source": [
    "# CDS"
   ]
  },
  {
   "cell_type": "code",
   "execution_count": 89,
   "metadata": {},
   "outputs": [
    {
     "name": "stdout",
     "output_type": "stream",
     "text": [
      "['[0:4851](+)', '[0:3351](+)']\n"
     ]
    }
   ],
   "source": [
    "CDS_loc = []           #base_span\n",
    "for k in cds:\n",
    "    #print(seq_record.features[k].location)\n",
    "    CDS_loc.append(str(seq_record.features[k].location))\n",
    "print(CDS_loc)"
   ]
  },
  {
   "cell_type": "code",
   "execution_count": 93,
   "metadata": {},
   "outputs": [
    {
     "name": "stdout",
     "output_type": "stream",
     "text": [
      "[]\n"
     ]
    }
   ],
   "source": [
    "CDS_gene = []\n",
    "for k in genes: \n",
    "    if GENES > 0:\n",
    "        CDS_gene.append(seq_record.features[k].qualifiers['gene'])\n",
    "    else:\n",
    "        CDS_gene.append(\" \")\n",
    "print(CDS_gene)"
   ]
  },
  {
   "cell_type": "code",
   "execution_count": 97,
   "metadata": {},
   "outputs": [
    {
     "name": "stdout",
     "output_type": "stream",
     "text": [
      "[['BAA11429.1'], ['BAA11430.1']] [['MAYTQTATTSALLDTVRGNNSLVNDLAKRRLYDTAVEEFNARDRRPKVNFSKVISEEQTLIATRAYPEFQITFYNTQNAVHSLAGGLRSLELEYLMMQIPYGSLTYDIGGNFASHLFKGRAYVHCCMPNLDVRDIMRHEGQKDSIELYLSRLERGGKTVPNFQKEAFDRYAEIPEDAVCHNTFQTCEHQPMQQSGRVYAIALHSIYDIPADEFGAALLRKNVHTCYAAFHFSENLLLEDSYVNLDEINACFSRDGDKLTFSFASESTLNYCHSYSNILKYVCKTYFPASNREVYMKEFLVTRVNTWFCKFSRIDTFLLYKGVAHKSVDSEQFYTAMEDAWHYKKTLAMCNSERILLEDSSSVNYWFPKMRDMVIVPLFDISLETSKRTRKEVLVSKDFVFTVLNHIRTYQAKALTYANVLSFVESIRSRVIINGVTARSEWDVDKSLLQSLSMTFYLHTKLAVLKDDLLISKFSLGSKTVCQHVWDEISLAFGNAFPSVKERLLNRKLIRVAGDALEIRVPDLYVTFHDRLVTEYKASVDMPALDIRKKMEETEVMYNALSELSVLRESDKFDVDVFSQMCQSLEVDPMTAAKVIVAVMSNESGLTLTFERPTEANVALALQDQEKASEGALVVTSREVEEPSMKGSMARGELQLAGLAGDHPESSYSRNEEIESLEQFHMATADSLIRKQMSSIVYTGPIKVQQMKNFIDSLVASLSAAVSNLVKILKDTAAIDLETRQKFGVLDVASRKWLIKPTAKSHAWGVVETHARKYHVALLEYDEQGVVTCDDWRRVAVSSESVVYSDMAKLRTLRRLLRNGEPHVSSAKVVLVDGVPGCGKTKEILSRVNFDEDLILVPGKQAAEMIRRRANSSGIIVATKDNVKTVDSFMMNFGKSTRCQFKRLFIDEGLMLHTGCVNFLVAMSLCEIAYVYGDTQQIPYINRVSGFPYPAHFAKLEVDEVETRRTTLRCPADVTHYLNRRYEGFVMSTSSVKKSVSQEMVGGAAVINPISKPLHGKILTFTQSDKEALLSRGYSDVHTVHEVQGETYSDVSLVRLTPTPVSIIAGDSPHVLVALSRHTCSLKYYTVVMDPLVSIIRDLEKLSSYLLDMYKVDAGTQXQLQIDSVFKGSNLFVAAPKTGDISDMQFYYDKCLPGNSTMMNNFDAVTMRLTDISLNVKDCILDMSKSVAAPKDQIKPLTPMVRTAAEMPRQTGLLENLVAMIKRNFNAPELSGIIDIENTASLVVDKFFDSYLLKEKRKPNKNVSLFSRESLNRWLEKQEQVTIGQLADFDFVDLPAVDQYRHMIKAQPKQKLDTSIQTEYPALQTIVYHSKKINAIFGPLFSELTRQLLDSVDSSRFLFFTRKTPAQIEDFFGDLDSHVPMDVLELDISKYDKSQNEFHCAVEYEIWRRLGFEDFLGEVWKQGHRKTTLKDYTAGIKTCIWYQRKSGDVTTFIGNTVIIAACLASMLPMEKIIKGAFCGDDSLLYFPKGCEFPDVQHSANLMWNFEAKLFKKQYGYFCGRYVIHHDRGCIVYYDPLKLISKLGAKHIKDWEHLEEFRRSLCDVAVSLNNCAYYTQLDDAVREVHKTAPPGSFVYKSLVKFLSDKVLFRSLFIDGSSC'], ['MAYTQTATTSALLDTVRGNNSLVNDLAKRRLYDTAVEEFNARDRRPKVNFSKVISEEQTLIATRAYPEFQITFYNTQNAVHSLAGGLRSLELEYLMMQIPYGSLTYDIGGNFASHLFKGRAYVHCCMPNLDVRDIMRHEGQKDSIELYLSRLERGGKTVPNFQKEAFDRYAEIPEDAVCHNTFQTCEHQPMQQSGRVYAIALHSIYDIPADEFGAALLRKNVHTCYAAFHFSENLLLEDSYVNLDEINACFSRDGDKLTFSFASESTLNYCHSYSNILKYVCKTYFPASNREVYMKEFLVTRVNTWFCKFSRIDTFLLYKGVAHKSVDSEQFYTAMEDAWHYKKTLAMCNSERILLEDSSSVNYWFPKMRDMVIVPLFDISLETSKRTRKEVLVSKDFVFTVLNHIRTYQAKALTYANVLSFVESIRSRVIINGVTARSEWDVDKSLLQSLSMTFYLHTKLAVLKDDLLISKFSLGSKTVCQHVWDEISLAFGNAFPSVKERLLNRKLIRVAGDALEIRVPDLYVTFHDRLVTEYKASVDMPALDIRKKMEETEVMYNALSELSVLRESDKFDVDVFSQMCQSLEVDPMTAAKVIVAVMSNESGLTLTFERPTEANVALALQDQEKASEGALVVTSREVEEPSMKGSMARGELQLAGLAGDHPESSYSRNEEIESLEQFHMATADSLIRKQMSSIVYTGPIKVQQMKNFIDSLVASLSAAVSNLVKILKDTAAIDLETRQKFGVLDVASRKWLIKPTAKSHAWGVVETHARKYHVALLEYDEQGVVTCDDWRRVAVSSESVVYSDMAKLRTLRRLLRNGEPHVSSAKVVLVDGVPGCGKTKEILSRVNFDEDLILVPGKQAAEMIRRRANSSGIIVATKDNVKTVDSFMMNFGKSTRCQFKRLFIDEGLMLHTGCVNFLVAMSLCEIAYVYGDTQQIPYINRVSGFPYPAHFAKLEVDEVETRRTTLRCPADVTHYLNRRYEGFVMSTSSVKKSVSQEMVGGAAVINPISKPLHGKILTFTQSDKEALLSRGYSDVHTVHEVQGETYSDVSLVRLTPTPVSIIAGDSPHVLVALSRHTCSLKYYTVVMDPLVSIIRDLEKLSSYLLDMYKVDAGTQ']]\n"
     ]
    }
   ],
   "source": [
    "CDS_id = []\n",
    "CDS_aa = []               #protein_id\n",
    "for k in cds:\n",
    "    if len(cds) > 0:                   \n",
    "        CDS_id.append(seq_record.features[k].qualifiers['protein_id'])\n",
    "        CDS_aa.append(seq_record.features[k].qualifiers['translation'])\n",
    "    else: \n",
    "        CDS_id.append(\" \")\n",
    "        CDS_aa.append(\" \")\n",
    "print(CDS_id, CDS_aa)"
   ]
  },
  {
   "attachments": {},
   "cell_type": "markdown",
   "metadata": {},
   "source": [
    "# Sequence"
   ]
  },
  {
   "cell_type": "code",
   "execution_count": 98,
   "metadata": {},
   "outputs": [
    {
     "name": "stdout",
     "output_type": "stream",
     "text": [
      "[Seq('ATGGCATACACACAGACAGCTACCACATCAGCTTTGCTGGACACTGTCCGAGGA...TAA')]\n",
      "Seq('ATGGCATACACACAGACAGCTACCACATCAGCTTTGCTGGACACTGTCCGAGGA...TAA\n"
     ]
    }
   ],
   "source": [
    "Seq = []                         #e se sequencia for muito grande? ------> RE\n",
    "seq = seq_record.seq\n",
    "Seq.append(seq)\n",
    "print(Seq)\n",
    "a = re.findall(r\"Seq\\('\\w+...\\w\\w\\w\", str(Seq))\n",
    "print(a[0])"
   ]
  },
  {
   "cell_type": "code",
   "execution_count": null,
   "metadata": {},
   "outputs": [],
   "source": []
  },
  {
   "attachments": {},
   "cell_type": "markdown",
   "metadata": {},
   "source": [
    "# Inserção de dados nas tabelas"
   ]
  },
  {
   "cell_type": "code",
   "execution_count": 35,
   "metadata": {},
   "outputs": [],
   "source": [
    "import mysql.connector\n",
    "from mysql.connector import Error\n",
    "import pandas as pd"
   ]
  },
  {
   "cell_type": "code",
   "execution_count": 64,
   "metadata": {},
   "outputs": [],
   "source": [
    "import mysql.connector\n",
    "db = mysql.connector.connect(host=\"127.0.0.1\",   \n",
    "                     user=\"root\",         \n",
    "                     passwd=\"Cardoso10@\",  \n",
    "                     db=\"trabalho\",\n",
    "                     auth_plugin = \"mysql_native_password\"\n",
    "                     ) "
   ]
  },
  {
   "cell_type": "code",
   "execution_count": null,
   "metadata": {},
   "outputs": [],
   "source": [
    "#insert = \"INSERT INTO Gene_Bank (ACCESSION, VERSION, DEFINITION, KEYWORDS, ORGANISM, TAXONOMY) VALUES (%s,%s,%s,%s,%s,%s)\"\n",
    "#valores = [\n",
    "    (accession, id, definicao, keywords, organismo, taxonomia),\n",
    "    (#seg entrada),\n",
    "    (#terc entrada)\n",
    "#]\n",
    "\n",
    "#cur.executemany(insert, valores)\n"
   ]
  },
  {
   "cell_type": "code",
   "execution_count": 37,
   "metadata": {},
   "outputs": [
    {
     "data": {
      "text/plain": [
       "True"
      ]
     },
     "execution_count": 37,
     "metadata": {},
     "output_type": "execute_result"
    }
   ],
   "source": [
    "cur = db.cursor()                     #Primeira inserção\n",
    "cur.execute(\"\"\"\n",
    "        INSERT INTO Gene_Bank (ACCESSION, VERSION, DEFINITION, KEYWORDS, ORGANISM, TAXONOMY)\n",
    "        VALUES (%s,%s,%s,%s,%s,%s)\n",
    "        \"\"\",\n",
    "        (accession,id, definicao, keywords, organismo, taxonomia ))\n",
    "\n",
    "cur.execute(\"\"\"\n",
    "        INSERT INTO sequence (VERSION, Sequence)\n",
    "        VALUES (%s,%s)\n",
    "        \"\"\",\n",
    "        (id, a[0]))\n",
    "\n",
    "cur.execute(\"\"\"\n",
    "        INSERT INTO Locus (VERSION, Locus_Name, Sequence_Length, Molecule_Type, Topology, GenBank_Division, Modification_name)\n",
    "        VALUES (%s,%s,%s,%s,%s,%s,%s)\n",
    "        \"\"\",\n",
    "        (id, nome, tamanho, molecule_type, topologia, data_fyle_division,data_modificacao))\n",
    "\n",
    "cur.execute(\"\"\"\n",
    "        INSERT INTO Features (VERSION, source, Taxon, CDS, gene, mRNA, regulatory, protein_bind, misc_feature, misc_difference)\n",
    "        VALUES (%s,%s,%s,%s,%s,%s,%s,%s,%s)\n",
    "        \"\"\",\n",
    "        (id, source, taxon[0][0], CDS, GENES, mRNA, Regulatory, ProteinBind, misc_feature, misc_difference))\n",
    "\n",
    "cur.execute(\"\"\"\n",
    "        INSERT INTO CDS (VERSION, Base_Span, protein_id, translation, gene)\n",
    "        VALUES (%s,%s,%s,%s,%s)\n",
    "        \"\"\",\n",
    "        (id, CDS_loc[0], CDS_id[0][0], CDS_aa[0][0], CDS_gene[0][0]))\n",
    "\n",
    "cur.execute(\"\"\"\n",
    "        INSERT INTO Reference (VERSION, pubmed_id, title, journal, authors, consortium, comment)\n",
    "        VALUES (%s,%s,%s,%s,%s,%s,%s)\n",
    "        \"\"\",\n",
    "        (id, ids_pubmed[0], title[0], \"journal\", authors[0], consortium[0], comment[0]))\n",
    "\n",
    "cur.execute(\"\"\"\n",
    "        INSERT INTO PubMed_Information (VERSION, Pubmed_id, title, DOI, abstract, affiliation, authors)\n",
    "        VALUES (%s,%s,%s,%s,%s,%s,%s)\n",
    "        \"\"\",\n",
    "        (id, ids_pubmed[0], title[0], DOI[0][0], Abstract[0][0], Afiliacao[0][0], authors[0]))\n",
    "\n",
    "\n",
    "db.autocommit = True    \n",
    "cur.close()"
   ]
  }
 ],
 "metadata": {
  "kernelspec": {
   "display_name": "Python 3",
   "language": "python",
   "name": "python3"
  },
  "language_info": {
   "codemirror_mode": {
    "name": "ipython",
    "version": 3
   },
   "file_extension": ".py",
   "mimetype": "text/x-python",
   "name": "python",
   "nbconvert_exporter": "python",
   "pygments_lexer": "ipython3",
   "version": "3.10.7"
  },
  "orig_nbformat": 4,
  "vscode": {
   "interpreter": {
    "hash": "4e1fc3fa23fb62f3f701e1450a48be1e01c4f473533356521fe76f63c343b8fd"
   }
  }
 },
 "nbformat": 4,
 "nbformat_minor": 2
}
